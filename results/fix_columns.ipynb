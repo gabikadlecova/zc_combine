{
 "cells": [
  {
   "cell_type": "code",
   "execution_count": 12,
   "id": "initial_id",
   "metadata": {
    "collapsed": true,
    "ExecuteTime": {
     "end_time": "2024-01-31T17:30:28.010842700Z",
     "start_time": "2024-01-31T17:30:27.993410300Z"
    }
   },
   "outputs": [],
   "source": [
    "bench = 'tnb101_macro'\n",
    "suffix = '_full' if bench != 'nb101' and 'macro' not in bench else '_first'\n",
    "cfg = f'../zc_combine/configs/{bench}{suffix}.json'\n",
    "dataset = 'cifar10' if 'tnb101' not in bench else 'class_scene'"
   ]
  },
  {
   "cell_type": "code",
   "outputs": [],
   "source": [
    "from zc_combine.utils.script_utils import create_cache_filename\n",
    "from zc_combine.utils.script_utils import load_feature_proxy_dataset\n",
    "\n",
    "version_key = 'paper'\n",
    "cache_path = create_cache_filename('../scripts/cache_data/', cfg, None, version_key, True)\n",
    "\n",
    "_, data, y = load_feature_proxy_dataset('../data', bench, dataset, cfg=cfg, use_all_proxies=True,\n",
    "                                        cache_path=cache_path, version_key=version_key)"
   ],
   "metadata": {
    "collapsed": false,
    "ExecuteTime": {
     "end_time": "2024-01-31T17:30:38.643774400Z",
     "start_time": "2024-01-31T17:30:28.207680400Z"
    }
   },
   "id": "3a2340e4d74eba2",
   "execution_count": 13
  },
  {
   "cell_type": "code",
   "outputs": [
    {
     "name": "stdout",
     "output_type": "stream",
     "text": [
      "Loaded:  []\n",
      "More readable:  []\n"
     ]
    }
   ],
   "source": [
    "from zc_combine.fixes.operations import get_ops_edges_nb201, get_ops_edges_tnb101, get_ops_nb101, get_ops_nb301\n",
    "\n",
    "\n",
    "if bench == 'nb201':\n",
    "    ops, _ = get_ops_edges_nb201()\n",
    "elif bench == 'tnb101':    \n",
    "    ops, _ = get_ops_edges_tnb101()\n",
    "    ops = ops[:-1]  # no avg pooling\n",
    "elif bench == 'nb101':\n",
    "    ops = get_ops_nb101()\n",
    "elif bench == 'nb301':\n",
    "    ops = get_ops_nb301()\n",
    "elif bench == 'tnb101_macro':\n",
    "    ops = []\n",
    "else:\n",
    "    raise ValueError()\n",
    "\n",
    "print(\"Loaded: \", ops)\n",
    "\n",
    "better_op_names = {\n",
    "    'input': 'input',\n",
    "    'output': 'output',\n",
    "    'none': 'zero',\n",
    "    'skip_connect': 'skip',\n",
    "    'nor_conv_1x1': 'conv1x1',\n",
    "    'nor_conv_3x3': 'conv3x3',\n",
    "    'sep_conv_3x3': 'sepconv3x3',\n",
    "    'sep_conv_5x5': 'sepconv5x5',\n",
    "    'dil_conv_3x3': 'dilconv3x3',\n",
    "    'dil_conv_5x5': 'dilconv5x5',\n",
    "    'maxpool3x3': 'maxpool3x3',\n",
    "    'max_pool_3x3': 'maxpool3x3',\n",
    "    'avg_pool_3x3': 'avgpool3x3',\n",
    "    'conv1x1-bn-relu': 'conv1x1',\n",
    "    'conv3x3-bn-relu': 'conv3x3'\n",
    "}\n",
    "\n",
    "ops = [better_op_names[o] for o in ops]\n",
    "print(\"More readable: \", ops)"
   ],
   "metadata": {
    "collapsed": false,
    "ExecuteTime": {
     "end_time": "2024-01-31T17:30:42.137398300Z",
     "start_time": "2024-01-31T17:30:42.062849700Z"
    }
   },
   "id": "212c0f6a7ba4f0e3",
   "execution_count": 14
  },
  {
   "cell_type": "code",
   "outputs": [],
   "source": [
    "if bench != 'nb301':\n",
    "    op_map = {str(i): k for i, k in enumerate(ops)}\n",
    "else:\n",
    "    # out node is added\n",
    "    op_map = {str(i + 1): k for i, k in enumerate(ops)}\n",
    "\n",
    "if bench == 'nb101':\n",
    "    del op_map['0']\n",
    "    del op_map['1']  # no input/output node"
   ],
   "metadata": {
    "collapsed": false,
    "ExecuteTime": {
     "end_time": "2024-01-31T17:30:47.996230400Z",
     "start_time": "2024-01-31T17:30:47.951235400Z"
    }
   },
   "id": "e23f19c70ab9b097",
   "execution_count": 15
  },
  {
   "cell_type": "code",
   "outputs": [
    {
     "name": "stdout",
     "output_type": "stream",
     "text": [
      "[]\n"
     ]
    }
   ],
   "source": [
    "c = 'min_path_len_banned_(0)'\n",
    "if 'min_path' in c:\n",
    "    opset = eval(c.split('_banned_')[1])\n",
    "    if isinstance(opset, int):\n",
    "        opset = (opset,)\n",
    "    inverse_set = [i for i in op_map.keys() if i not in opset]\n",
    "    print(inverse_set)"
   ],
   "metadata": {
    "collapsed": false,
    "ExecuteTime": {
     "end_time": "2024-01-31T17:30:49.544647600Z",
     "start_time": "2024-01-31T17:30:49.515505300Z"
    }
   },
   "id": "a0787504548f160b",
   "execution_count": 16
  },
  {
   "cell_type": "code",
   "outputs": [],
   "source": [
    "def node_degree_bench(c, bench):\n",
    "    if bench in ['tnb101', 'nb201', 'nb301']:\n",
    "        if 'in_degree' in c:\n",
    "            return 'Input node degree - '\n",
    "        if \"c_{k-2}\" in c:\n",
    "            return 'Input node 1 degree - '\n",
    "        if \"c_{k-1}\" in c:\n",
    "            return 'Input node 2 degree - '\n",
    "        elif 'out_degree' in c:\n",
    "            return 'Output node degree - '\n",
    "        elif 'avg_in' in c:\n",
    "            return 'Average outgoing degree - '\n",
    "        elif 'avg_out' in c:\n",
    "            return 'Average ingoing degree - '\n",
    "        else:\n",
    "            raise ValueError(f\"Invalid node degree: {c}\")\n",
    "    if bench in ['nb101']:\n",
    "        if 'in_degree' in c:\n",
    "            return 'Output node degree - '\n",
    "        elif 'out_degree' in c:\n",
    "            return 'Input node degree - '\n",
    "        else:\n",
    "            c = c.split(')_')[1]\n",
    "            assert c in ['avg_in', 'avg_out', 'max_in', 'max_out'], f\"Invalid node degree: {c}\"\n",
    "            what, which = c.split('_')\n",
    "            return f\"{'Average' if what == 'avg' else 'Maximum'} {which}put node degree\"\n",
    "\n",
    "\n",
    "def get_feature_name(c):\n",
    "    if 'op_count' in c:\n",
    "        return 'number of '\n",
    "    elif 'min_path' in c:\n",
    "        return 'min path over '\n",
    "    elif 'max_op' in c:\n",
    "        return 'max path over '\n",
    "    elif 'node_degree' in c:\n",
    "        return node_degree_bench(c, bench)\n",
    "    else:\n",
    "        raise ValueError()\n",
    "\n",
    "def to_better_colname(c, op_map):\n",
    "    suffix = ''\n",
    "    if 'normal' in c or 'reduce' in c:\n",
    "        suffix = ' (normal)' if 'normal' in c else ' (reduce)'\n",
    "        c = c.replace('_reduce', '').replace('_normal', '')\n",
    "        \n",
    "    if c.endswith('_c_{k-2}') or c.endswith('_c_{k-1}'):\n",
    "        what = 'from input 1 ' if c == '_c_{k-2}' else 'from input 2 '\n",
    "        c = c[:-8]\n",
    "        suffix = f\"{what}{suffix}\"\n",
    "\n",
    "    feature_name = get_feature_name(c)\n",
    "    \n",
    "    if 'min_path' in c:\n",
    "        opset = eval(c.split('_banned_')[1])\n",
    "        if isinstance(opset, int):\n",
    "            opset = (opset,)\n",
    "            \n",
    "        opset = [str(o) for o in opset]\n",
    "        opset = [i for i in op_map.keys() if i not in opset]\n",
    "    elif 'op_count' in c:\n",
    "        opset = c.split('_')[-1]\n",
    "    else:\n",
    "        opset = c.split('_allowed_')[1]\n",
    "        if 'node' in c:\n",
    "            opset = opset.split('_')[0]\n",
    "        opset = eval(opset)\n",
    "        \n",
    "    if isinstance(opset, int):\n",
    "        opset = [opset]\n",
    "\n",
    "    opset = [op_map[str(o)] for o in opset] \n",
    "    opset = f\"[{','.join(opset)}]\" if len(opset) > 1 else str(opset[0])\n",
    "        \n",
    "    return f\"{feature_name}{opset}{suffix}\"\n",
    "\n",
    "\n",
    "def to_better_colname_macro(c):\n",
    "    if 'count_ops' in c:\n",
    "        vals = c.replace('count_ops_ch', '')\n",
    "        channels = vals.startswith('True')  # channel\n",
    "        strides = vals.endswith('True')  # downsample\n",
    "        \n",
    "        if not channels and not strides:\n",
    "            return \"number of simple convs\"\n",
    "        \n",
    "        what = []\n",
    "        if channels:\n",
    "            what.append('channel increased')\n",
    "        if strides:\n",
    "            what.append('strided')\n",
    "        return f\"number of convs - {' + '.join(what)}\"\n",
    "    elif 'pos' in c:\n",
    "        vals = c.split('_')\n",
    "        assert vals[2] in ['ch', 's']\n",
    "        channels = vals[2] == 'ch'\n",
    "        pos = vals[-1]\n",
    "        what = 'channel increases' if channels else 'strides'\n",
    "        return f\"Number of {what} until pos. {pos}\"\n",
    "    else:\n",
    "        raise ValueError()"
   ],
   "metadata": {
    "collapsed": false,
    "ExecuteTime": {
     "end_time": "2024-01-31T17:42:39.610728700Z",
     "start_time": "2024-01-31T17:42:39.487848700Z"
    }
   },
   "id": "1968419d9140bd35",
   "execution_count": 19
  },
  {
   "cell_type": "code",
   "outputs": [
    {
     "name": "stdout",
     "output_type": "stream",
     "text": [
      "Skipping fisher\n",
      "Skipping flops\n",
      "Skipping grad_norm\n",
      "Skipping grasp\n",
      "Skipping jacov\n",
      "Skipping l2_norm\n",
      "Skipping nwot\n",
      "Skipping params\n",
      "Skipping plain\n",
      "Skipping snip\n",
      "Skipping zen\n",
      "Skipping epe_nas\n",
      "Skipping synflow\n",
      "Skipping net\n"
     ]
    }
   ],
   "source": [
    "new_cols_map = {}\n",
    "\n",
    "for c in data.columns:   \n",
    "    if bench == 'nb301' and c in ['op_count_normal_0', 'op_count_reduce_0']:\n",
    "        # skip output node\n",
    "        new_cols_map[c] = c\n",
    "        continue\n",
    "    \n",
    "    if bench == 'nb101' and c in ['op_count_0', 'op_count_1']:\n",
    "        # skip input/output nodes\n",
    "        new_cols_map[c] = c\n",
    "        continue\n",
    "    \n",
    "    if bench == 'tnb101' and c == 'op_count_4':\n",
    "        # included max pooling that's however not there\n",
    "        new_cols_map[c] = c\n",
    "        continue\n",
    "    try:\n",
    "        if bench != 'tnb101_macro':\n",
    "            new_c = to_better_colname(c, op_map)\n",
    "        else:\n",
    "            new_c = to_better_colname_macro(c)\n",
    "\n",
    "        new_cols_map[c] = new_c\n",
    "    except ValueError:\n",
    "        print(f'Skipping {c}')\n",
    "        new_cols_map[c] = c"
   ],
   "metadata": {
    "collapsed": false,
    "ExecuteTime": {
     "end_time": "2024-01-31T17:43:13.230568400Z",
     "start_time": "2024-01-31T17:43:13.186567600Z"
    }
   },
   "id": "9645634ee94b5f85",
   "execution_count": 20
  },
  {
   "cell_type": "code",
   "outputs": [
    {
     "data": {
      "text/plain": "{'count_ops_chTruesTrue': 'number of convs - channel increased + strided',\n 'count_ops_chTruesFalse': 'number of convs - channel increased',\n 'count_ops_chFalsesTrue': 'number of convs - strided',\n 'count_ops_chFalsesFalse': 'number of simple convs',\n 'pos_state_ch_pos_0': 'Number of channel increases until pos. 0',\n 'pos_state_s_pos_0': 'Number of strides until pos. 0',\n 'pos_state_ch_pos_1': 'Number of channel increases until pos. 1',\n 'pos_state_s_pos_1': 'Number of strides until pos. 1',\n 'pos_state_ch_pos_2': 'Number of channel increases until pos. 2',\n 'pos_state_s_pos_2': 'Number of strides until pos. 2',\n 'pos_state_ch_pos_3': 'Number of channel increases until pos. 3',\n 'pos_state_s_pos_3': 'Number of strides until pos. 3',\n 'pos_state_ch_pos_4': 'Number of channel increases until pos. 4',\n 'pos_state_s_pos_4': 'Number of strides until pos. 4',\n 'pos_state_ch_pos_5': 'Number of channel increases until pos. 5',\n 'pos_state_s_pos_5': 'Number of strides until pos. 5',\n 'fisher': 'fisher',\n 'flops': 'flops',\n 'grad_norm': 'grad_norm',\n 'grasp': 'grasp',\n 'jacov': 'jacov',\n 'l2_norm': 'l2_norm',\n 'nwot': 'nwot',\n 'params': 'params',\n 'plain': 'plain',\n 'snip': 'snip',\n 'zen': 'zen',\n 'epe_nas': 'epe_nas',\n 'synflow': 'synflow',\n 'net': 'net'}"
     },
     "execution_count": 21,
     "metadata": {},
     "output_type": "execute_result"
    }
   ],
   "source": [
    "new_cols_map"
   ],
   "metadata": {
    "collapsed": false,
    "ExecuteTime": {
     "end_time": "2024-01-31T17:43:18.054440Z",
     "start_time": "2024-01-31T17:43:18.047428300Z"
    }
   },
   "id": "427f153674214e5a",
   "execution_count": 21
  },
  {
   "cell_type": "code",
   "outputs": [],
   "source": [
    "diffs = []\n",
    "\n",
    "for k, v in new_cols_map.items():\n",
    "    diffs.append(len(v) - len(k))"
   ],
   "metadata": {
    "collapsed": false,
    "ExecuteTime": {
     "end_time": "2024-01-31T17:43:29.017405200Z",
     "start_time": "2024-01-31T17:43:29.013404100Z"
    }
   },
   "id": "98993836b646994a",
   "execution_count": 22
  },
  {
   "cell_type": "code",
   "outputs": [
    {
     "data": {
      "text/plain": "<Figure size 432x288 with 1 Axes>",
      "image/png": "[encoded data removed]"
     },
     "metadata": {
      "needs_background": "light"
     },
     "output_type": "display_data"
    }
   ],
   "source": [
    "import numpy as np\n",
    "import seaborn as sns\n",
    "import matplotlib.pyplot as plt\n",
    "\n",
    "sns.histplot(diffs)\n",
    "plt.show()"
   ],
   "metadata": {
    "collapsed": false,
    "ExecuteTime": {
     "end_time": "2024-01-31T17:43:30.912428600Z",
     "start_time": "2024-01-31T17:43:29.325787700Z"
    }
   },
   "id": "6bfe5ef5d5363ec3",
   "execution_count": 23
  },
  {
   "cell_type": "code",
   "outputs": [],
   "source": [],
   "metadata": {
    "collapsed": false
   },
   "id": "4781c0c1c7d7a4bc"
  }
 ],
 "metadata": {
  "kernelspec": {
   "display_name": "Python 3",
   "language": "python",
   "name": "python3"
  },
  "language_info": {
   "codemirror_mode": {
    "name": "ipython",
    "version": 2
   },
   "file_extension": ".py",
   "mimetype": "text/x-python",
   "name": "python",
   "nbconvert_exporter": "python",
   "pygments_lexer": "ipython2",
   "version": "2.7.6"
  }
 },
 "nbformat": 4,
 "nbformat_minor": 5
}
