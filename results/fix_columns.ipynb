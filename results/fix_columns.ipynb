{
 "cells": [
  {
   "cell_type": "code",
   "execution_count": 70,
   "id": "initial_id",
   "metadata": {
    "collapsed": true,
    "ExecuteTime": {
     "end_time": "2024-01-28T14:21:49.304933600Z",
     "start_time": "2024-01-28T14:21:49.293417800Z"
    }
   },
   "outputs": [],
   "source": [
    "bench = 'nb101'\n",
    "suffix = '_full' if bench != 'nb101' and 'macro' not in bench else '_first'\n",
    "cfg = f'../zc_combine/configs/{bench}{suffix}.json'\n",
    "dataset = 'cifar10' if bench != 'tnb101' else 'class_scene'"
   ]
  },
  {
   "cell_type": "code",
   "outputs": [],
   "source": [
    "from zc_combine.utils.script_utils import create_cache_filename\n",
    "from zc_combine.utils.script_utils import load_feature_proxy_dataset\n",
    "\n",
    "version_key = 'paper'\n",
    "cache_path = create_cache_filename('../scripts/cache_data/', cfg, None, version_key, True)\n",
    "\n",
    "_, data, y = load_feature_proxy_dataset('../data', bench, dataset, cfg=cfg, use_all_proxies=True,\n",
    "                                        cache_path=cache_path, version_key=version_key)"
   ],
   "metadata": {
    "collapsed": false,
    "ExecuteTime": {
     "end_time": "2024-01-28T14:21:54.853636600Z",
     "start_time": "2024-01-28T14:21:49.539158900Z"
    }
   },
   "id": "3a2340e4d74eba2",
   "execution_count": 71
  },
  {
   "cell_type": "code",
   "outputs": [
    {
     "name": "stdout",
     "output_type": "stream",
     "text": [
      "Loaded:  ['input', 'output', 'maxpool3x3', 'conv1x1-bn-relu', 'conv3x3-bn-relu']\n",
      "More readable:  ['input', 'output', 'maxpool3x3', 'conv1x1', 'conv3x3']\n"
     ]
    }
   ],
   "source": [
    "from zc_combine.fixes.operations import get_ops_edges_nb201, get_ops_edges_tnb101, get_ops_nb101, get_ops_nb301\n",
    "\n",
    "if bench == 'nb201':\n",
    "    ops, _ = get_ops_edges_nb201()\n",
    "elif bench == 'tnb101':    \n",
    "    ops, _ = get_ops_edges_tnb101()\n",
    "elif bench == 'nb101':\n",
    "    ops = get_ops_nb101()\n",
    "elif bench == 'nb301':\n",
    "    ops = get_ops_nb301()\n",
    "else:\n",
    "    raise ValueError()\n",
    "\n",
    "print(\"Loaded: \", ops)\n",
    "\n",
    "better_op_names = {\n",
    "    'input': 'input',\n",
    "    'output': 'output',\n",
    "    'none': 'zero',\n",
    "    'skip_connect': 'skip',\n",
    "    'nor_conv_1x1': 'conv1x1',\n",
    "    'nor_conv_3x3': 'conv3x3',\n",
    "    'maxpool3x3': 'maxpool3x3',\n",
    "    'conv1x1-bn-relu': 'conv1x1',\n",
    "    'conv3x3-bn-relu': 'conv3x3'\n",
    "}\n",
    "\n",
    "ops = [better_op_names[o] for o in ops]\n",
    "print(\"More readable: \", ops)"
   ],
   "metadata": {
    "collapsed": false,
    "ExecuteTime": {
     "end_time": "2024-01-28T14:32:03.620642500Z",
     "start_time": "2024-01-28T14:32:03.613108700Z"
    }
   },
   "id": "212c0f6a7ba4f0e3",
   "execution_count": 106
  },
  {
   "cell_type": "code",
   "outputs": [],
   "source": [
    "op_map = {str(i): k for i, k in enumerate(ops)}\n",
    "\n",
    "if bench == 'nb101':\n",
    "    del op_map['0']\n",
    "    del op_map['1']  # no input/output node"
   ],
   "metadata": {
    "collapsed": false,
    "ExecuteTime": {
     "end_time": "2024-01-28T14:32:03.851596200Z",
     "start_time": "2024-01-28T14:32:03.848295Z"
    }
   },
   "id": "e23f19c70ab9b097",
   "execution_count": 107
  },
  {
   "cell_type": "code",
   "outputs": [
    {
     "data": {
      "text/plain": "['node_degree_allowed_(2)_in_degree',\n 'node_degree_allowed_(2)_out_degree',\n 'node_degree_allowed_(2)_avg_in',\n 'node_degree_allowed_(2)_avg_out',\n 'node_degree_allowed_(2)_max_out',\n 'node_degree_allowed_(2)_max_in',\n 'node_degree_allowed_(3)_in_degree',\n 'node_degree_allowed_(3)_out_degree',\n 'node_degree_allowed_(3)_avg_in',\n 'node_degree_allowed_(3)_avg_out',\n 'node_degree_allowed_(3)_max_out',\n 'node_degree_allowed_(3)_max_in',\n 'node_degree_allowed_(4)_in_degree',\n 'node_degree_allowed_(4)_out_degree',\n 'node_degree_allowed_(4)_avg_in',\n 'node_degree_allowed_(4)_avg_out',\n 'node_degree_allowed_(4)_max_out',\n 'node_degree_allowed_(4)_max_in',\n 'node_degree_allowed_(2, 3)_in_degree',\n 'node_degree_allowed_(2, 3)_out_degree',\n 'node_degree_allowed_(2, 3)_avg_in',\n 'node_degree_allowed_(2, 3)_avg_out',\n 'node_degree_allowed_(2, 3)_max_out',\n 'node_degree_allowed_(2, 3)_max_in',\n 'node_degree_allowed_(2, 4)_in_degree',\n 'node_degree_allowed_(2, 4)_out_degree',\n 'node_degree_allowed_(2, 4)_avg_in',\n 'node_degree_allowed_(2, 4)_avg_out',\n 'node_degree_allowed_(2, 4)_max_out',\n 'node_degree_allowed_(2, 4)_max_in',\n 'node_degree_allowed_(3, 4)_in_degree',\n 'node_degree_allowed_(3, 4)_out_degree',\n 'node_degree_allowed_(3, 4)_avg_in',\n 'node_degree_allowed_(3, 4)_avg_out',\n 'node_degree_allowed_(3, 4)_max_out',\n 'node_degree_allowed_(3, 4)_max_in',\n 'node_degree_allowed_(2, 3, 4)_in_degree',\n 'node_degree_allowed_(2, 3, 4)_out_degree',\n 'node_degree_allowed_(2, 3, 4)_avg_in',\n 'node_degree_allowed_(2, 3, 4)_avg_out',\n 'node_degree_allowed_(2, 3, 4)_max_out',\n 'node_degree_allowed_(2, 3, 4)_max_in']"
     },
     "execution_count": 108,
     "metadata": {},
     "output_type": "execute_result"
    }
   ],
   "source": [
    "[c for c in data.columns if 'node' in c]"
   ],
   "metadata": {
    "collapsed": false,
    "ExecuteTime": {
     "end_time": "2024-01-28T14:32:04.030420400Z",
     "start_time": "2024-01-28T14:32:04.024681200Z"
    }
   },
   "id": "451330746817c24d",
   "execution_count": 108
  },
  {
   "cell_type": "code",
   "outputs": [
    {
     "name": "stdout",
     "output_type": "stream",
     "text": [
      "['2', '3', '4']\n"
     ]
    }
   ],
   "source": [
    "c = 'min_path_len_banned_(0)'\n",
    "if 'min_path' in c:\n",
    "    opset = eval(c.split('_banned_')[1])\n",
    "    if isinstance(opset, int):\n",
    "        opset = (opset,)\n",
    "    inverse_set = [i for i in op_map.keys() if i not in opset]\n",
    "    print(inverse_set)"
   ],
   "metadata": {
    "collapsed": false,
    "ExecuteTime": {
     "end_time": "2024-01-28T14:32:04.479204400Z",
     "start_time": "2024-01-28T14:32:04.463573Z"
    }
   },
   "id": "a0787504548f160b",
   "execution_count": 109
  },
  {
   "cell_type": "code",
   "outputs": [],
   "source": [
    "def node_degree_bench(c, bench):\n",
    "    if bench in ['tnb101', 'nb201']:\n",
    "        if 'in_degree' in c:\n",
    "            return 'Input node degree - '\n",
    "        elif 'out_degree' in c:\n",
    "            return 'Output node degree - '\n",
    "        elif 'avg_in' in c:\n",
    "            return 'Average outgoing degree - '\n",
    "        elif 'avg_out' in c:\n",
    "            return 'Average ingoing degree - '\n",
    "        else:\n",
    "            raise ValueError(f\"Invalid node degree: {c}\")\n",
    "    if bench in ['nb101']:\n",
    "        if 'in_degree' in c:\n",
    "            return 'Output node degree - '\n",
    "        elif 'out_degree' in c:\n",
    "            return 'Input node degree - '\n",
    "        else:\n",
    "            c = c.split(')_')[1]\n",
    "            assert c in ['avg_in', 'avg_out', 'max_in', 'max_out'], f\"Invalid node degree: {c}\"\n",
    "            what, which = c.split('_')\n",
    "            return f\"{'Average' if what == 'avg' else 'Maximum'} {which}put node degree\"\n",
    "\n",
    "\n",
    "def get_feature_name(c):\n",
    "    if 'op_count' in c:\n",
    "        return 'number of '\n",
    "    elif 'min_path' in c:\n",
    "        return 'min path over '\n",
    "    elif 'max_op' in c:\n",
    "        return 'max path over '\n",
    "    elif 'node_degree' in c:\n",
    "        return node_degree_bench(c, bench)\n",
    "    else:\n",
    "        raise ValueError()\n",
    "\n",
    "def to_better_colname(c, op_map):\n",
    "    feature_name = get_feature_name(c)\n",
    "    \n",
    "    if 'min_path' in c:\n",
    "        opset = eval(c.split('_banned_')[1])\n",
    "        if isinstance(opset, int):\n",
    "            opset = (opset,)\n",
    "            \n",
    "        opset = [str(o) for o in opset]\n",
    "        opset = [i for i in op_map.keys() if i not in opset]\n",
    "    elif 'op_count' in c:\n",
    "        opset = c.split('_')[-1]\n",
    "    else:\n",
    "        opset = c.split('_allowed_')[1]\n",
    "        if 'node' in c:\n",
    "            opset = opset.split('_')[0]\n",
    "        opset = eval(opset)\n",
    "        \n",
    "    if isinstance(opset, int):\n",
    "        opset = [opset]\n",
    "       \n",
    "    opset = [op_map[str(o)] for o in opset] \n",
    "    opset = f\"[{','.join(opset)}]\"\n",
    "        \n",
    "    return f\"{feature_name}{opset}\""
   ],
   "metadata": {
    "collapsed": false,
    "ExecuteTime": {
     "end_time": "2024-01-28T14:32:04.708425900Z",
     "start_time": "2024-01-28T14:32:04.660120100Z"
    }
   },
   "id": "1968419d9140bd35",
   "execution_count": 110
  },
  {
   "cell_type": "code",
   "outputs": [
    {
     "name": "stdout",
     "output_type": "stream",
     "text": [
      "Skipping epe_nas\n",
      "Skipping fisher\n",
      "Skipping flops\n",
      "Skipping grad_norm\n",
      "Skipping grasp\n",
      "Skipping jacov\n",
      "Skipping l2_norm\n",
      "Skipping nwot\n",
      "Skipping params\n",
      "Skipping plain\n",
      "Skipping snip\n",
      "Skipping synflow\n",
      "Skipping zen\n",
      "Skipping net\n"
     ]
    }
   ],
   "source": [
    "new_cols_map = {}\n",
    "\n",
    "for c in data.columns:    \n",
    "    if bench == 'nb101' and c in ['op_count_0', 'op_count_1']:\n",
    "        # skip input/output nodes\n",
    "        new_cols_map[c] = c\n",
    "        continue\n",
    "    \n",
    "    if bench == 'tnb101' and c == 'op_count_4':\n",
    "        # included max pooling that's however not there\n",
    "        new_cols_map[c] = c\n",
    "        continue\n",
    "    try:\n",
    "        new_c = to_better_colname(c, op_map)\n",
    "        new_cols_map[c] = new_c\n",
    "    except ValueError:\n",
    "        print(f'Skipping {c}')\n",
    "        new_cols_map[c] = c"
   ],
   "metadata": {
    "collapsed": false,
    "ExecuteTime": {
     "end_time": "2024-01-28T14:32:05.032531800Z",
     "start_time": "2024-01-28T14:32:04.993190500Z"
    }
   },
   "id": "9645634ee94b5f85",
   "execution_count": 111
  },
  {
   "cell_type": "code",
   "outputs": [
    {
     "data": {
      "text/plain": "{'op_count_0': 'op_count_0',\n 'op_count_1': 'op_count_1',\n 'op_count_2': 'number of [maxpool3x3]',\n 'op_count_3': 'number of [conv1x1]',\n 'op_count_4': 'number of [conv3x3]',\n 'min_path_len_banned_()': 'min path over [maxpool3x3,conv1x1,conv3x3]',\n 'min_path_len_banned_(2)': 'min path over [conv1x1,conv3x3]',\n 'min_path_len_banned_(3)': 'min path over [maxpool3x3,conv3x3]',\n 'min_path_len_banned_(4)': 'min path over [maxpool3x3,conv1x1]',\n 'min_path_len_banned_(2, 3)': 'min path over [conv3x3]',\n 'min_path_len_banned_(2, 4)': 'min path over [conv1x1]',\n 'min_path_len_banned_(3, 4)': 'min path over [maxpool3x3]',\n 'max_op_on_path_allowed_(2)': 'max path over [maxpool3x3]',\n 'max_op_on_path_allowed_(3)': 'max path over [conv1x1]',\n 'max_op_on_path_allowed_(4)': 'max path over [conv3x3]',\n 'max_op_on_path_allowed_(2, 3)': 'max path over [maxpool3x3,conv1x1]',\n 'max_op_on_path_allowed_(2, 4)': 'max path over [maxpool3x3,conv3x3]',\n 'max_op_on_path_allowed_(3, 4)': 'max path over [conv1x1,conv3x3]',\n 'max_op_on_path_allowed_(2, 3, 4)': 'max path over [maxpool3x3,conv1x1,conv3x3]',\n 'node_degree_allowed_(2)_in_degree': 'Output node degree - [maxpool3x3]',\n 'node_degree_allowed_(2)_out_degree': 'Input node degree - [maxpool3x3]',\n 'node_degree_allowed_(2)_avg_in': 'Average input node degree[maxpool3x3]',\n 'node_degree_allowed_(2)_avg_out': 'Average output node degree[maxpool3x3]',\n 'node_degree_allowed_(2)_max_out': 'Maximum output node degree[maxpool3x3]',\n 'node_degree_allowed_(2)_max_in': 'Maximum input node degree[maxpool3x3]',\n 'node_degree_allowed_(3)_in_degree': 'Output node degree - [conv1x1]',\n 'node_degree_allowed_(3)_out_degree': 'Input node degree - [conv1x1]',\n 'node_degree_allowed_(3)_avg_in': 'Average input node degree[conv1x1]',\n 'node_degree_allowed_(3)_avg_out': 'Average output node degree[conv1x1]',\n 'node_degree_allowed_(3)_max_out': 'Maximum output node degree[conv1x1]',\n 'node_degree_allowed_(3)_max_in': 'Maximum input node degree[conv1x1]',\n 'node_degree_allowed_(4)_in_degree': 'Output node degree - [conv3x3]',\n 'node_degree_allowed_(4)_out_degree': 'Input node degree - [conv3x3]',\n 'node_degree_allowed_(4)_avg_in': 'Average input node degree[conv3x3]',\n 'node_degree_allowed_(4)_avg_out': 'Average output node degree[conv3x3]',\n 'node_degree_allowed_(4)_max_out': 'Maximum output node degree[conv3x3]',\n 'node_degree_allowed_(4)_max_in': 'Maximum input node degree[conv3x3]',\n 'node_degree_allowed_(2, 3)_in_degree': 'Output node degree - [maxpool3x3,conv1x1]',\n 'node_degree_allowed_(2, 3)_out_degree': 'Input node degree - [maxpool3x3,conv1x1]',\n 'node_degree_allowed_(2, 3)_avg_in': 'Average input node degree[maxpool3x3,conv1x1]',\n 'node_degree_allowed_(2, 3)_avg_out': 'Average output node degree[maxpool3x3,conv1x1]',\n 'node_degree_allowed_(2, 3)_max_out': 'Maximum output node degree[maxpool3x3,conv1x1]',\n 'node_degree_allowed_(2, 3)_max_in': 'Maximum input node degree[maxpool3x3,conv1x1]',\n 'node_degree_allowed_(2, 4)_in_degree': 'Output node degree - [maxpool3x3,conv3x3]',\n 'node_degree_allowed_(2, 4)_out_degree': 'Input node degree - [maxpool3x3,conv3x3]',\n 'node_degree_allowed_(2, 4)_avg_in': 'Average input node degree[maxpool3x3,conv3x3]',\n 'node_degree_allowed_(2, 4)_avg_out': 'Average output node degree[maxpool3x3,conv3x3]',\n 'node_degree_allowed_(2, 4)_max_out': 'Maximum output node degree[maxpool3x3,conv3x3]',\n 'node_degree_allowed_(2, 4)_max_in': 'Maximum input node degree[maxpool3x3,conv3x3]',\n 'node_degree_allowed_(3, 4)_in_degree': 'Output node degree - [conv1x1,conv3x3]',\n 'node_degree_allowed_(3, 4)_out_degree': 'Input node degree - [conv1x1,conv3x3]',\n 'node_degree_allowed_(3, 4)_avg_in': 'Average input node degree[conv1x1,conv3x3]',\n 'node_degree_allowed_(3, 4)_avg_out': 'Average output node degree[conv1x1,conv3x3]',\n 'node_degree_allowed_(3, 4)_max_out': 'Maximum output node degree[conv1x1,conv3x3]',\n 'node_degree_allowed_(3, 4)_max_in': 'Maximum input node degree[conv1x1,conv3x3]',\n 'node_degree_allowed_(2, 3, 4)_in_degree': 'Output node degree - [maxpool3x3,conv1x1,conv3x3]',\n 'node_degree_allowed_(2, 3, 4)_out_degree': 'Input node degree - [maxpool3x3,conv1x1,conv3x3]',\n 'node_degree_allowed_(2, 3, 4)_avg_in': 'Average input node degree[maxpool3x3,conv1x1,conv3x3]',\n 'node_degree_allowed_(2, 3, 4)_avg_out': 'Average output node degree[maxpool3x3,conv1x1,conv3x3]',\n 'node_degree_allowed_(2, 3, 4)_max_out': 'Maximum output node degree[maxpool3x3,conv1x1,conv3x3]',\n 'node_degree_allowed_(2, 3, 4)_max_in': 'Maximum input node degree[maxpool3x3,conv1x1,conv3x3]',\n 'epe_nas': 'epe_nas',\n 'fisher': 'fisher',\n 'flops': 'flops',\n 'grad_norm': 'grad_norm',\n 'grasp': 'grasp',\n 'jacov': 'jacov',\n 'l2_norm': 'l2_norm',\n 'nwot': 'nwot',\n 'params': 'params',\n 'plain': 'plain',\n 'snip': 'snip',\n 'synflow': 'synflow',\n 'zen': 'zen',\n 'net': 'net'}"
     },
     "execution_count": 112,
     "metadata": {},
     "output_type": "execute_result"
    }
   ],
   "source": [
    "new_cols_map"
   ],
   "metadata": {
    "collapsed": false,
    "ExecuteTime": {
     "end_time": "2024-01-28T14:32:05.459514700Z",
     "start_time": "2024-01-28T14:32:05.449021900Z"
    }
   },
   "id": "6a745043658d0bef",
   "execution_count": 112
  },
  {
   "cell_type": "code",
   "outputs": [],
   "source": [],
   "metadata": {
    "collapsed": false
   },
   "id": "2675ae6108f3ca37"
  }
 ],
 "metadata": {
  "kernelspec": {
   "display_name": "Python 3",
   "language": "python",
   "name": "python3"
  },
  "language_info": {
   "codemirror_mode": {
    "name": "ipython",
    "version": 2
   },
   "file_extension": ".py",
   "mimetype": "text/x-python",
   "name": "python",
   "nbconvert_exporter": "python",
   "pygments_lexer": "ipython2",
   "version": "2.7.6"
  }
 },
 "nbformat": 4,
 "nbformat_minor": 5
}
