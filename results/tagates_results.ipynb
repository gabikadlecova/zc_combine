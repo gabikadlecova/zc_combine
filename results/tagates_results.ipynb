{
 "cells": [
  {
   "cell_type": "code",
   "execution_count": 12,
   "id": "initial_id",
   "metadata": {
    "collapsed": true,
    "ExecuteTime": {
     "end_time": "2024-02-01T16:09:34.439544600Z",
     "start_time": "2024-02-01T16:09:34.420547800Z"
    }
   },
   "outputs": [],
   "source": [
    "import pandas as pd\n",
    "\n",
    "tagates = pd.read_csv('./data/tagates_nb201_results.csv', index_col=0)\n",
    "tagates['predictor'] = 'TA-GATES'\n",
    "graf = pd.read_csv('./data/graf_tagates.csv')"
   ]
  },
  {
   "cell_type": "code",
   "outputs": [],
   "source": [
    "graf = graf[['train_size', 'data_seed', 'fit_time', 'test_time', 'tau', 'model']].copy()\n",
    "graf['predictor'] = 'ZCP + GRAF + ' + graf['model'].str.replace('xgb_tuned', 'XGB+').replace('xgb', 'XGB').replace('rf', 'RF')\n",
    "graf.drop(columns='model', inplace=True)"
   ],
   "metadata": {
    "collapsed": false,
    "ExecuteTime": {
     "end_time": "2024-02-01T16:10:03.059641400Z",
     "start_time": "2024-02-01T16:10:02.610642300Z"
    }
   },
   "id": "2ccfb9d8fc67fed8",
   "execution_count": 13
  },
  {
   "cell_type": "code",
   "outputs": [
    {
     "data": {
      "text/plain": "                       runtime\npredictor                     \nZCP + GRAF + RF     293.611885\nZCP + GRAF + XGB     51.661032\nZCP + GRAF + XGB+  2559.498281",
      "text/html": "<div>\n<style scoped>\n    .dataframe tbody tr th:only-of-type {\n        vertical-align: middle;\n    }\n\n    .dataframe tbody tr th {\n        vertical-align: top;\n    }\n\n    .dataframe thead th {\n        text-align: right;\n    }\n</style>\n<table border=\"1\" class=\"dataframe\">\n  <thead>\n    <tr style=\"text-align: right;\">\n      <th></th>\n      <th>runtime</th>\n    </tr>\n    <tr>\n      <th>predictor</th>\n      <th></th>\n    </tr>\n  </thead>\n  <tbody>\n    <tr>\n      <th>ZCP + GRAF + RF</th>\n      <td>293.611885</td>\n    </tr>\n    <tr>\n      <th>ZCP + GRAF + XGB</th>\n      <td>51.661032</td>\n    </tr>\n    <tr>\n      <th>ZCP + GRAF + XGB+</th>\n      <td>2559.498281</td>\n    </tr>\n  </tbody>\n</table>\n</div>"
     },
     "execution_count": 16,
     "metadata": {},
     "output_type": "execute_result"
    }
   ],
   "source": [
    "graf['runtime'] = graf['fit_time'] + graf['test_time']\n",
    "graf[['predictor', 'runtime']].groupby('predictor').sum()"
   ],
   "metadata": {
    "collapsed": false,
    "ExecuteTime": {
     "end_time": "2024-02-01T16:12:25.958417600Z",
     "start_time": "2024-02-01T16:12:25.784280800Z"
    }
   },
   "id": "3936a7792034c650",
   "execution_count": 16
  },
  {
   "cell_type": "code",
   "outputs": [
    {
     "data": {
      "text/plain": "              runtime\ntrain_size           \n0.01        31698.703\n0.05        32524.089\n0.10        34048.650\n0.20        37259.116",
      "text/html": "<div>\n<style scoped>\n    .dataframe tbody tr th:only-of-type {\n        vertical-align: middle;\n    }\n\n    .dataframe tbody tr th {\n        vertical-align: top;\n    }\n\n    .dataframe thead th {\n        text-align: right;\n    }\n</style>\n<table border=\"1\" class=\"dataframe\">\n  <thead>\n    <tr style=\"text-align: right;\">\n      <th></th>\n      <th>runtime</th>\n    </tr>\n    <tr>\n      <th>train_size</th>\n      <th></th>\n    </tr>\n  </thead>\n  <tbody>\n    <tr>\n      <th>0.01</th>\n      <td>31698.703</td>\n    </tr>\n    <tr>\n      <th>0.05</th>\n      <td>32524.089</td>\n    </tr>\n    <tr>\n      <th>0.10</th>\n      <td>34048.650</td>\n    </tr>\n    <tr>\n      <th>0.20</th>\n      <td>37259.116</td>\n    </tr>\n  </tbody>\n</table>\n</div>"
     },
     "execution_count": 22,
     "metadata": {},
     "output_type": "execute_result"
    }
   ],
   "source": [
    "tatimes = pd.read_csv('./data/tagates_times.csv')\n",
    "tatimes.drop(columns='seed').groupby('train_size').sum()"
   ],
   "metadata": {
    "collapsed": false,
    "ExecuteTime": {
     "end_time": "2024-02-01T16:32:56.842354800Z",
     "start_time": "2024-02-01T16:32:56.698677300Z"
    }
   },
   "id": "af48c06d09e31966",
   "execution_count": 22
  },
  {
   "cell_type": "code",
   "outputs": [],
   "source": [
    "graf = graf[['train_size', 'data_seed', 'tau', 'predictor']]"
   ],
   "metadata": {
    "collapsed": false,
    "ExecuteTime": {
     "end_time": "2024-02-01T16:13:24.998445500Z",
     "start_time": "2024-02-01T16:13:24.982448900Z"
    }
   },
   "id": "3886e6d438ab320b",
   "execution_count": 18
  },
  {
   "cell_type": "code",
   "outputs": [],
   "source": [
    "data = pd.concat([graf, tagates], axis=0).reset_index()"
   ],
   "metadata": {
    "collapsed": false,
    "ExecuteTime": {
     "end_time": "2024-02-01T16:13:25.647251600Z",
     "start_time": "2024-02-01T16:13:25.602314900Z"
    }
   },
   "id": "7b598ec23aa7bffd",
   "execution_count": 19
  },
  {
   "cell_type": "code",
   "outputs": [
    {
     "data": {
      "text/plain": "<Figure size 576x432 with 1 Axes>",
      "image/png": "[encoded data removed]"
     },
     "metadata": {},
     "output_type": "display_data"
    }
   ],
   "source": [
    "import seaborn as sns\n",
    "import matplotlib.pyplot as plt\n",
    "\n",
    "rc = {'text.usetex': True, 'font.family': 'serif', 'text.latex.preamble': '\\\\usepackage{times} ', 'figure.figsize': (3.25, 2.0086104634371584), 'figure.constrained_layout.use': True, 'figure.autolayout': False, 'savefig.bbox': 'tight', 'savefig.pad_inches': 0.015}#, 'font.size': 10, 'axes.labelsize': 10, 'legend.fontsize': 6, 'xtick.labelsize': 8, 'ytick.labelsize': 8, 'axes.titlesize': 8}\n",
    "#plt.rcParams.update(rc)\n",
    "\n",
    "sns.set(rc=rc, font_scale=1.7, style='whitegrid')#, palette=sns.color_palette()[::-1])\n",
    "\n",
    "data['train size'] = (data['train_size'] * 4675).astype(int).astype(str)\n",
    "\n",
    "plt.figure(figsize=(8,6))\n",
    "sns.boxplot(data=data, x='tau', y='train size', hue='predictor')\n",
    "plt.savefig('./data/tagates.pdf')\n",
    "plt.show()"
   ],
   "metadata": {
    "collapsed": false,
    "ExecuteTime": {
     "end_time": "2024-02-01T16:13:34.285130100Z",
     "start_time": "2024-02-01T16:13:32.130685300Z"
    }
   },
   "id": "58c529f645c729b",
   "execution_count": 20
  },
  {
   "cell_type": "code",
   "outputs": [],
   "source": [],
   "metadata": {
    "collapsed": false
   },
   "id": "26340c948904c8b2"
  }
 ],
 "metadata": {
  "kernelspec": {
   "display_name": "Python 3",
   "language": "python",
   "name": "python3"
  },
  "language_info": {
   "codemirror_mode": {
    "name": "ipython",
    "version": 2
   },
   "file_extension": ".py",
   "mimetype": "text/x-python",
   "name": "python",
   "nbconvert_exporter": "python",
   "pygments_lexer": "ipython2",
   "version": "2.7.6"
  }
 },
 "nbformat": 4,
 "nbformat_minor": 5
}
