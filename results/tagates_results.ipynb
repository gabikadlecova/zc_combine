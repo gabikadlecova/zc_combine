{
 "cells": [
  {
   "cell_type": "code",
   "execution_count": 40,
   "id": "initial_id",
   "metadata": {
    "collapsed": true,
    "ExecuteTime": {
     "end_time": "2024-01-31T21:28:04.529584800Z",
     "start_time": "2024-01-31T21:28:04.507059Z"
    }
   },
   "outputs": [],
   "source": [
    "import pandas as pd\n",
    "\n",
    "tagates = pd.read_csv('./data/tagates_nb201_results.csv', index_col=0)\n",
    "tagates['predictor'] = 'TA-GATES'\n",
    "graf = pd.read_csv('./data/graf_tagates.csv')"
   ]
  },
  {
   "cell_type": "code",
   "outputs": [],
   "source": [
    "graf = graf[['train_size', 'data_seed', 'tau', 'model']].copy()\n",
    "graf['predictor'] = 'ZCP + GRAF + ' + graf['model'].str.replace('xgb_tuned', 'XGB+').replace('xgb', 'XGB').replace('rf', 'RF')\n",
    "graf.drop(columns='model', inplace=True)"
   ],
   "metadata": {
    "collapsed": false,
    "ExecuteTime": {
     "end_time": "2024-01-31T21:28:04.809900400Z",
     "start_time": "2024-01-31T21:28:04.795862600Z"
    }
   },
   "id": "2ccfb9d8fc67fed8",
   "execution_count": 41
  },
  {
   "cell_type": "code",
   "outputs": [
    {
     "data": {
      "text/plain": "     train_size  data_seed       tau          predictor\n0          0.20       42.0  0.877584  ZCP + GRAF + XGB+\n1          0.20       43.0  0.872885  ZCP + GRAF + XGB+\n2          0.20       44.0  0.879098  ZCP + GRAF + XGB+\n3          0.20       45.0  0.878937  ZCP + GRAF + XGB+\n4          0.20       46.0  0.875434  ZCP + GRAF + XGB+\n..          ...        ...       ...                ...\n595        0.01       87.0  0.756877    ZCP + GRAF + RF\n596        0.01       88.0  0.753970    ZCP + GRAF + RF\n597        0.01       89.0  0.758074    ZCP + GRAF + RF\n598        0.01       90.0  0.749378    ZCP + GRAF + RF\n599        0.01       91.0  0.740905    ZCP + GRAF + RF\n\n[600 rows x 4 columns]",
      "text/html": "<div>\n<style scoped>\n    .dataframe tbody tr th:only-of-type {\n        vertical-align: middle;\n    }\n\n    .dataframe tbody tr th {\n        vertical-align: top;\n    }\n\n    .dataframe thead th {\n        text-align: right;\n    }\n</style>\n<table border=\"1\" class=\"dataframe\">\n  <thead>\n    <tr style=\"text-align: right;\">\n      <th></th>\n      <th>train_size</th>\n      <th>data_seed</th>\n      <th>tau</th>\n      <th>predictor</th>\n    </tr>\n  </thead>\n  <tbody>\n    <tr>\n      <th>0</th>\n      <td>0.20</td>\n      <td>42.0</td>\n      <td>0.877584</td>\n      <td>ZCP + GRAF + XGB+</td>\n    </tr>\n    <tr>\n      <th>1</th>\n      <td>0.20</td>\n      <td>43.0</td>\n      <td>0.872885</td>\n      <td>ZCP + GRAF + XGB+</td>\n    </tr>\n    <tr>\n      <th>2</th>\n      <td>0.20</td>\n      <td>44.0</td>\n      <td>0.879098</td>\n      <td>ZCP + GRAF + XGB+</td>\n    </tr>\n    <tr>\n      <th>3</th>\n      <td>0.20</td>\n      <td>45.0</td>\n      <td>0.878937</td>\n      <td>ZCP + GRAF + XGB+</td>\n    </tr>\n    <tr>\n      <th>4</th>\n      <td>0.20</td>\n      <td>46.0</td>\n      <td>0.875434</td>\n      <td>ZCP + GRAF + XGB+</td>\n    </tr>\n    <tr>\n      <th>...</th>\n      <td>...</td>\n      <td>...</td>\n      <td>...</td>\n      <td>...</td>\n    </tr>\n    <tr>\n      <th>595</th>\n      <td>0.01</td>\n      <td>87.0</td>\n      <td>0.756877</td>\n      <td>ZCP + GRAF + RF</td>\n    </tr>\n    <tr>\n      <th>596</th>\n      <td>0.01</td>\n      <td>88.0</td>\n      <td>0.753970</td>\n      <td>ZCP + GRAF + RF</td>\n    </tr>\n    <tr>\n      <th>597</th>\n      <td>0.01</td>\n      <td>89.0</td>\n      <td>0.758074</td>\n      <td>ZCP + GRAF + RF</td>\n    </tr>\n    <tr>\n      <th>598</th>\n      <td>0.01</td>\n      <td>90.0</td>\n      <td>0.749378</td>\n      <td>ZCP + GRAF + RF</td>\n    </tr>\n    <tr>\n      <th>599</th>\n      <td>0.01</td>\n      <td>91.0</td>\n      <td>0.740905</td>\n      <td>ZCP + GRAF + RF</td>\n    </tr>\n  </tbody>\n</table>\n<p>600 rows × 4 columns</p>\n</div>"
     },
     "execution_count": 42,
     "metadata": {},
     "output_type": "execute_result"
    }
   ],
   "source": [
    "graf"
   ],
   "metadata": {
    "collapsed": false,
    "ExecuteTime": {
     "end_time": "2024-01-31T21:28:05.517718500Z",
     "start_time": "2024-01-31T21:28:05.481322600Z"
    }
   },
   "id": "3936a7792034c650",
   "execution_count": 42
  },
  {
   "cell_type": "code",
   "outputs": [],
   "source": [
    "data = pd.concat([graf, tagates], axis=0).reset_index()"
   ],
   "metadata": {
    "collapsed": false,
    "ExecuteTime": {
     "end_time": "2024-01-31T21:28:06.210966800Z",
     "start_time": "2024-01-31T21:28:06.190335800Z"
    }
   },
   "id": "7b598ec23aa7bffd",
   "execution_count": 43
  },
  {
   "cell_type": "code",
   "outputs": [
    {
     "data": {
      "text/plain": "<Figure size 576x432 with 1 Axes>",
      "image/png": "[encoded data removed]"
     },
     "metadata": {},
     "output_type": "display_data"
    }
   ],
   "source": [
    "import seaborn as sns\n",
    "import matplotlib.pyplot as plt\n",
    "sns.set()\n",
    "\n",
    "plt.rcParams.update({'text.usetex': True, 'font.family': 'serif', 'text.latex.preamble': '\\\\usepackage{times} ', 'figure.figsize': (3.25, 2.0086104634371584), 'figure.constrained_layout.use': True, 'figure.autolayout': False, 'savefig.bbox': 'tight', 'savefig.pad_inches': 0.015, 'font.size': 10, 'axes.labelsize': 10, 'legend.fontsize': 6, 'xtick.labelsize': 8, 'ytick.labelsize': 8, 'axes.titlesize': 8})\n",
    "sns.set(font_scale=1.3)\n",
    "sns.set_style('whitegrid')\n",
    "\n",
    "data['train size'] = (data['train_size'] * 4675).astype(int).astype(str)\n",
    "\n",
    "plt.figure(figsize=(8,6))\n",
    "sns.boxplot(data=data, x='tau', y='train size', hue='predictor')\n",
    "plt.savefig('./data/tagates.pdf')\n",
    "plt.show()"
   ],
   "metadata": {
    "collapsed": false,
    "ExecuteTime": {
     "end_time": "2024-01-31T21:35:56.839961800Z",
     "start_time": "2024-01-31T21:35:53.306339900Z"
    }
   },
   "id": "58c529f645c729b",
   "execution_count": 50
  },
  {
   "cell_type": "code",
   "outputs": [],
   "source": [],
   "metadata": {
    "collapsed": false
   },
   "id": "548ebad283ea8310"
  }
 ],
 "metadata": {
  "kernelspec": {
   "display_name": "Python 3",
   "language": "python",
   "name": "python3"
  },
  "language_info": {
   "codemirror_mode": {
    "name": "ipython",
    "version": 2
   },
   "file_extension": ".py",
   "mimetype": "text/x-python",
   "name": "python",
   "nbconvert_exporter": "python",
   "pygments_lexer": "ipython2",
   "version": "2.7.6"
  }
 },
 "nbformat": 4,
 "nbformat_minor": 5
}
