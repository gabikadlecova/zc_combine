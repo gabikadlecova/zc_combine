{
 "cells": [
  {
   "cell_type": "code",
   "execution_count": 1,
   "metadata": {
    "collapsed": true,
    "ExecuteTime": {
     "end_time": "2023-11-30T13:03:35.458684300Z",
     "start_time": "2023-11-30T13:03:35.446686900Z"
    }
   },
   "outputs": [],
   "source": [
    "import pandas as pd\n",
    "\n",
    "data_path = '../data'\n",
    "benchmark = 'zc_transbench101_macro'"
   ]
  },
  {
   "cell_type": "code",
   "execution_count": 2,
   "outputs": [],
   "source": [
    "from zc_combine.utils.naslib_utils import load_search_space, parse_scores\n",
    "\n",
    "search_space = load_search_space(data_path, benchmark)\n",
    "dfs = parse_scores(search_space)"
   ],
   "metadata": {
    "collapsed": false,
    "ExecuteTime": {
     "end_time": "2023-11-30T13:03:36.111379400Z",
     "start_time": "2023-11-30T13:03:35.455685300Z"
    }
   }
  },
  {
   "cell_type": "code",
   "execution_count": 3,
   "outputs": [
    {
     "data": {
      "text/plain": "dict_keys(['class_scene', 'class_object', 'autoencoder', 'normal', 'jigsaw', 'room_layout', 'segmentsemantic'])"
     },
     "execution_count": 3,
     "metadata": {},
     "output_type": "execute_result"
    }
   ],
   "source": [
    "dfs.keys()"
   ],
   "metadata": {
    "collapsed": false,
    "ExecuteTime": {
     "end_time": "2023-11-30T13:03:36.144475300Z",
     "start_time": "2023-11-30T13:03:36.117565400Z"
    }
   }
  },
  {
   "cell_type": "code",
   "execution_count": 4,
   "outputs": [],
   "source": [
    "dataset = 'class_scene'\n",
    "data = dfs[dataset]"
   ],
   "metadata": {
    "collapsed": false,
    "ExecuteTime": {
     "end_time": "2023-11-30T13:03:36.498475Z",
     "start_time": "2023-11-30T13:03:36.478657400Z"
    }
   }
  },
  {
   "cell_type": "code",
   "execution_count": 5,
   "outputs": [],
   "source": [
    "# channel change: [2, 4]; stride change: [3, 4]"
   ],
   "metadata": {
    "collapsed": false,
    "ExecuteTime": {
     "end_time": "2023-11-30T13:03:37.291650500Z",
     "start_time": "2023-11-30T13:03:37.264199300Z"
    }
   }
  },
  {
   "cell_type": "code",
   "execution_count": 6,
   "outputs": [
    {
     "data": {
      "text/plain": "                     net   val_accs    fisher         flops  grad_norm  \\\n0     (2, 3, 2, 3, 2, 3)  54.488457  1.224128   8412.831744  26.729975   \n1     (3, 1, 1, 2, 1, 2)  52.040207  0.347729   3847.127040   7.749443   \n2     (4, 4, 1, 2, 1, 1)  53.025478  1.788998   8757.624832  19.600498   \n3     (4, 3, 3, 1, 3, 2)  50.746418  1.512442    906.483712  34.669132   \n4     (2, 1, 1, 3, 2, 3)  55.573250  0.547060  10486.702080  12.762392   \n...                  ...        ...       ...           ...        ...   \n3251  (4, 1, 1, 3, 4, 4)  51.671974  1.367546   2266.288128  32.988228   \n3252  (1, 4, 1, 2, 4, 3)  55.374207  1.153950   6765.125632  22.905090   \n3253     (2, 3, 4, 3, 4)  53.383759  1.733507   3697.004544  34.260513   \n3254     (4, 3, 2, 1, 4)  52.562698  0.780785   2466.291712  16.966343   \n3255     (3, 3, 2, 3, 3)  48.457405  0.851572    470.471680  21.700926   \n\n          grasp      jacov     l2_norm        nwot     params     plain  \\\n0      5.725534 -32.010033  680.217773  494.165980  23.810143  0.003494   \n1     -0.124374 -32.011106  396.607269  478.706460   3.699935  0.001887   \n2      1.069871 -32.015042  673.558594  477.264658  32.314719  0.049673   \n3     10.072220 -32.010837  489.532349  448.223581   5.074271  0.081322   \n4      0.243145 -32.010186  507.085022  511.857239   6.877535  0.036490   \n...         ...        ...         ...         ...        ...       ...   \n3251   5.798134 -32.011667  534.842163  468.713476  12.859999  0.058923   \n3252   1.906332 -32.011826  595.817810  488.912078  21.514079  0.080528   \n3253  12.492985 -32.015507  519.842346  481.858619  14.105695 -0.018997   \n3254   1.523422 -32.015158  497.444519  460.629998  14.039647  0.064737   \n3255   3.702299 -32.015732  358.406769  441.475381   2.072543  0.013865   \n\n            snip        zen     epe_nas     synflow  random    rank  \n0     294.458923  92.824593  568.254794  106.095618     129   828.0  \n1      60.061455  76.052307  557.312114   95.667023    2291  2172.5  \n2     238.195007  88.925102  329.478267  108.859891    2891  1665.0  \n3     274.857574  79.667213  502.820006   97.333634    1141  2692.5  \n4     115.483612  83.242722  492.245915  101.301427    2008   298.5  \n...          ...        ...         ...         ...     ...     ...  \n3251  304.852448  81.559113  564.391043  101.087128     706  2335.5  \n3252  237.685104  85.060875  674.621578  103.341069    1572   386.5  \n3253  328.126099  74.797157  638.571885   87.751223    1633  1447.0  \n3254  168.335815  73.851662  511.464159   88.476610    3021  1915.0  \n3255  148.586563  64.418503  570.670589   80.104521    1672  3184.0  \n\n[3256 rows x 17 columns]",
      "text/html": "<div>\n<style scoped>\n    .dataframe tbody tr th:only-of-type {\n        vertical-align: middle;\n    }\n\n    .dataframe tbody tr th {\n        vertical-align: top;\n    }\n\n    .dataframe thead th {\n        text-align: right;\n    }\n</style>\n<table border=\"1\" class=\"dataframe\">\n  <thead>\n    <tr style=\"text-align: right;\">\n      <th></th>\n      <th>net</th>\n      <th>val_accs</th>\n      <th>fisher</th>\n      <th>flops</th>\n      <th>grad_norm</th>\n      <th>grasp</th>\n      <th>jacov</th>\n      <th>l2_norm</th>\n      <th>nwot</th>\n      <th>params</th>\n      <th>plain</th>\n      <th>snip</th>\n      <th>zen</th>\n      <th>epe_nas</th>\n      <th>synflow</th>\n      <th>random</th>\n      <th>rank</th>\n    </tr>\n  </thead>\n  <tbody>\n    <tr>\n      <th>0</th>\n      <td>(2, 3, 2, 3, 2, 3)</td>\n      <td>54.488457</td>\n      <td>1.224128</td>\n      <td>8412.831744</td>\n      <td>26.729975</td>\n      <td>5.725534</td>\n      <td>-32.010033</td>\n      <td>680.217773</td>\n      <td>494.165980</td>\n      <td>23.810143</td>\n      <td>0.003494</td>\n      <td>294.458923</td>\n      <td>92.824593</td>\n      <td>568.254794</td>\n      <td>106.095618</td>\n      <td>129</td>\n      <td>828.0</td>\n    </tr>\n    <tr>\n      <th>1</th>\n      <td>(3, 1, 1, 2, 1, 2)</td>\n      <td>52.040207</td>\n      <td>0.347729</td>\n      <td>3847.127040</td>\n      <td>7.749443</td>\n      <td>-0.124374</td>\n      <td>-32.011106</td>\n      <td>396.607269</td>\n      <td>478.706460</td>\n      <td>3.699935</td>\n      <td>0.001887</td>\n      <td>60.061455</td>\n      <td>76.052307</td>\n      <td>557.312114</td>\n      <td>95.667023</td>\n      <td>2291</td>\n      <td>2172.5</td>\n    </tr>\n    <tr>\n      <th>2</th>\n      <td>(4, 4, 1, 2, 1, 1)</td>\n      <td>53.025478</td>\n      <td>1.788998</td>\n      <td>8757.624832</td>\n      <td>19.600498</td>\n      <td>1.069871</td>\n      <td>-32.015042</td>\n      <td>673.558594</td>\n      <td>477.264658</td>\n      <td>32.314719</td>\n      <td>0.049673</td>\n      <td>238.195007</td>\n      <td>88.925102</td>\n      <td>329.478267</td>\n      <td>108.859891</td>\n      <td>2891</td>\n      <td>1665.0</td>\n    </tr>\n    <tr>\n      <th>3</th>\n      <td>(4, 3, 3, 1, 3, 2)</td>\n      <td>50.746418</td>\n      <td>1.512442</td>\n      <td>906.483712</td>\n      <td>34.669132</td>\n      <td>10.072220</td>\n      <td>-32.010837</td>\n      <td>489.532349</td>\n      <td>448.223581</td>\n      <td>5.074271</td>\n      <td>0.081322</td>\n      <td>274.857574</td>\n      <td>79.667213</td>\n      <td>502.820006</td>\n      <td>97.333634</td>\n      <td>1141</td>\n      <td>2692.5</td>\n    </tr>\n    <tr>\n      <th>4</th>\n      <td>(2, 1, 1, 3, 2, 3)</td>\n      <td>55.573250</td>\n      <td>0.547060</td>\n      <td>10486.702080</td>\n      <td>12.762392</td>\n      <td>0.243145</td>\n      <td>-32.010186</td>\n      <td>507.085022</td>\n      <td>511.857239</td>\n      <td>6.877535</td>\n      <td>0.036490</td>\n      <td>115.483612</td>\n      <td>83.242722</td>\n      <td>492.245915</td>\n      <td>101.301427</td>\n      <td>2008</td>\n      <td>298.5</td>\n    </tr>\n    <tr>\n      <th>...</th>\n      <td>...</td>\n      <td>...</td>\n      <td>...</td>\n      <td>...</td>\n      <td>...</td>\n      <td>...</td>\n      <td>...</td>\n      <td>...</td>\n      <td>...</td>\n      <td>...</td>\n      <td>...</td>\n      <td>...</td>\n      <td>...</td>\n      <td>...</td>\n      <td>...</td>\n      <td>...</td>\n      <td>...</td>\n    </tr>\n    <tr>\n      <th>3251</th>\n      <td>(4, 1, 1, 3, 4, 4)</td>\n      <td>51.671974</td>\n      <td>1.367546</td>\n      <td>2266.288128</td>\n      <td>32.988228</td>\n      <td>5.798134</td>\n      <td>-32.011667</td>\n      <td>534.842163</td>\n      <td>468.713476</td>\n      <td>12.859999</td>\n      <td>0.058923</td>\n      <td>304.852448</td>\n      <td>81.559113</td>\n      <td>564.391043</td>\n      <td>101.087128</td>\n      <td>706</td>\n      <td>2335.5</td>\n    </tr>\n    <tr>\n      <th>3252</th>\n      <td>(1, 4, 1, 2, 4, 3)</td>\n      <td>55.374207</td>\n      <td>1.153950</td>\n      <td>6765.125632</td>\n      <td>22.905090</td>\n      <td>1.906332</td>\n      <td>-32.011826</td>\n      <td>595.817810</td>\n      <td>488.912078</td>\n      <td>21.514079</td>\n      <td>0.080528</td>\n      <td>237.685104</td>\n      <td>85.060875</td>\n      <td>674.621578</td>\n      <td>103.341069</td>\n      <td>1572</td>\n      <td>386.5</td>\n    </tr>\n    <tr>\n      <th>3253</th>\n      <td>(2, 3, 4, 3, 4)</td>\n      <td>53.383759</td>\n      <td>1.733507</td>\n      <td>3697.004544</td>\n      <td>34.260513</td>\n      <td>12.492985</td>\n      <td>-32.015507</td>\n      <td>519.842346</td>\n      <td>481.858619</td>\n      <td>14.105695</td>\n      <td>-0.018997</td>\n      <td>328.126099</td>\n      <td>74.797157</td>\n      <td>638.571885</td>\n      <td>87.751223</td>\n      <td>1633</td>\n      <td>1447.0</td>\n    </tr>\n    <tr>\n      <th>3254</th>\n      <td>(4, 3, 2, 1, 4)</td>\n      <td>52.562698</td>\n      <td>0.780785</td>\n      <td>2466.291712</td>\n      <td>16.966343</td>\n      <td>1.523422</td>\n      <td>-32.015158</td>\n      <td>497.444519</td>\n      <td>460.629998</td>\n      <td>14.039647</td>\n      <td>0.064737</td>\n      <td>168.335815</td>\n      <td>73.851662</td>\n      <td>511.464159</td>\n      <td>88.476610</td>\n      <td>3021</td>\n      <td>1915.0</td>\n    </tr>\n    <tr>\n      <th>3255</th>\n      <td>(3, 3, 2, 3, 3)</td>\n      <td>48.457405</td>\n      <td>0.851572</td>\n      <td>470.471680</td>\n      <td>21.700926</td>\n      <td>3.702299</td>\n      <td>-32.015732</td>\n      <td>358.406769</td>\n      <td>441.475381</td>\n      <td>2.072543</td>\n      <td>0.013865</td>\n      <td>148.586563</td>\n      <td>64.418503</td>\n      <td>570.670589</td>\n      <td>80.104521</td>\n      <td>1672</td>\n      <td>3184.0</td>\n    </tr>\n  </tbody>\n</table>\n<p>3256 rows × 17 columns</p>\n</div>"
     },
     "execution_count": 6,
     "metadata": {},
     "output_type": "execute_result"
    }
   ],
   "source": [
    "data"
   ],
   "metadata": {
    "collapsed": false,
    "ExecuteTime": {
     "end_time": "2023-11-30T13:03:37.708488600Z",
     "start_time": "2023-11-30T13:03:37.647504500Z"
    }
   }
  },
  {
   "cell_type": "code",
   "execution_count": 7,
   "outputs": [],
   "source": [
    "def get_encoding(net):\n",
    "    res = []\n",
    "    net = net.strip('()').split(',')\n",
    "\n",
    "    for idx in net:\n",
    "        encoding = {}\n",
    "        idx = int(idx)\n",
    "        encoding['channel'] = idx % 2 == 0\n",
    "        encoding['stride'] = idx > 2\n",
    "        res.append(encoding)\n",
    "    \n",
    "    return res"
   ],
   "metadata": {
    "collapsed": false,
    "ExecuteTime": {
     "end_time": "2023-11-30T13:04:32.327735900Z",
     "start_time": "2023-11-30T13:04:32.259693500Z"
    }
   }
  },
  {
   "cell_type": "code",
   "execution_count": 12,
   "outputs": [
    {
     "data": {
      "text/plain": "[{'channel': True, 'stride': False},\n {'channel': False, 'stride': True},\n {'channel': True, 'stride': False},\n {'channel': False, 'stride': True},\n {'channel': True, 'stride': False},\n {'channel': False, 'stride': True}]"
     },
     "execution_count": 12,
     "metadata": {},
     "output_type": "execute_result"
    }
   ],
   "source": [
    "enc = get_encoding(data.iloc[0]['net'])\n",
    "enc"
   ],
   "metadata": {
    "collapsed": false,
    "ExecuteTime": {
     "end_time": "2023-11-30T13:08:52.992467500Z",
     "start_time": "2023-11-30T13:08:52.961271800Z"
    }
   }
  },
  {
   "cell_type": "code",
   "execution_count": 13,
   "outputs": [],
   "source": [
    "def get_state_at_i(net):\n",
    "    channel = 0\n",
    "    stride = 0\n",
    "    \n",
    "    res = {}\n",
    "    for i in range(6):\n",
    "        if i >= len(net):\n",
    "            channel = 0\n",
    "            stride = 0\n",
    "        else:\n",
    "            channel += int(net[i]['channel'])\n",
    "            stride += int(net[i]['stride'])\n",
    "        \n",
    "        res[f\"ch_pos_{i}\"] = channel\n",
    "        res[f\"s_pos_{i}\"] = stride\n",
    "    \n",
    "    return res"
   ],
   "metadata": {
    "collapsed": false,
    "ExecuteTime": {
     "end_time": "2023-11-30T13:08:54.786940200Z",
     "start_time": "2023-11-30T13:08:54.781937300Z"
    }
   }
  },
  {
   "cell_type": "code",
   "execution_count": 14,
   "outputs": [
    {
     "data": {
      "text/plain": "{'ch_pos_0': 1,\n 's_pos_0': 0,\n 'ch_pos_1': 1,\n 's_pos_1': 1,\n 'ch_pos_2': 2,\n 's_pos_2': 1,\n 'ch_pos_3': 2,\n 's_pos_3': 2,\n 'ch_pos_4': 3,\n 's_pos_4': 2,\n 'ch_pos_5': 3,\n 's_pos_5': 3}"
     },
     "execution_count": 14,
     "metadata": {},
     "output_type": "execute_result"
    }
   ],
   "source": [
    "get_state_at_i(enc)"
   ],
   "metadata": {
    "collapsed": false,
    "ExecuteTime": {
     "end_time": "2023-11-30T13:08:57.007885100Z",
     "start_time": "2023-11-30T13:08:56.992776900Z"
    }
   }
  },
  {
   "cell_type": "code",
   "execution_count": null,
   "outputs": [],
   "source": [],
   "metadata": {
    "collapsed": false
   }
  }
 ],
 "metadata": {
  "kernelspec": {
   "display_name": "Python 3",
   "language": "python",
   "name": "python3"
  },
  "language_info": {
   "codemirror_mode": {
    "name": "ipython",
    "version": 2
   },
   "file_extension": ".py",
   "mimetype": "text/x-python",
   "name": "python",
   "nbconvert_exporter": "python",
   "pygments_lexer": "ipython2",
   "version": "2.7.6"
  }
 },
 "nbformat": 4,
 "nbformat_minor": 0
}
