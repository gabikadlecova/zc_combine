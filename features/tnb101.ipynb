{
 "cells": [
  {
   "cell_type": "code",
   "execution_count": 17,
   "metadata": {
    "collapsed": true,
    "ExecuteTime": {
     "start_time": "2023-08-01T15:43:57.426556Z",
     "end_time": "2023-08-01T15:43:57.433575Z"
    }
   },
   "outputs": [],
   "source": [
    "import pandas as pd\n",
    "\n",
    "naslib_path = '../../zero_cost/NASLib'\n",
    "benchmark = 'zc_transbench101_micro'"
   ]
  },
  {
   "cell_type": "code",
   "execution_count": 18,
   "outputs": [],
   "source": [
    "from zc_combine.utils.naslib_utils import load_search_space, parse_scores\n",
    "\n",
    "search_space = load_search_space(naslib_path, benchmark)\n",
    "dfs = parse_scores(search_space)"
   ],
   "metadata": {
    "collapsed": false,
    "ExecuteTime": {
     "start_time": "2023-08-01T15:43:57.714718Z",
     "end_time": "2023-08-01T15:43:58.911010Z"
    }
   }
  },
  {
   "cell_type": "code",
   "execution_count": 19,
   "outputs": [],
   "source": [
    "dataset = 'class_scene'\n",
    "data = dfs[dataset]"
   ],
   "metadata": {
    "collapsed": false,
    "ExecuteTime": {
     "start_time": "2023-08-01T15:43:58.914010Z",
     "end_time": "2023-08-01T15:43:58.917010Z"
    }
   }
  },
  {
   "cell_type": "code",
   "execution_count": 20,
   "outputs": [
    {
     "data": {
      "text/plain": "'|avg_pool_3x3~0|+|nor_conv_1x1~0|skip_connect~1|+|nor_conv_1x1~0|skip_connect~1|skip_connect~2|'"
     },
     "execution_count": 20,
     "metadata": {},
     "output_type": "execute_result"
    }
   ],
   "source": [
    "import json\n",
    "with open('meta.json', 'r') as f:\n",
    "    meta = json.load(f)\n",
    "nb201_unique = [v['nb201-string'] for k, v in meta['ids'].items() if k == v['isomorph']]\n",
    "nb201_unique[0]"
   ],
   "metadata": {
    "collapsed": false,
    "ExecuteTime": {
     "start_time": "2023-08-01T15:43:58.919013Z",
     "end_time": "2023-08-01T15:43:58.983448Z"
    }
   }
  },
  {
   "cell_type": "code",
   "execution_count": 21,
   "outputs": [
    {
     "name": "stdout",
     "output_type": "stream",
     "text": [
      "4096\n"
     ]
    }
   ],
   "source": [
    "print(len(data))"
   ],
   "metadata": {
    "collapsed": false,
    "ExecuteTime": {
     "start_time": "2023-08-01T15:43:58.963390Z",
     "end_time": "2023-08-01T15:43:58.983448Z"
    }
   }
  },
  {
   "cell_type": "code",
   "execution_count": 22,
   "outputs": [],
   "source": [
    "from zc_combine.features.conversions import keep_only_isomorpic_nb201\n",
    "\n",
    "data = keep_only_isomorpic_nb201(data, meta, zero_is_1=False)"
   ],
   "metadata": {
    "collapsed": false,
    "ExecuteTime": {
     "start_time": "2023-08-01T15:43:58.963390Z",
     "end_time": "2023-08-01T15:43:59.039036Z"
    }
   }
  },
  {
   "cell_type": "code",
   "execution_count": 23,
   "outputs": [],
   "source": [
    "from zc_combine.fixes.operations import get_ops_edges_tnb101\n",
    "from zc_combine.fixes.utils import nb201_zero_out_unreachable\n",
    "\n",
    "_, edge_map = get_ops_edges_tnb101()\n",
    "nb201_zero_out_unreachable(data, edge_map, zero_op=0)"
   ],
   "metadata": {
    "collapsed": false,
    "ExecuteTime": {
     "start_time": "2023-08-01T15:43:59.013023Z",
     "end_time": "2023-08-01T15:43:59.235250Z"
    }
   }
  },
  {
   "cell_type": "code",
   "execution_count": 24,
   "outputs": [
    {
     "name": "stdout",
     "output_type": "stream",
     "text": [
      "1219\n",
      "1079\n"
     ]
    }
   ],
   "source": [
    "print(len(data))\n",
    "data = data[data['net'] == data['new_net']]\n",
    "print(len(data))"
   ],
   "metadata": {
    "collapsed": false,
    "ExecuteTime": {
     "start_time": "2023-08-01T15:43:59.218592Z",
     "end_time": "2023-08-01T15:43:59.319894Z"
    }
   }
  },
  {
   "cell_type": "code",
   "execution_count": 25,
   "outputs": [],
   "source": [
    "from zc_combine.features.conversions import tnb101_to_graph\n",
    "\n",
    "nets = {i: tnb101_to_graph(data.loc[i]) for i in data.index}"
   ],
   "metadata": {
    "collapsed": false,
    "ExecuteTime": {
     "start_time": "2023-08-01T15:44:43.777110Z",
     "end_time": "2023-08-01T15:44:43.897646Z"
    }
   }
  },
  {
   "cell_type": "code",
   "execution_count": 34,
   "outputs": [],
   "source": [
    "import json\n",
    "\n",
    "with open('../zc_combine/configs/tnb101_first.json', 'r') as f:\n",
    "    cfg = json.load(f)"
   ],
   "metadata": {
    "collapsed": false,
    "ExecuteTime": {
     "start_time": "2023-08-01T16:05:08.764023Z",
     "end_time": "2023-08-01T16:05:08.779021Z"
    }
   }
  },
  {
   "cell_type": "code",
   "execution_count": 35,
   "outputs": [
    {
     "data": {
      "text/plain": "dict_keys(['op_count', 'op_on_position', 'min_path_len', 'max_op_on_path', 'node_degree'])"
     },
     "execution_count": 35,
     "metadata": {},
     "output_type": "execute_result"
    }
   ],
   "source": [
    "from zc_combine.features.nasbench201 import feature_func_dict\n",
    "from zc_combine.features.dataset import get_feature_dataset\n",
    "\n",
    "feature_dataset = get_feature_dataset(nets, cfg, feature_func_dict)\n",
    "feature_dataset.keys()"
   ],
   "metadata": {
    "collapsed": false,
    "ExecuteTime": {
     "start_time": "2023-08-01T16:05:09.005534Z",
     "end_time": "2023-08-01T16:05:09.607097Z"
    }
   }
  },
  {
   "cell_type": "code",
   "execution_count": 36,
   "outputs": [
    {
     "data": {
      "text/plain": "      op_count_0  op_count_1  op_count_2  op_count_3  op_count_4  \\\nidx                                                                \n0              0           0           3           3           0   \n1              0           3           2           1           0   \n6              0           2           2           2           0   \n7              0           1           2           3           0   \n8              0           2           2           2           0   \n...          ...         ...         ...         ...         ...   \n4082           1           0           2           3           0   \n4086           1           2           2           1           0   \n4087           1           0           1           4           0   \n4092           1           0           3           2           0   \n4094           2           1           2           1           0   \n\n      min_path_len_banned_[0]  min_path_len_banned_[0, 1]  \\\nidx                                                         \n0                           1                           1   \n1                           1                           1   \n6                           1                           1   \n7                           1                           1   \n8                           1                           1   \n...                       ...                         ...   \n4082                        2                           2   \n4086                        2                           2   \n4087                        1                           1   \n4092                        2                           2   \n4094                        2                           2   \n\n      max_op_on_path_allowed_[1]  max_op_on_path_allowed_[1, 2]  \\\nidx                                                               \n0                              0                              2   \n1                              0                              1   \n6                              0                              2   \n7                              0                              0   \n8                              0                              1   \n...                          ...                            ...   \n4082                           0                              0   \n4086                           2                              2   \n4087                           0                              0   \n4092                           0                              0   \n4094                           0                              0   \n\n      max_op_on_path_allowed_[1, 2, 3]  ...  \\\nidx                                     ...   \n0                                    1  ...   \n1                                    1  ...   \n6                                    1  ...   \n7                                    1  ...   \n8                                    1  ...   \n...                                ...  ...   \n4082                                 2  ...   \n4086                                 2  ...   \n4087                                 1  ...   \n4092                                 2  ...   \n4094                                 2  ...   \n\n      node_degree_allowed_[1, 2]_avg_out  \\\nidx                                        \n0                                   0.75   \n1                                   1.25   \n6                                   1.00   \n7                                   0.75   \n8                                   1.00   \n...                                  ...   \n4082                                0.50   \n4086                                1.00   \n4087                                0.25   \n4092                                0.75   \n4094                                0.75   \n\n      node_degree_allowed_[1, 3]_in_degree  \\\nidx                                          \n0                                        2   \n1                                        2   \n6                                        2   \n7                                        3   \n8                                        2   \n...                                    ...   \n4082                                     1   \n4086                                     2   \n4087                                     2   \n4092                                     0   \n4094                                     1   \n\n      node_degree_allowed_[1, 3]_out_degree  \\\nidx                                           \n0                                         2   \n1                                         1   \n6                                         2   \n7                                         2   \n8                                         2   \n...                                     ...   \n4082                                      1   \n4086                                      1   \n4087                                      3   \n4092                                      2   \n4094                                      0   \n\n      node_degree_allowed_[1, 3]_avg_in  node_degree_allowed_[1, 3]_avg_out  \\\nidx                                                                           \n0                                  0.75                                0.75   \n1                                  1.00                                1.00   \n6                                  1.00                                1.00   \n7                                  1.00                                1.00   \n8                                  1.00                                1.00   \n...                                 ...                                 ...   \n4082                               0.75                                0.75   \n4086                               0.75                                0.75   \n4087                               1.00                                1.00   \n4092                               0.50                                0.50   \n4094                               0.50                                0.50   \n\n      node_degree_allowed_[1, 2, 3]_in_degree  \\\nidx                                             \n0                                           3   \n1                                           3   \n6                                           3   \n7                                           3   \n8                                           3   \n...                                       ...   \n4082                                        2   \n4086                                        2   \n4087                                        3   \n4092                                        2   \n4094                                        1   \n\n      node_degree_allowed_[1, 2, 3]_out_degree  \\\nidx                                              \n0                                            3   \n1                                            3   \n6                                            3   \n7                                            3   \n8                                            3   \n...                                        ...   \n4082                                         2   \n4086                                         2   \n4087                                         3   \n4092                                         2   \n4094                                         2   \n\n      node_degree_allowed_[1, 2, 3]_avg_in  \\\nidx                                          \n0                                     1.50   \n1                                     1.50   \n6                                     1.50   \n7                                     1.50   \n8                                     1.50   \n...                                    ...   \n4082                                  1.25   \n4086                                  1.25   \n4087                                  1.25   \n4092                                  1.25   \n4094                                  1.00   \n\n      node_degree_allowed_[1, 2, 3]_avg_out   val_accs  \nidx                                                     \n0                                      1.50  53.836586  \n1                                      1.50  53.015526  \n6                                      1.50  53.090168  \n7                                      1.50  53.756966  \n8                                      1.50  53.607685  \n...                                     ...        ...  \n4082                                   1.25  51.960590  \n4086                                   1.25  52.861267  \n4087                                   1.25  53.080215  \n4092                                   1.25  50.059715  \n4094                                   1.00  51.398289  \n\n[1079 rows x 47 columns]",
      "text/html": "<div>\n<style scoped>\n    .dataframe tbody tr th:only-of-type {\n        vertical-align: middle;\n    }\n\n    .dataframe tbody tr th {\n        vertical-align: top;\n    }\n\n    .dataframe thead th {\n        text-align: right;\n    }\n</style>\n<table border=\"1\" class=\"dataframe\">\n  <thead>\n    <tr style=\"text-align: right;\">\n      <th></th>\n      <th>op_count_0</th>\n      <th>op_count_1</th>\n      <th>op_count_2</th>\n      <th>op_count_3</th>\n      <th>op_count_4</th>\n      <th>min_path_len_banned_[0]</th>\n      <th>min_path_len_banned_[0, 1]</th>\n      <th>max_op_on_path_allowed_[1]</th>\n      <th>max_op_on_path_allowed_[1, 2]</th>\n      <th>max_op_on_path_allowed_[1, 2, 3]</th>\n      <th>...</th>\n      <th>node_degree_allowed_[1, 2]_avg_out</th>\n      <th>node_degree_allowed_[1, 3]_in_degree</th>\n      <th>node_degree_allowed_[1, 3]_out_degree</th>\n      <th>node_degree_allowed_[1, 3]_avg_in</th>\n      <th>node_degree_allowed_[1, 3]_avg_out</th>\n      <th>node_degree_allowed_[1, 2, 3]_in_degree</th>\n      <th>node_degree_allowed_[1, 2, 3]_out_degree</th>\n      <th>node_degree_allowed_[1, 2, 3]_avg_in</th>\n      <th>node_degree_allowed_[1, 2, 3]_avg_out</th>\n      <th>val_accs</th>\n    </tr>\n    <tr>\n      <th>idx</th>\n      <th></th>\n      <th></th>\n      <th></th>\n      <th></th>\n      <th></th>\n      <th></th>\n      <th></th>\n      <th></th>\n      <th></th>\n      <th></th>\n      <th></th>\n      <th></th>\n      <th></th>\n      <th></th>\n      <th></th>\n      <th></th>\n      <th></th>\n      <th></th>\n      <th></th>\n      <th></th>\n      <th></th>\n    </tr>\n  </thead>\n  <tbody>\n    <tr>\n      <th>0</th>\n      <td>0</td>\n      <td>0</td>\n      <td>3</td>\n      <td>3</td>\n      <td>0</td>\n      <td>1</td>\n      <td>1</td>\n      <td>0</td>\n      <td>2</td>\n      <td>1</td>\n      <td>...</td>\n      <td>0.75</td>\n      <td>2</td>\n      <td>2</td>\n      <td>0.75</td>\n      <td>0.75</td>\n      <td>3</td>\n      <td>3</td>\n      <td>1.50</td>\n      <td>1.50</td>\n      <td>53.836586</td>\n    </tr>\n    <tr>\n      <th>1</th>\n      <td>0</td>\n      <td>3</td>\n      <td>2</td>\n      <td>1</td>\n      <td>0</td>\n      <td>1</td>\n      <td>1</td>\n      <td>0</td>\n      <td>1</td>\n      <td>1</td>\n      <td>...</td>\n      <td>1.25</td>\n      <td>2</td>\n      <td>1</td>\n      <td>1.00</td>\n      <td>1.00</td>\n      <td>3</td>\n      <td>3</td>\n      <td>1.50</td>\n      <td>1.50</td>\n      <td>53.015526</td>\n    </tr>\n    <tr>\n      <th>6</th>\n      <td>0</td>\n      <td>2</td>\n      <td>2</td>\n      <td>2</td>\n      <td>0</td>\n      <td>1</td>\n      <td>1</td>\n      <td>0</td>\n      <td>2</td>\n      <td>1</td>\n      <td>...</td>\n      <td>1.00</td>\n      <td>2</td>\n      <td>2</td>\n      <td>1.00</td>\n      <td>1.00</td>\n      <td>3</td>\n      <td>3</td>\n      <td>1.50</td>\n      <td>1.50</td>\n      <td>53.090168</td>\n    </tr>\n    <tr>\n      <th>7</th>\n      <td>0</td>\n      <td>1</td>\n      <td>2</td>\n      <td>3</td>\n      <td>0</td>\n      <td>1</td>\n      <td>1</td>\n      <td>0</td>\n      <td>0</td>\n      <td>1</td>\n      <td>...</td>\n      <td>0.75</td>\n      <td>3</td>\n      <td>2</td>\n      <td>1.00</td>\n      <td>1.00</td>\n      <td>3</td>\n      <td>3</td>\n      <td>1.50</td>\n      <td>1.50</td>\n      <td>53.756966</td>\n    </tr>\n    <tr>\n      <th>8</th>\n      <td>0</td>\n      <td>2</td>\n      <td>2</td>\n      <td>2</td>\n      <td>0</td>\n      <td>1</td>\n      <td>1</td>\n      <td>0</td>\n      <td>1</td>\n      <td>1</td>\n      <td>...</td>\n      <td>1.00</td>\n      <td>2</td>\n      <td>2</td>\n      <td>1.00</td>\n      <td>1.00</td>\n      <td>3</td>\n      <td>3</td>\n      <td>1.50</td>\n      <td>1.50</td>\n      <td>53.607685</td>\n    </tr>\n    <tr>\n      <th>...</th>\n      <td>...</td>\n      <td>...</td>\n      <td>...</td>\n      <td>...</td>\n      <td>...</td>\n      <td>...</td>\n      <td>...</td>\n      <td>...</td>\n      <td>...</td>\n      <td>...</td>\n      <td>...</td>\n      <td>...</td>\n      <td>...</td>\n      <td>...</td>\n      <td>...</td>\n      <td>...</td>\n      <td>...</td>\n      <td>...</td>\n      <td>...</td>\n      <td>...</td>\n      <td>...</td>\n    </tr>\n    <tr>\n      <th>4082</th>\n      <td>1</td>\n      <td>0</td>\n      <td>2</td>\n      <td>3</td>\n      <td>0</td>\n      <td>2</td>\n      <td>2</td>\n      <td>0</td>\n      <td>0</td>\n      <td>2</td>\n      <td>...</td>\n      <td>0.50</td>\n      <td>1</td>\n      <td>1</td>\n      <td>0.75</td>\n      <td>0.75</td>\n      <td>2</td>\n      <td>2</td>\n      <td>1.25</td>\n      <td>1.25</td>\n      <td>51.960590</td>\n    </tr>\n    <tr>\n      <th>4086</th>\n      <td>1</td>\n      <td>2</td>\n      <td>2</td>\n      <td>1</td>\n      <td>0</td>\n      <td>2</td>\n      <td>2</td>\n      <td>2</td>\n      <td>2</td>\n      <td>2</td>\n      <td>...</td>\n      <td>1.00</td>\n      <td>2</td>\n      <td>1</td>\n      <td>0.75</td>\n      <td>0.75</td>\n      <td>2</td>\n      <td>2</td>\n      <td>1.25</td>\n      <td>1.25</td>\n      <td>52.861267</td>\n    </tr>\n    <tr>\n      <th>4087</th>\n      <td>1</td>\n      <td>0</td>\n      <td>1</td>\n      <td>4</td>\n      <td>0</td>\n      <td>1</td>\n      <td>1</td>\n      <td>0</td>\n      <td>0</td>\n      <td>1</td>\n      <td>...</td>\n      <td>0.25</td>\n      <td>2</td>\n      <td>3</td>\n      <td>1.00</td>\n      <td>1.00</td>\n      <td>3</td>\n      <td>3</td>\n      <td>1.25</td>\n      <td>1.25</td>\n      <td>53.080215</td>\n    </tr>\n    <tr>\n      <th>4092</th>\n      <td>1</td>\n      <td>0</td>\n      <td>3</td>\n      <td>2</td>\n      <td>0</td>\n      <td>2</td>\n      <td>2</td>\n      <td>0</td>\n      <td>0</td>\n      <td>2</td>\n      <td>...</td>\n      <td>0.75</td>\n      <td>0</td>\n      <td>2</td>\n      <td>0.50</td>\n      <td>0.50</td>\n      <td>2</td>\n      <td>2</td>\n      <td>1.25</td>\n      <td>1.25</td>\n      <td>50.059715</td>\n    </tr>\n    <tr>\n      <th>4094</th>\n      <td>2</td>\n      <td>1</td>\n      <td>2</td>\n      <td>1</td>\n      <td>0</td>\n      <td>2</td>\n      <td>2</td>\n      <td>0</td>\n      <td>0</td>\n      <td>2</td>\n      <td>...</td>\n      <td>0.75</td>\n      <td>1</td>\n      <td>0</td>\n      <td>0.50</td>\n      <td>0.50</td>\n      <td>1</td>\n      <td>2</td>\n      <td>1.00</td>\n      <td>1.00</td>\n      <td>51.398289</td>\n    </tr>\n  </tbody>\n</table>\n<p>1079 rows × 47 columns</p>\n</div>"
     },
     "execution_count": 36,
     "metadata": {},
     "output_type": "execute_result"
    }
   ],
   "source": [
    "features = ['op_count', 'min_path_len', 'max_op_on_path', 'node_degree']\n",
    "dataset = pd.concat([feature_dataset[f] for f in features], axis=1)\n",
    "dataset['val_accs'] = data['val_accs']\n",
    "dataset"
   ],
   "metadata": {
    "collapsed": false,
    "ExecuteTime": {
     "start_time": "2023-08-01T16:05:09.672726Z",
     "end_time": "2023-08-01T16:05:09.673726Z"
    }
   }
  },
  {
   "cell_type": "code",
   "execution_count": 37,
   "outputs": [
    {
     "data": {
      "text/plain": "<Figure size 432x288 with 1 Axes>",
      "image/png": "[encoded data removed]"
     },
     "metadata": {},
     "output_type": "display_data"
    },
    {
     "data": {
      "text/plain": "<Figure size 432x288 with 1 Axes>",
      "image/png": "[encoded data removed]"
     },
     "metadata": {},
     "output_type": "display_data"
    },
    {
     "data": {
      "text/plain": "<Figure size 432x288 with 1 Axes>",
      "image/png": "[encoded data removed]"
     },
     "metadata": {},
     "output_type": "display_data"
    },
    {
     "data": {
      "text/plain": "<Figure size 432x288 with 1 Axes>",
      "image/png": "[encoded data removed]"
     },
     "metadata": {},
     "output_type": "display_data"
    },
    {
     "data": {
      "text/plain": "<Figure size 432x288 with 1 Axes>",
      "image/png": "[encoded data removed]"
     },
     "metadata": {},
     "output_type": "display_data"
    }
   ],
   "source": [
    "import matplotlib.pyplot as plt\n",
    "import seaborn as sns\n",
    "sns.set()\n",
    "\n",
    "plot_df = feature_dataset['op_count'].copy()\n",
    "plot_df['val_accs'] = data['val_accs']\n",
    "\n",
    "import os\n",
    "#os.mkdir('tmp')\n",
    "\n",
    "for c in plot_df.columns:\n",
    "    if c == 'val_accs':\n",
    "        continue\n",
    "    plt.figure()\n",
    "    sns.scatterplot(data=plot_df, x='val_accs', y=c)\n",
    "    plt.title(f\"Counts of {c}\")\n",
    "    #plt.savefig(f'tmp/{c}.png')\n",
    "    plt.show()"
   ],
   "metadata": {
    "collapsed": false,
    "ExecuteTime": {
     "start_time": "2023-08-01T16:05:09.673726Z",
     "end_time": "2023-08-01T16:05:10.345662Z"
    }
   }
  },
  {
   "cell_type": "code",
   "execution_count": 39,
   "outputs": [
    {
     "data": {
      "text/plain": "[2, 3, 2, 3, 2, 3]"
     },
     "execution_count": 39,
     "metadata": {},
     "output_type": "execute_result"
    }
   ],
   "source": [
    "edges = list(edge_map.keys())\n",
    "\n",
    "dataset_raw = {i: [n[1][e] for e in edges] for i, n in nets.items()}\n",
    "dataset_raw[0]"
   ],
   "metadata": {
    "collapsed": false,
    "ExecuteTime": {
     "start_time": "2023-08-01T16:05:38.031164Z",
     "end_time": "2023-08-01T16:05:38.074201Z"
    }
   }
  },
  {
   "cell_type": "code",
   "execution_count": 21,
   "outputs": [],
   "source": [
    "draw = [{'idx': i, **{f'op_{j}': v for j, v in enumerate(o)}} for i, o in dataset_raw.items()]\n",
    "draw = pd.DataFrame(draw).set_index('idx')"
   ],
   "metadata": {
    "collapsed": false,
    "ExecuteTime": {
     "start_time": "2023-07-31T14:09:05.127799Z",
     "end_time": "2023-07-31T14:09:05.229817Z"
    }
   }
  },
  {
   "cell_type": "code",
   "execution_count": 40,
   "outputs": [
    {
     "name": "stdout",
     "output_type": "stream",
     "text": [
      "(1079, 48)\n"
     ]
    },
    {
     "data": {
      "text/plain": "      op_count_0  op_count_1  op_count_2  op_count_3  op_count_4  \\\n0              0           0           3           3           0   \n1              0           3           2           1           0   \n6              0           2           2           2           0   \n7              0           1           2           3           0   \n8              0           2           2           2           0   \n...          ...         ...         ...         ...         ...   \n4082           1           0           2           3           0   \n4086           1           2           2           1           0   \n4087           1           0           1           4           0   \n4092           1           0           3           2           0   \n4094           2           1           2           1           0   \n\n      min_path_len_banned_[0]  min_path_len_banned_[0, 1]  \\\n0                           1                           1   \n1                           1                           1   \n6                           1                           1   \n7                           1                           1   \n8                           1                           1   \n...                       ...                         ...   \n4082                        2                           2   \n4086                        2                           2   \n4087                        1                           1   \n4092                        2                           2   \n4094                        2                           2   \n\n      max_op_on_path_allowed_[1]  max_op_on_path_allowed_[1, 2]  \\\n0                              0                              2   \n1                              0                              1   \n6                              0                              2   \n7                              0                              0   \n8                              0                              1   \n...                          ...                            ...   \n4082                           0                              0   \n4086                           2                              2   \n4087                           0                              0   \n4092                           0                              0   \n4094                           0                              0   \n\n      max_op_on_path_allowed_[1, 2, 3]  ...  \\\n0                                    1  ...   \n1                                    1  ...   \n6                                    1  ...   \n7                                    1  ...   \n8                                    1  ...   \n...                                ...  ...   \n4082                                 2  ...   \n4086                                 2  ...   \n4087                                 1  ...   \n4092                                 2  ...   \n4094                                 2  ...   \n\n      node_degree_allowed_[1, 3]_in_degree  \\\n0                                        2   \n1                                        2   \n6                                        2   \n7                                        3   \n8                                        2   \n...                                    ...   \n4082                                     1   \n4086                                     2   \n4087                                     2   \n4092                                     0   \n4094                                     1   \n\n      node_degree_allowed_[1, 3]_out_degree  \\\n0                                         2   \n1                                         1   \n6                                         2   \n7                                         2   \n8                                         2   \n...                                     ...   \n4082                                      1   \n4086                                      1   \n4087                                      3   \n4092                                      2   \n4094                                      0   \n\n      node_degree_allowed_[1, 3]_avg_in  node_degree_allowed_[1, 3]_avg_out  \\\n0                                  0.75                                0.75   \n1                                  1.00                                1.00   \n6                                  1.00                                1.00   \n7                                  1.00                                1.00   \n8                                  1.00                                1.00   \n...                                 ...                                 ...   \n4082                               0.75                                0.75   \n4086                               0.75                                0.75   \n4087                               1.00                                1.00   \n4092                               0.50                                0.50   \n4094                               0.50                                0.50   \n\n      node_degree_allowed_[1, 2, 3]_in_degree  \\\n0                                           3   \n1                                           3   \n6                                           3   \n7                                           3   \n8                                           3   \n...                                       ...   \n4082                                        2   \n4086                                        2   \n4087                                        3   \n4092                                        2   \n4094                                        1   \n\n      node_degree_allowed_[1, 2, 3]_out_degree  \\\n0                                            3   \n1                                            3   \n6                                            3   \n7                                            3   \n8                                            3   \n...                                        ...   \n4082                                         2   \n4086                                         2   \n4087                                         3   \n4092                                         2   \n4094                                         2   \n\n      node_degree_allowed_[1, 2, 3]_avg_in  \\\n0                                     1.50   \n1                                     1.50   \n6                                     1.50   \n7                                     1.50   \n8                                     1.50   \n...                                    ...   \n4082                                  1.25   \n4086                                  1.25   \n4087                                  1.25   \n4092                                  1.25   \n4094                                  1.00   \n\n      node_degree_allowed_[1, 2, 3]_avg_out        flops     params  \n0                                      1.50  4662.861824  22.372959  \n1                                      1.50  1719.869440   7.892319  \n6                                      1.50  3232.374784  15.565151  \n7                                      1.50  4543.553536  21.861727  \n8                                      1.50  3232.374784  15.565151  \n...                                     ...          ...        ...  \n4082                                   1.25  4718.796800  23.064159  \n4086                                   1.25  1744.805888   8.064351  \n4087                                   1.25  5834.711040  28.331615  \n4092                                   1.25  3577.946112  17.624671  \n4094                                   1.00  1718.722560   7.890527  \n\n[1079 rows x 48 columns]",
      "text/html": "<div>\n<style scoped>\n    .dataframe tbody tr th:only-of-type {\n        vertical-align: middle;\n    }\n\n    .dataframe tbody tr th {\n        vertical-align: top;\n    }\n\n    .dataframe thead th {\n        text-align: right;\n    }\n</style>\n<table border=\"1\" class=\"dataframe\">\n  <thead>\n    <tr style=\"text-align: right;\">\n      <th></th>\n      <th>op_count_0</th>\n      <th>op_count_1</th>\n      <th>op_count_2</th>\n      <th>op_count_3</th>\n      <th>op_count_4</th>\n      <th>min_path_len_banned_[0]</th>\n      <th>min_path_len_banned_[0, 1]</th>\n      <th>max_op_on_path_allowed_[1]</th>\n      <th>max_op_on_path_allowed_[1, 2]</th>\n      <th>max_op_on_path_allowed_[1, 2, 3]</th>\n      <th>...</th>\n      <th>node_degree_allowed_[1, 3]_in_degree</th>\n      <th>node_degree_allowed_[1, 3]_out_degree</th>\n      <th>node_degree_allowed_[1, 3]_avg_in</th>\n      <th>node_degree_allowed_[1, 3]_avg_out</th>\n      <th>node_degree_allowed_[1, 2, 3]_in_degree</th>\n      <th>node_degree_allowed_[1, 2, 3]_out_degree</th>\n      <th>node_degree_allowed_[1, 2, 3]_avg_in</th>\n      <th>node_degree_allowed_[1, 2, 3]_avg_out</th>\n      <th>flops</th>\n      <th>params</th>\n    </tr>\n  </thead>\n  <tbody>\n    <tr>\n      <th>0</th>\n      <td>0</td>\n      <td>0</td>\n      <td>3</td>\n      <td>3</td>\n      <td>0</td>\n      <td>1</td>\n      <td>1</td>\n      <td>0</td>\n      <td>2</td>\n      <td>1</td>\n      <td>...</td>\n      <td>2</td>\n      <td>2</td>\n      <td>0.75</td>\n      <td>0.75</td>\n      <td>3</td>\n      <td>3</td>\n      <td>1.50</td>\n      <td>1.50</td>\n      <td>4662.861824</td>\n      <td>22.372959</td>\n    </tr>\n    <tr>\n      <th>1</th>\n      <td>0</td>\n      <td>3</td>\n      <td>2</td>\n      <td>1</td>\n      <td>0</td>\n      <td>1</td>\n      <td>1</td>\n      <td>0</td>\n      <td>1</td>\n      <td>1</td>\n      <td>...</td>\n      <td>2</td>\n      <td>1</td>\n      <td>1.00</td>\n      <td>1.00</td>\n      <td>3</td>\n      <td>3</td>\n      <td>1.50</td>\n      <td>1.50</td>\n      <td>1719.869440</td>\n      <td>7.892319</td>\n    </tr>\n    <tr>\n      <th>6</th>\n      <td>0</td>\n      <td>2</td>\n      <td>2</td>\n      <td>2</td>\n      <td>0</td>\n      <td>1</td>\n      <td>1</td>\n      <td>0</td>\n      <td>2</td>\n      <td>1</td>\n      <td>...</td>\n      <td>2</td>\n      <td>2</td>\n      <td>1.00</td>\n      <td>1.00</td>\n      <td>3</td>\n      <td>3</td>\n      <td>1.50</td>\n      <td>1.50</td>\n      <td>3232.374784</td>\n      <td>15.565151</td>\n    </tr>\n    <tr>\n      <th>7</th>\n      <td>0</td>\n      <td>1</td>\n      <td>2</td>\n      <td>3</td>\n      <td>0</td>\n      <td>1</td>\n      <td>1</td>\n      <td>0</td>\n      <td>0</td>\n      <td>1</td>\n      <td>...</td>\n      <td>3</td>\n      <td>2</td>\n      <td>1.00</td>\n      <td>1.00</td>\n      <td>3</td>\n      <td>3</td>\n      <td>1.50</td>\n      <td>1.50</td>\n      <td>4543.553536</td>\n      <td>21.861727</td>\n    </tr>\n    <tr>\n      <th>8</th>\n      <td>0</td>\n      <td>2</td>\n      <td>2</td>\n      <td>2</td>\n      <td>0</td>\n      <td>1</td>\n      <td>1</td>\n      <td>0</td>\n      <td>1</td>\n      <td>1</td>\n      <td>...</td>\n      <td>2</td>\n      <td>2</td>\n      <td>1.00</td>\n      <td>1.00</td>\n      <td>3</td>\n      <td>3</td>\n      <td>1.50</td>\n      <td>1.50</td>\n      <td>3232.374784</td>\n      <td>15.565151</td>\n    </tr>\n    <tr>\n      <th>...</th>\n      <td>...</td>\n      <td>...</td>\n      <td>...</td>\n      <td>...</td>\n      <td>...</td>\n      <td>...</td>\n      <td>...</td>\n      <td>...</td>\n      <td>...</td>\n      <td>...</td>\n      <td>...</td>\n      <td>...</td>\n      <td>...</td>\n      <td>...</td>\n      <td>...</td>\n      <td>...</td>\n      <td>...</td>\n      <td>...</td>\n      <td>...</td>\n      <td>...</td>\n      <td>...</td>\n    </tr>\n    <tr>\n      <th>4082</th>\n      <td>1</td>\n      <td>0</td>\n      <td>2</td>\n      <td>3</td>\n      <td>0</td>\n      <td>2</td>\n      <td>2</td>\n      <td>0</td>\n      <td>0</td>\n      <td>2</td>\n      <td>...</td>\n      <td>1</td>\n      <td>1</td>\n      <td>0.75</td>\n      <td>0.75</td>\n      <td>2</td>\n      <td>2</td>\n      <td>1.25</td>\n      <td>1.25</td>\n      <td>4718.796800</td>\n      <td>23.064159</td>\n    </tr>\n    <tr>\n      <th>4086</th>\n      <td>1</td>\n      <td>2</td>\n      <td>2</td>\n      <td>1</td>\n      <td>0</td>\n      <td>2</td>\n      <td>2</td>\n      <td>2</td>\n      <td>2</td>\n      <td>2</td>\n      <td>...</td>\n      <td>2</td>\n      <td>1</td>\n      <td>0.75</td>\n      <td>0.75</td>\n      <td>2</td>\n      <td>2</td>\n      <td>1.25</td>\n      <td>1.25</td>\n      <td>1744.805888</td>\n      <td>8.064351</td>\n    </tr>\n    <tr>\n      <th>4087</th>\n      <td>1</td>\n      <td>0</td>\n      <td>1</td>\n      <td>4</td>\n      <td>0</td>\n      <td>1</td>\n      <td>1</td>\n      <td>0</td>\n      <td>0</td>\n      <td>1</td>\n      <td>...</td>\n      <td>2</td>\n      <td>3</td>\n      <td>1.00</td>\n      <td>1.00</td>\n      <td>3</td>\n      <td>3</td>\n      <td>1.25</td>\n      <td>1.25</td>\n      <td>5834.711040</td>\n      <td>28.331615</td>\n    </tr>\n    <tr>\n      <th>4092</th>\n      <td>1</td>\n      <td>0</td>\n      <td>3</td>\n      <td>2</td>\n      <td>0</td>\n      <td>2</td>\n      <td>2</td>\n      <td>0</td>\n      <td>0</td>\n      <td>2</td>\n      <td>...</td>\n      <td>0</td>\n      <td>2</td>\n      <td>0.50</td>\n      <td>0.50</td>\n      <td>2</td>\n      <td>2</td>\n      <td>1.25</td>\n      <td>1.25</td>\n      <td>3577.946112</td>\n      <td>17.624671</td>\n    </tr>\n    <tr>\n      <th>4094</th>\n      <td>2</td>\n      <td>1</td>\n      <td>2</td>\n      <td>1</td>\n      <td>0</td>\n      <td>2</td>\n      <td>2</td>\n      <td>0</td>\n      <td>0</td>\n      <td>2</td>\n      <td>...</td>\n      <td>1</td>\n      <td>0</td>\n      <td>0.50</td>\n      <td>0.50</td>\n      <td>1</td>\n      <td>2</td>\n      <td>1.00</td>\n      <td>1.00</td>\n      <td>1718.722560</td>\n      <td>7.890527</td>\n    </tr>\n  </tbody>\n</table>\n<p>1079 rows × 48 columns</p>\n</div>"
     },
     "execution_count": 40,
     "metadata": {},
     "output_type": "execute_result"
    }
   ],
   "source": [
    "proxy_cols = [c for c in data.columns if c not in ['random', 'rank', 'new_net', 'net']]\n",
    "\n",
    "\n",
    "def get_dataset(feature_dfs, proxy_df, features, cols):\n",
    "    feat_dfs = [feature_dfs[f] for f in features]\n",
    "    prox_df = proxy_df[cols]\n",
    "\n",
    "    res_data = pd.concat([*feat_dfs, prox_df], axis=1)\n",
    "\n",
    "    y = proxy_df['val_accs'].loc[res_data.index]\n",
    "    if 'val_accs' in res_data:\n",
    "        res_data.drop(columns=['val_accs'], inplace=True)\n",
    "\n",
    "    return res_data, y\n",
    "\n",
    "features = ['op_count', 'min_path_len', 'max_op_on_path', 'node_degree']\n",
    "full_data, full_y = get_dataset(feature_dataset, data, features, ['flops', 'params'])\n",
    "print(full_data.shape)\n",
    "full_data"
   ],
   "metadata": {
    "collapsed": false,
    "ExecuteTime": {
     "start_time": "2023-08-01T16:05:42.897379Z",
     "end_time": "2023-08-01T16:05:42.926943Z"
    }
   }
  },
  {
   "cell_type": "code",
   "execution_count": 42,
   "outputs": [],
   "source": [
    "import numpy as np\n",
    "from scipy.stats import kendalltau, spearmanr\n",
    "from sklearn.ensemble import RandomForestRegressor\n",
    "from sklearn.model_selection import train_test_split\n",
    "\n",
    "\n",
    "def get_splits(fd, fy, train_size=100, seed=42):\n",
    "    return train_test_split(fd, fy, random_state=seed, train_size=train_size)\n",
    "\n",
    "def eval_rf(trx, tex, tryy, tey, n_times=1, random_state=43):\n",
    "    res = {'score': [], 'tau': [], 'corr': []}\n",
    "    rfs = []\n",
    "    for i in range(n_times):\n",
    "        rf = RandomForestRegressor(random_state=random_state + i, n_estimators=100)\n",
    "        rf.fit(trx, tryy)\n",
    "        res['score'].append(rf.score(tex, tey))\n",
    "\n",
    "        preds = rf.predict(tex)\n",
    "        res['tau'].append(kendalltau(preds, tey)[0])\n",
    "        res['corr'].append(spearmanr(preds, tey)[0])\n",
    "        rfs.append(rf)\n",
    "\n",
    "    return rfs, res\n",
    "\n",
    "def print_means(res):\n",
    "    print(\", \".join([f\"{k}: {np.mean(v)}\" for k, v in res.items()]))"
   ],
   "metadata": {
    "collapsed": false,
    "ExecuteTime": {
     "start_time": "2023-08-01T16:05:53.339092Z",
     "end_time": "2023-08-01T16:05:53.358437Z"
    }
   }
  },
  {
   "cell_type": "code",
   "execution_count": 43,
   "outputs": [
    {
     "name": "stdout",
     "output_type": "stream",
     "text": [
      "Train size 100\n",
      "val_accs \n",
      "score: 0.9787656149499921, tau: 0.5920152476743071, corr: 0.7810115783904675\n",
      "\n",
      "val_accs  no fp\n",
      "score: 0.9781623653742244, tau: 0.5848021869926752, corr: 0.771653852197886\n",
      "\n",
      "fisher \n",
      "score: 0.9796315064811536, tau: 0.5943655890706494, corr: 0.7838726773919187\n",
      "\n",
      "fisher  no fp\n",
      "score: 0.9789359396972523, tau: 0.5883473892732378, corr: 0.7762364617208531\n",
      "\n",
      "grad_norm \n",
      "score: 0.9803304355414214, tau: 0.5971960466779823, corr: 0.7869413241550753\n",
      "\n",
      "grad_norm  no fp\n",
      "score: 0.9796904499935218, tau: 0.5936331660508966, corr: 0.7826688761426407\n",
      "\n",
      "grasp \n",
      "score: 0.9802272223586274, tau: 0.5930495193474458, corr: 0.7819362757218217\n",
      "\n",
      "grasp  no fp\n",
      "score: 0.9795776734521112, tau: 0.5838922230155962, corr: 0.7708729487173211\n",
      "\n",
      "jacov \n",
      "score: 0.9797451066317946, tau: 0.5999928170401929, corr: 0.7902135010481844\n",
      "\n",
      "jacov  no fp\n",
      "score: 0.9789288366784412, tau: 0.5947288362854012, corr: 0.7844411446984922\n",
      "\n",
      "l2_norm \n",
      "score: 0.9785181015818436, tau: 0.578556159029649, corr: 0.7687064374704831\n",
      "\n",
      "l2_norm  no fp\n",
      "score: 0.9779965176744225, tau: 0.5735990322392752, corr: 0.7644136953801821\n",
      "\n",
      "nwot \n",
      "score: 0.9789233597503835, tau: 0.5864466163247782, corr: 0.7760294676205367\n",
      "\n",
      "nwot  no fp\n",
      "score: 0.9780498536077245, tau: 0.5798030969485786, corr: 0.7688577247361902\n",
      "\n",
      "plain \n",
      "score: 0.9788047893765167, tau: 0.5893500526910994, corr: 0.7781042560976562\n",
      "\n",
      "plain  no fp\n",
      "score: 0.9778606748394901, tau: 0.5783501600276285, corr: 0.7647182865502073\n",
      "\n",
      "snip \n",
      "score: 0.9799588785499846, tau: 0.5946226536382502, corr: 0.7841082155034952\n",
      "\n",
      "snip  no fp\n",
      "score: 0.9793038750685807, tau: 0.5916440246732568, corr: 0.7799579366760567\n",
      "\n",
      "zen \n",
      "score: 0.9784862878540274, tau: 0.5783692403271967, corr: 0.7690088231543845\n",
      "\n",
      "zen  no fp\n",
      "score: 0.9778536027498348, tau: 0.5733347566632399, corr: 0.7640328781981314\n",
      "\n",
      "epe_nas \n",
      "score: 0.9788686242311281, tau: 0.590947705235066, corr: 0.780137029016759\n",
      "\n",
      "epe_nas  no fp\n",
      "score: 0.9780852805314446, tau: 0.580615545741136, corr: 0.7676274915348815\n",
      "\n",
      "synflow \n",
      "score: 0.9798074996345131, tau: 0.607845619192679, corr: 0.7967746744236479\n",
      "\n",
      "synflow  no fp\n",
      "score: 0.979560863817397, tau: 0.6098940573111503, corr: 0.7995512570833488\n",
      "\n",
      "Train size 200\n",
      "val_accs \n",
      "score: 0.988904692481114, tau: 0.6248000386760774, corr: 0.8050955551712213\n",
      "\n",
      "val_accs  no fp\n",
      "score: 0.9887089582245838, tau: 0.6217484401016546, corr: 0.8009360957535032\n",
      "\n",
      "fisher \n",
      "score: 0.9891558234748766, tau: 0.6289185123241692, corr: 0.8101782343942855\n",
      "\n",
      "fisher  no fp\n",
      "score: 0.9891574702104974, tau: 0.6272982645482215, corr: 0.8089253759747439\n",
      "\n",
      "grad_norm \n",
      "score: 0.9891826989382084, tau: 0.6277459889895438, corr: 0.8097661608864424\n",
      "\n",
      "grad_norm  no fp\n",
      "score: 0.9892321139774849, tau: 0.629511627894495, corr: 0.8127905635725338\n",
      "\n",
      "grasp \n",
      "score: 0.9888817152926613, tau: 0.6247492752999414, corr: 0.8058805556401077\n",
      "\n",
      "grasp  no fp\n",
      "score: 0.9887010186955582, tau: 0.619823774121197, corr: 0.7995976087096571\n",
      "\n",
      "jacov \n",
      "score: 0.9894709822307842, tau: 0.6365811868809358, corr: 0.81899945142536\n",
      "\n",
      "jacov  no fp\n",
      "score: 0.9895018084888096, tau: 0.6357780073845205, corr: 0.8187422302773285\n",
      "\n",
      "l2_norm \n",
      "score: 0.9887104922032351, tau: 0.6212720236046062, corr: 0.8024558489973304\n",
      "\n",
      "l2_norm  no fp\n",
      "score: 0.988815751813737, tau: 0.6220159819145957, corr: 0.8044108333838732\n",
      "\n",
      "nwot \n",
      "score: 0.9887273420689839, tau: 0.619604293596833, corr: 0.8020995645333248\n",
      "\n",
      "nwot  no fp\n",
      "score: 0.9885588389775913, tau: 0.6158914599094774, corr: 0.7994243553617612\n",
      "\n",
      "plain \n",
      "score: 0.9887806113788795, tau: 0.6216387285940197, corr: 0.8027094448334043\n",
      "\n",
      "plain  no fp\n",
      "score: 0.988720905492419, tau: 0.6169756172985179, corr: 0.7965801010982473\n",
      "\n",
      "snip \n",
      "score: 0.9889849360353269, tau: 0.625198227073481, corr: 0.8076831044268349\n",
      "\n",
      "snip  no fp\n",
      "score: 0.9888562001275332, tau: 0.623939742017851, corr: 0.8072011338264584\n",
      "\n",
      "zen \n",
      "score: 0.9885705051907425, tau: 0.6201270015456768, corr: 0.8028295956635597\n",
      "\n",
      "zen  no fp\n",
      "score: 0.9882633684234374, tau: 0.6157409096435278, corr: 0.7988739998796494\n",
      "\n",
      "epe_nas \n",
      "score: 0.9887693950940006, tau: 0.621648210036601, corr: 0.8030789806882795\n",
      "\n",
      "epe_nas  no fp\n",
      "score: 0.9886025739603177, tau: 0.6162846553394872, corr: 0.797045487494626\n",
      "\n",
      "synflow \n",
      "score: 0.9906490051185125, tau: 0.6630643010440884, corr: 0.8441739126291712\n",
      "\n",
      "synflow  no fp\n",
      "score: 0.9909178765723329, tau: 0.6679181797565963, corr: 0.8484521156028073\n",
      "\n",
      "Train size 1000\n",
      "val_accs \n",
      "score: 0.9945502964229977, tau: 0.7272550071668448, corr: 0.8943795607276543\n",
      "\n",
      "val_accs  no fp\n",
      "score: 0.994630861001701, tau: 0.7345360084006597, corr: 0.8982405316913253\n",
      "\n",
      "fisher \n",
      "score: 0.9949258509989182, tau: 0.729186532467384, corr: 0.8919039653583066\n",
      "\n",
      "fisher  no fp\n",
      "score: 0.9952136798564879, tau: 0.7295763328233001, corr: 0.8939561212792885\n",
      "\n",
      "grad_norm \n",
      "score: 0.9944630419966132, tau: 0.7360730054219047, corr: 0.8979654935234841\n",
      "\n",
      "grad_norm  no fp\n",
      "score: 0.9947342845077621, tau: 0.7355532716140164, corr: 0.9007041357667871\n",
      "\n",
      "grasp \n",
      "score: 0.9944652612705303, tau: 0.7252885289082212, corr: 0.8908839732694676\n",
      "\n",
      "grasp  no fp\n",
      "score: 0.9946436054107297, tau: 0.7156734534622863, corr: 0.8867577522895577\n",
      "\n",
      "jacov \n",
      "score: 0.9953884631106362, tau: 0.7493262175230582, corr: 0.9066901991234824\n",
      "\n",
      "jacov  no fp\n",
      "score: 0.9954440249586594, tau: 0.744778546704035, corr: 0.9036496976462509\n",
      "\n",
      "l2_norm \n",
      "score: 0.9948945653380157, tau: 0.7299369393490395, corr: 0.8933015880107791\n",
      "\n",
      "l2_norm  no fp\n",
      "score: 0.9951168918521185, tau: 0.7275977268664862, corr: 0.8907041077277521\n",
      "\n",
      "nwot \n",
      "score: 0.9949409513181223, tau: 0.732263833486362, corr: 0.8959046916154968\n",
      "\n",
      "nwot  no fp\n",
      "score: 0.995103688801764, tau: 0.7291450088114113, corr: 0.8917370776565008\n",
      "\n",
      "plain \n",
      "score: 0.9947823395364976, tau: 0.7359430719699327, corr: 0.9016462286984833\n",
      "\n",
      "plain  no fp\n",
      "score: 0.9950127442604331, tau: 0.7325648022186584, corr: 0.901522076916787\n",
      "\n",
      "snip \n",
      "score: 0.9946111261465751, tau: 0.7380220072014863, corr: 0.8993482035627695\n",
      "\n",
      "snip  no fp\n",
      "score: 0.9949579983520385, tau: 0.7428295449244536, corr: 0.9033770505962508\n",
      "\n",
      "zen \n",
      "score: 0.9944293553835026, tau: 0.7271194305245904, corr: 0.8897779810639065\n",
      "\n",
      "zen  no fp\n",
      "score: 0.994645545996509, tau: 0.7247382203495987, corr: 0.8892021051670446\n",
      "\n",
      "epe_nas \n",
      "score: 0.994559661322428, tau: 0.7271075972358304, corr: 0.8934814232904491\n",
      "\n",
      "epe_nas  no fp\n",
      "score: 0.994777961650777, tau: 0.729316465919356, corr: 0.8962030250931272\n",
      "\n",
      "synflow \n",
      "score: 0.9958182474232219, tau: 0.7512022378527183, corr: 0.908560439428383\n",
      "\n",
      "synflow  no fp\n",
      "score: 0.99573388933013, tau: 0.7504225105925997, corr: 0.9070998213430641\n",
      "\n"
     ]
    }
   ],
   "source": [
    "import numpy as np\n",
    "\n",
    "features = ['op_count', 'min_path_len', 'max_op_on_path', 'node_degree']\n",
    "seed = 44\n",
    "for ts in [100, 200, 1000]:\n",
    "    print(f\"Train size {ts}\")\n",
    "    for prox in proxy_cols:\n",
    "        for include_fp in [True, False]:\n",
    "            if prox in ['flops', 'params']:\n",
    "                continue\n",
    "            print(prox, \"\" if include_fp else \" no fp\")\n",
    "\n",
    "            plist = ['flops', 'params', prox] if include_fp else [prox]\n",
    "            fd, fy = get_dataset(feature_dataset, data, features, plist)\n",
    "            data_splits = get_splits(fd, fy, train_size=ts, seed=seed)\n",
    "\n",
    "            _, res = eval_rf(*data_splits, n_times=5)\n",
    "            print_means(res)\n",
    "            print()"
   ],
   "metadata": {
    "collapsed": false,
    "ExecuteTime": {
     "start_time": "2023-08-01T16:05:56.268053Z",
     "end_time": "2023-08-01T16:07:31.405768Z"
    }
   }
  },
  {
   "cell_type": "code",
   "execution_count": 217,
   "outputs": [
    {
     "name": "stdout",
     "output_type": "stream",
     "text": [
      "score: 0.940634605552245, tau: 0.6332803380069374, corr: 0.8210976679839896\n"
     ]
    },
    {
     "data": {
      "text/plain": "array([53.34882671, 52.81289906, 53.14237682, ..., 53.47873592,\n       51.12216408, 52.31623371])"
     },
     "execution_count": 217,
     "metadata": {},
     "output_type": "execute_result"
    }
   ],
   "source": [
    "ts = 100\n",
    "seed = 46\n",
    "\n",
    "all_proxies = False\n",
    "prox_to_include = []\n",
    "#prox_to_include = ['jacov', 'snip']\n",
    "with_features = True\n",
    "\n",
    "features = ['op_count', 'min_path_len', 'max_op_on_path', 'node_degree']\n",
    "feat_list = features if with_features else []\n",
    "\n",
    "# proxies to add to data\n",
    "def_proxlist = ['params', 'flops'] if prox_to_include is None else ['params', 'flops', *prox_to_include]\n",
    "prox_list = proxy_cols if all_proxies else def_proxlist\n",
    "\n",
    "fd, fy = get_dataset(feature_dataset, data, feat_list, prox_list)\n",
    "train_X, test_X, train_y, test_y = get_splits(fd, fy, train_size=ts, seed=seed)\n",
    "\n",
    "rfs, res = eval_rf(train_X, test_X, train_y, test_y, n_times=5)\n",
    "print_means(res)\n",
    "rf_fitted = rfs[0]\n",
    "preds = rf_fitted.predict(fd)\n",
    "preds"
   ],
   "metadata": {
    "collapsed": false,
    "ExecuteTime": {
     "start_time": "2023-08-01T16:20:05.727336Z",
     "end_time": "2023-08-01T16:20:06.915246Z"
    }
   }
  },
  {
   "cell_type": "code",
   "execution_count": 218,
   "outputs": [],
   "source": [
    "trainpreds = rf_fitted.predict(train_X)"
   ],
   "metadata": {
    "collapsed": false,
    "ExecuteTime": {
     "start_time": "2023-08-01T16:20:07.860176Z",
     "end_time": "2023-08-01T16:20:07.873176Z"
    }
   }
  },
  {
   "cell_type": "code",
   "execution_count": 220,
   "outputs": [
    {
     "data": {
      "text/plain": "<Figure size 432x288 with 1 Axes>",
      "image/png": "[encoded data removed]"
     },
     "metadata": {},
     "output_type": "display_data"
    }
   ],
   "source": [
    "sns.scatterplot(data=pd.DataFrame({'pred': preds, 'true': fy}), x='true', y='pred')\n",
    "sns.scatterplot(data=pd.DataFrame({'pred': trainpreds, 'true': train_y}), x='pred', y='true')\n",
    "#plt.ylim(70, 95)\n",
    "\n",
    "plt_name = f\"{'all_proxies' if all_proxies else 'params_flops'}_{'features' if with_features else 'no_features'}\"\n",
    "plt.title(plt_name)\n",
    "\n",
    "#plt.xlim(50, 55)\n",
    "#plt.ylim(50, 55)\n",
    "\n",
    "#plt.savefig(f\"tmp/{plt_name}.png\")\n",
    "plt.show()"
   ],
   "metadata": {
    "collapsed": false,
    "ExecuteTime": {
     "start_time": "2023-08-01T16:20:16.904680Z",
     "end_time": "2023-08-01T16:20:17.034651Z"
    }
   }
  },
  {
   "cell_type": "code",
   "execution_count": 220,
   "outputs": [],
   "source": [],
   "metadata": {
    "collapsed": false,
    "ExecuteTime": {
     "start_time": "2023-08-01T16:20:23.544872Z",
     "end_time": "2023-08-01T16:20:23.548870Z"
    }
   }
  },
  {
   "cell_type": "code",
   "execution_count": 221,
   "outputs": [
    {
     "data": {
      "text/plain": "    importance                                      feat\n0     0.000051                                op_count_0\n1     0.000177                                op_count_1\n2     0.001959                                op_count_2\n3     0.146450                                op_count_3\n4     0.000000                                op_count_4\n5     0.004153                   min_path_len_banned_[0]\n6     0.000084                min_path_len_banned_[0, 1]\n7     0.000243                max_op_on_path_allowed_[1]\n8     0.008972             max_op_on_path_allowed_[1, 2]\n9     0.005409          max_op_on_path_allowed_[1, 2, 3]\n10    0.000419             max_op_on_path_allowed_[1, 3]\n11    0.000626             max_op_on_path_allowed_[2, 3]\n12    0.000434                max_op_on_path_allowed_[2]\n13    0.000378                max_op_on_path_allowed_[3]\n14    0.010529         node_degree_allowed_[0]_in_degree\n15    0.000497        node_degree_allowed_[0]_out_degree\n16    0.000101            node_degree_allowed_[0]_avg_in\n17    0.000590           node_degree_allowed_[0]_avg_out\n18    0.006208   node_degree_allowed_[0, 2, 3]_in_degree\n19    0.000182  node_degree_allowed_[0, 2, 3]_out_degree\n20    0.000283      node_degree_allowed_[0, 2, 3]_avg_in\n21    0.000130     node_degree_allowed_[0, 2, 3]_avg_out\n22    0.003690         node_degree_allowed_[1]_in_degree\n23    0.000220        node_degree_allowed_[1]_out_degree\n24    0.000933            node_degree_allowed_[1]_avg_in\n25    0.000216           node_degree_allowed_[1]_avg_out\n26    0.000183         node_degree_allowed_[2]_in_degree\n27    0.000249        node_degree_allowed_[2]_out_degree\n28    0.001477            node_degree_allowed_[2]_avg_in\n29    0.000241           node_degree_allowed_[2]_avg_out\n30    0.010636         node_degree_allowed_[3]_in_degree\n31    0.000230        node_degree_allowed_[3]_out_degree\n32    0.199816            node_degree_allowed_[3]_avg_in\n33    0.191479           node_degree_allowed_[3]_avg_out\n34    0.004732      node_degree_allowed_[1, 2]_in_degree\n35    0.001268     node_degree_allowed_[1, 2]_out_degree\n36    0.000132         node_degree_allowed_[1, 2]_avg_in\n37    0.000105        node_degree_allowed_[1, 2]_avg_out\n38    0.009125      node_degree_allowed_[1, 3]_in_degree\n39    0.001882     node_degree_allowed_[1, 3]_out_degree\n40    0.000280         node_degree_allowed_[1, 3]_avg_in\n41    0.001039        node_degree_allowed_[1, 3]_avg_out\n42    0.006645   node_degree_allowed_[1, 2, 3]_in_degree\n43    0.000161  node_degree_allowed_[1, 2, 3]_out_degree\n44    0.001533      node_degree_allowed_[1, 2, 3]_avg_in\n45    0.000060     node_degree_allowed_[1, 2, 3]_avg_out\n46    0.138273                                    params\n47    0.237520                                     flops",
      "text/html": "<div>\n<style scoped>\n    .dataframe tbody tr th:only-of-type {\n        vertical-align: middle;\n    }\n\n    .dataframe tbody tr th {\n        vertical-align: top;\n    }\n\n    .dataframe thead th {\n        text-align: right;\n    }\n</style>\n<table border=\"1\" class=\"dataframe\">\n  <thead>\n    <tr style=\"text-align: right;\">\n      <th></th>\n      <th>importance</th>\n      <th>feat</th>\n    </tr>\n  </thead>\n  <tbody>\n    <tr>\n      <th>0</th>\n      <td>0.000051</td>\n      <td>op_count_0</td>\n    </tr>\n    <tr>\n      <th>1</th>\n      <td>0.000177</td>\n      <td>op_count_1</td>\n    </tr>\n    <tr>\n      <th>2</th>\n      <td>0.001959</td>\n      <td>op_count_2</td>\n    </tr>\n    <tr>\n      <th>3</th>\n      <td>0.146450</td>\n      <td>op_count_3</td>\n    </tr>\n    <tr>\n      <th>4</th>\n      <td>0.000000</td>\n      <td>op_count_4</td>\n    </tr>\n    <tr>\n      <th>5</th>\n      <td>0.004153</td>\n      <td>min_path_len_banned_[0]</td>\n    </tr>\n    <tr>\n      <th>6</th>\n      <td>0.000084</td>\n      <td>min_path_len_banned_[0, 1]</td>\n    </tr>\n    <tr>\n      <th>7</th>\n      <td>0.000243</td>\n      <td>max_op_on_path_allowed_[1]</td>\n    </tr>\n    <tr>\n      <th>8</th>\n      <td>0.008972</td>\n      <td>max_op_on_path_allowed_[1, 2]</td>\n    </tr>\n    <tr>\n      <th>9</th>\n      <td>0.005409</td>\n      <td>max_op_on_path_allowed_[1, 2, 3]</td>\n    </tr>\n    <tr>\n      <th>10</th>\n      <td>0.000419</td>\n      <td>max_op_on_path_allowed_[1, 3]</td>\n    </tr>\n    <tr>\n      <th>11</th>\n      <td>0.000626</td>\n      <td>max_op_on_path_allowed_[2, 3]</td>\n    </tr>\n    <tr>\n      <th>12</th>\n      <td>0.000434</td>\n      <td>max_op_on_path_allowed_[2]</td>\n    </tr>\n    <tr>\n      <th>13</th>\n      <td>0.000378</td>\n      <td>max_op_on_path_allowed_[3]</td>\n    </tr>\n    <tr>\n      <th>14</th>\n      <td>0.010529</td>\n      <td>node_degree_allowed_[0]_in_degree</td>\n    </tr>\n    <tr>\n      <th>15</th>\n      <td>0.000497</td>\n      <td>node_degree_allowed_[0]_out_degree</td>\n    </tr>\n    <tr>\n      <th>16</th>\n      <td>0.000101</td>\n      <td>node_degree_allowed_[0]_avg_in</td>\n    </tr>\n    <tr>\n      <th>17</th>\n      <td>0.000590</td>\n      <td>node_degree_allowed_[0]_avg_out</td>\n    </tr>\n    <tr>\n      <th>18</th>\n      <td>0.006208</td>\n      <td>node_degree_allowed_[0, 2, 3]_in_degree</td>\n    </tr>\n    <tr>\n      <th>19</th>\n      <td>0.000182</td>\n      <td>node_degree_allowed_[0, 2, 3]_out_degree</td>\n    </tr>\n    <tr>\n      <th>20</th>\n      <td>0.000283</td>\n      <td>node_degree_allowed_[0, 2, 3]_avg_in</td>\n    </tr>\n    <tr>\n      <th>21</th>\n      <td>0.000130</td>\n      <td>node_degree_allowed_[0, 2, 3]_avg_out</td>\n    </tr>\n    <tr>\n      <th>22</th>\n      <td>0.003690</td>\n      <td>node_degree_allowed_[1]_in_degree</td>\n    </tr>\n    <tr>\n      <th>23</th>\n      <td>0.000220</td>\n      <td>node_degree_allowed_[1]_out_degree</td>\n    </tr>\n    <tr>\n      <th>24</th>\n      <td>0.000933</td>\n      <td>node_degree_allowed_[1]_avg_in</td>\n    </tr>\n    <tr>\n      <th>25</th>\n      <td>0.000216</td>\n      <td>node_degree_allowed_[1]_avg_out</td>\n    </tr>\n    <tr>\n      <th>26</th>\n      <td>0.000183</td>\n      <td>node_degree_allowed_[2]_in_degree</td>\n    </tr>\n    <tr>\n      <th>27</th>\n      <td>0.000249</td>\n      <td>node_degree_allowed_[2]_out_degree</td>\n    </tr>\n    <tr>\n      <th>28</th>\n      <td>0.001477</td>\n      <td>node_degree_allowed_[2]_avg_in</td>\n    </tr>\n    <tr>\n      <th>29</th>\n      <td>0.000241</td>\n      <td>node_degree_allowed_[2]_avg_out</td>\n    </tr>\n    <tr>\n      <th>30</th>\n      <td>0.010636</td>\n      <td>node_degree_allowed_[3]_in_degree</td>\n    </tr>\n    <tr>\n      <th>31</th>\n      <td>0.000230</td>\n      <td>node_degree_allowed_[3]_out_degree</td>\n    </tr>\n    <tr>\n      <th>32</th>\n      <td>0.199816</td>\n      <td>node_degree_allowed_[3]_avg_in</td>\n    </tr>\n    <tr>\n      <th>33</th>\n      <td>0.191479</td>\n      <td>node_degree_allowed_[3]_avg_out</td>\n    </tr>\n    <tr>\n      <th>34</th>\n      <td>0.004732</td>\n      <td>node_degree_allowed_[1, 2]_in_degree</td>\n    </tr>\n    <tr>\n      <th>35</th>\n      <td>0.001268</td>\n      <td>node_degree_allowed_[1, 2]_out_degree</td>\n    </tr>\n    <tr>\n      <th>36</th>\n      <td>0.000132</td>\n      <td>node_degree_allowed_[1, 2]_avg_in</td>\n    </tr>\n    <tr>\n      <th>37</th>\n      <td>0.000105</td>\n      <td>node_degree_allowed_[1, 2]_avg_out</td>\n    </tr>\n    <tr>\n      <th>38</th>\n      <td>0.009125</td>\n      <td>node_degree_allowed_[1, 3]_in_degree</td>\n    </tr>\n    <tr>\n      <th>39</th>\n      <td>0.001882</td>\n      <td>node_degree_allowed_[1, 3]_out_degree</td>\n    </tr>\n    <tr>\n      <th>40</th>\n      <td>0.000280</td>\n      <td>node_degree_allowed_[1, 3]_avg_in</td>\n    </tr>\n    <tr>\n      <th>41</th>\n      <td>0.001039</td>\n      <td>node_degree_allowed_[1, 3]_avg_out</td>\n    </tr>\n    <tr>\n      <th>42</th>\n      <td>0.006645</td>\n      <td>node_degree_allowed_[1, 2, 3]_in_degree</td>\n    </tr>\n    <tr>\n      <th>43</th>\n      <td>0.000161</td>\n      <td>node_degree_allowed_[1, 2, 3]_out_degree</td>\n    </tr>\n    <tr>\n      <th>44</th>\n      <td>0.001533</td>\n      <td>node_degree_allowed_[1, 2, 3]_avg_in</td>\n    </tr>\n    <tr>\n      <th>45</th>\n      <td>0.000060</td>\n      <td>node_degree_allowed_[1, 2, 3]_avg_out</td>\n    </tr>\n    <tr>\n      <th>46</th>\n      <td>0.138273</td>\n      <td>params</td>\n    </tr>\n    <tr>\n      <th>47</th>\n      <td>0.237520</td>\n      <td>flops</td>\n    </tr>\n  </tbody>\n</table>\n</div>"
     },
     "execution_count": 221,
     "metadata": {},
     "output_type": "execute_result"
    }
   ],
   "source": [
    "imps = rf_fitted.feature_importances_\n",
    "\n",
    "pd.DataFrame({\"importance\": imps, \"feat\": fd.columns})"
   ],
   "metadata": {
    "collapsed": false,
    "ExecuteTime": {
     "start_time": "2023-08-01T16:20:24.200686Z",
     "end_time": "2023-08-01T16:20:24.239991Z"
    }
   }
  },
  {
   "cell_type": "code",
   "execution_count": null,
   "outputs": [],
   "source": [
    "# IDEA ... sample different nets based on clustering (max distance between nets...)"
   ],
   "metadata": {
    "collapsed": false
   }
  },
  {
   "cell_type": "code",
   "execution_count": 27,
   "outputs": [
    {
     "data": {
      "text/plain": "            pred       true                 net\n0      33.802667  32.700000  (4, 0, 3, 1, 4, 3)\n1      43.273667  44.233333  (2, 4, 0, 0, 3, 2)\n3      43.515333  40.600000  (0, 0, 2, 1, 2, 3)\n7      37.090333  37.100000  (4, 1, 3, 3, 3, 3)\n8      43.614667  42.200000  (3, 1, 2, 3, 2, 3)\n...          ...        ...                 ...\n15617  40.057667  40.400000  (2, 1, 4, 2, 3, 0)\n15618  39.843000  39.300000  (3, 2, 2, 4, 0, 0)\n15620  35.865667  36.433333  (4, 2, 1, 4, 3, 0)\n15622  40.240333  44.066667  (2, 3, 3, 3, 2, 4)\n15623  35.916667  36.700000  (3, 1, 4, 2, 0, 4)\n\n[6144 rows x 3 columns]",
      "text/html": "<div>\n<style scoped>\n    .dataframe tbody tr th:only-of-type {\n        vertical-align: middle;\n    }\n\n    .dataframe tbody tr th {\n        vertical-align: top;\n    }\n\n    .dataframe thead th {\n        text-align: right;\n    }\n</style>\n<table border=\"1\" class=\"dataframe\">\n  <thead>\n    <tr style=\"text-align: right;\">\n      <th></th>\n      <th>pred</th>\n      <th>true</th>\n      <th>net</th>\n    </tr>\n  </thead>\n  <tbody>\n    <tr>\n      <th>0</th>\n      <td>33.802667</td>\n      <td>32.700000</td>\n      <td>(4, 0, 3, 1, 4, 3)</td>\n    </tr>\n    <tr>\n      <th>1</th>\n      <td>43.273667</td>\n      <td>44.233333</td>\n      <td>(2, 4, 0, 0, 3, 2)</td>\n    </tr>\n    <tr>\n      <th>3</th>\n      <td>43.515333</td>\n      <td>40.600000</td>\n      <td>(0, 0, 2, 1, 2, 3)</td>\n    </tr>\n    <tr>\n      <th>7</th>\n      <td>37.090333</td>\n      <td>37.100000</td>\n      <td>(4, 1, 3, 3, 3, 3)</td>\n    </tr>\n    <tr>\n      <th>8</th>\n      <td>43.614667</td>\n      <td>42.200000</td>\n      <td>(3, 1, 2, 3, 2, 3)</td>\n    </tr>\n    <tr>\n      <th>...</th>\n      <td>...</td>\n      <td>...</td>\n      <td>...</td>\n    </tr>\n    <tr>\n      <th>15617</th>\n      <td>40.057667</td>\n      <td>40.400000</td>\n      <td>(2, 1, 4, 2, 3, 0)</td>\n    </tr>\n    <tr>\n      <th>15618</th>\n      <td>39.843000</td>\n      <td>39.300000</td>\n      <td>(3, 2, 2, 4, 0, 0)</td>\n    </tr>\n    <tr>\n      <th>15620</th>\n      <td>35.865667</td>\n      <td>36.433333</td>\n      <td>(4, 2, 1, 4, 3, 0)</td>\n    </tr>\n    <tr>\n      <th>15622</th>\n      <td>40.240333</td>\n      <td>44.066667</td>\n      <td>(2, 3, 3, 3, 2, 4)</td>\n    </tr>\n    <tr>\n      <th>15623</th>\n      <td>35.916667</td>\n      <td>36.700000</td>\n      <td>(3, 1, 4, 2, 0, 4)</td>\n    </tr>\n  </tbody>\n</table>\n<p>6144 rows × 3 columns</p>\n</div>"
     },
     "execution_count": 27,
     "metadata": {},
     "output_type": "execute_result"
    }
   ],
   "source": [
    "pd.DataFrame({'pred': preds, 'true': y, 'net': data['net']})"
   ],
   "metadata": {
    "collapsed": false,
    "ExecuteTime": {
     "start_time": "2023-07-31T10:44:28.031874Z",
     "end_time": "2023-07-31T10:44:28.079554Z"
    }
   }
  },
  {
   "cell_type": "code",
   "execution_count": 28,
   "outputs": [
    {
     "data": {
      "text/plain": "(0.6811114913133042, 0.8547273907942495)"
     },
     "execution_count": 28,
     "metadata": {},
     "output_type": "execute_result"
    }
   ],
   "source": [
    "from scipy.stats import kendalltau, spearmanr\n",
    "\n",
    "kendalltau(preds, dsy)[0], spearmanr(preds, dsy)[0]"
   ],
   "metadata": {
    "collapsed": false,
    "ExecuteTime": {
     "start_time": "2023-07-31T10:44:28.032881Z",
     "end_time": "2023-07-31T10:44:28.086102Z"
    }
   }
  },
  {
   "cell_type": "code",
   "execution_count": 757,
   "outputs": [],
   "source": [
    "# TODO ruzny pocty siti\n",
    "# where to sample... important\n",
    "# TODO predikovat pres proxyny\n",
    "\n",
    "# TODO vyplot predikci jen pres flops/params\n",
    "# ... try that on transnb101"
   ],
   "metadata": {
    "collapsed": false,
    "ExecuteTime": {
     "start_time": "2023-07-27T18:20:02.975754Z",
     "end_time": "2023-07-27T18:20:03.023096Z"
    }
   }
  },
  {
   "cell_type": "code",
   "execution_count": null,
   "outputs": [],
   "source": [
    "#Next steps:\n",
    "\n",
    "# TODO lepsi nazvy sloupecku, to str\n",
    "# TODO fce co to spocita a da do df (myslim ty edge_path_op atd)\n",
    "# TODO predikce - pres ruzny seedy, mozna crossval\n",
    "# TODO porovnani s proxynama a bez, xgboost,...\n",
    "# TODO tnb101\n",
    "\n",
    "# TODO ruzny dalsi features..."
   ],
   "metadata": {
    "collapsed": false
   }
  }
 ],
 "metadata": {
  "kernelspec": {
   "display_name": "Python 3",
   "language": "python",
   "name": "python3"
  },
  "language_info": {
   "codemirror_mode": {
    "name": "ipython",
    "version": 2
   },
   "file_extension": ".py",
   "mimetype": "text/x-python",
   "name": "python",
   "nbconvert_exporter": "python",
   "pygments_lexer": "ipython2",
   "version": "2.7.6"
  }
 },
 "nbformat": 4,
 "nbformat_minor": 0
}
