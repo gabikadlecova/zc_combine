{
 "cells": [
  {
   "cell_type": "code",
   "execution_count": 4,
   "id": "02034d4a",
   "metadata": {
    "ExecuteTime": {
     "end_time": "2023-10-20T14:22:54.018088400Z",
     "start_time": "2023-10-20T14:22:52.140350600Z"
    }
   },
   "outputs": [
    {
     "name": "stderr",
     "output_type": "stream",
     "text": [
      "\u001B[34m\u001B[1mwandb\u001B[0m: Currently logged in as: \u001B[33mgabi-kadlecova\u001B[0m. Use \u001B[1m`wandb login --relogin`\u001B[0m to force relogin\n",
      "\u001B[34m\u001B[1mwandb\u001B[0m: \u001B[33mWARNING\u001B[0m If you're specifying your api key in code, ensure this code is not shared publicly.\n",
      "\u001B[34m\u001B[1mwandb\u001B[0m: \u001B[33mWARNING\u001B[0m Consider setting the WANDB_API_KEY environment variable, or running `wandb login` from the command line.\n",
      "\u001B[34m\u001B[1mwandb\u001B[0m: Appending key for api.wandb.ai to your netrc file: /home/gabi/.netrc\n"
     ]
    },
    {
     "data": {
      "text/plain": "True"
     },
     "execution_count": 4,
     "metadata": {},
     "output_type": "execute_result"
    }
   ],
   "source": [
    "import wandb\n",
    "wandb.login(key=input())"
   ]
  },
  {
   "cell_type": "code",
   "execution_count": 57,
   "outputs": [],
   "source": [
    "project = 'zc_nb201'\n",
    "\n",
    "api = wandb.Api(timeout=19)\n",
    "runs = api.runs('gabi-kadlecova' + \"/\" + project)"
   ],
   "metadata": {
    "collapsed": false,
    "ExecuteTime": {
     "end_time": "2023-10-20T15:11:32.764659900Z",
     "start_time": "2023-10-20T15:11:32.528164100Z"
    }
   },
   "id": "b4999a760e1c623e"
  },
  {
   "cell_type": "code",
   "execution_count": 58,
   "outputs": [
    {
     "name": "stdout",
     "output_type": "stream",
     "text": [
      "0.9572264642211716\n",
      "{'cfg': '../zc_combine/configs/nb201_full.json', 'meta': '../data/meta.json', 'seed': 42, 'model': 'rf', 'proxy': 'fisher', 'dataset': 'cifar10', 'n_evals': 10, 'features': None, 'benchmark': 'nb201', 'data_seed': 46, 'out_prefix': 'train-380', 'train_size': 1000, 'version_key': 'train_version', 'keep_uniques': True, 'use_features': True, 'use_all_proxies': False, 'use_flops_params': True, 'zero_unreachables': True}\n"
     ]
    }
   ],
   "source": [
    "for run in runs:\n",
    "    # skip xgb for now\n",
    "    if run.config['model'] != 'rf':\n",
    "        continue\n",
    "    \n",
    "    print(run.summary['corr_mean'])\n",
    "    print(run.config)\n",
    "    break"
   ],
   "metadata": {
    "collapsed": false,
    "ExecuteTime": {
     "end_time": "2023-10-20T15:11:34.140493100Z",
     "start_time": "2023-10-20T15:11:32.768659Z"
    }
   },
   "id": "d432b0e26db49b23"
  },
  {
   "cell_type": "code",
   "execution_count": 59,
   "outputs": [
    {
     "data": {
      "text/plain": "                                        cfg  data_seed    proxy  train_size  \\\n0     ../zc_combine/configs/nb201_full.json         46   fisher        1000   \n1    ../zc_combine/configs/nb201_first.json         46    jacov        1000   \n2     ../zc_combine/configs/nb201_full.json         46    plain         100   \n3    ../zc_combine/configs/nb201_first.json         46      zen         100   \n4    ../zc_combine/configs/nb201_first.json         46  epe_nas         100   \n..                                      ...        ...      ...         ...   \n415                                    NONE         42     NONE        1000   \n416                                    NONE         42     NONE         100   \n417                                    NONE         42     NONE         100   \n418                                    NONE         42     NONE          20   \n419                                    NONE         42     NONE          20   \n\n     use_all_proxies  use_features      corr       tau  \n0              False          True  0.957226  0.829190  \n1              False          True  0.958952  0.828732  \n2              False          True  0.899698  0.735508  \n3              False          True  0.889051  0.715066  \n4              False          True  0.910811  0.745794  \n..               ...           ...       ...       ...  \n415             True         False  0.940985  0.792016  \n416             True         False  0.901894  0.729372  \n417             True         False  0.914283  0.746074  \n418             True         False  0.873683  0.685865  \n419             True         False  0.881152  0.697695  \n\n[420 rows x 8 columns]",
      "text/html": "<div>\n<style scoped>\n    .dataframe tbody tr th:only-of-type {\n        vertical-align: middle;\n    }\n\n    .dataframe tbody tr th {\n        vertical-align: top;\n    }\n\n    .dataframe thead th {\n        text-align: right;\n    }\n</style>\n<table border=\"1\" class=\"dataframe\">\n  <thead>\n    <tr style=\"text-align: right;\">\n      <th></th>\n      <th>cfg</th>\n      <th>data_seed</th>\n      <th>proxy</th>\n      <th>train_size</th>\n      <th>use_all_proxies</th>\n      <th>use_features</th>\n      <th>corr</th>\n      <th>tau</th>\n    </tr>\n  </thead>\n  <tbody>\n    <tr>\n      <th>0</th>\n      <td>../zc_combine/configs/nb201_full.json</td>\n      <td>46</td>\n      <td>fisher</td>\n      <td>1000</td>\n      <td>False</td>\n      <td>True</td>\n      <td>0.957226</td>\n      <td>0.829190</td>\n    </tr>\n    <tr>\n      <th>1</th>\n      <td>../zc_combine/configs/nb201_first.json</td>\n      <td>46</td>\n      <td>jacov</td>\n      <td>1000</td>\n      <td>False</td>\n      <td>True</td>\n      <td>0.958952</td>\n      <td>0.828732</td>\n    </tr>\n    <tr>\n      <th>2</th>\n      <td>../zc_combine/configs/nb201_full.json</td>\n      <td>46</td>\n      <td>plain</td>\n      <td>100</td>\n      <td>False</td>\n      <td>True</td>\n      <td>0.899698</td>\n      <td>0.735508</td>\n    </tr>\n    <tr>\n      <th>3</th>\n      <td>../zc_combine/configs/nb201_first.json</td>\n      <td>46</td>\n      <td>zen</td>\n      <td>100</td>\n      <td>False</td>\n      <td>True</td>\n      <td>0.889051</td>\n      <td>0.715066</td>\n    </tr>\n    <tr>\n      <th>4</th>\n      <td>../zc_combine/configs/nb201_first.json</td>\n      <td>46</td>\n      <td>epe_nas</td>\n      <td>100</td>\n      <td>False</td>\n      <td>True</td>\n      <td>0.910811</td>\n      <td>0.745794</td>\n    </tr>\n    <tr>\n      <th>...</th>\n      <td>...</td>\n      <td>...</td>\n      <td>...</td>\n      <td>...</td>\n      <td>...</td>\n      <td>...</td>\n      <td>...</td>\n      <td>...</td>\n    </tr>\n    <tr>\n      <th>415</th>\n      <td>NONE</td>\n      <td>42</td>\n      <td>NONE</td>\n      <td>1000</td>\n      <td>True</td>\n      <td>False</td>\n      <td>0.940985</td>\n      <td>0.792016</td>\n    </tr>\n    <tr>\n      <th>416</th>\n      <td>NONE</td>\n      <td>42</td>\n      <td>NONE</td>\n      <td>100</td>\n      <td>True</td>\n      <td>False</td>\n      <td>0.901894</td>\n      <td>0.729372</td>\n    </tr>\n    <tr>\n      <th>417</th>\n      <td>NONE</td>\n      <td>42</td>\n      <td>NONE</td>\n      <td>100</td>\n      <td>True</td>\n      <td>False</td>\n      <td>0.914283</td>\n      <td>0.746074</td>\n    </tr>\n    <tr>\n      <th>418</th>\n      <td>NONE</td>\n      <td>42</td>\n      <td>NONE</td>\n      <td>20</td>\n      <td>True</td>\n      <td>False</td>\n      <td>0.873683</td>\n      <td>0.685865</td>\n    </tr>\n    <tr>\n      <th>419</th>\n      <td>NONE</td>\n      <td>42</td>\n      <td>NONE</td>\n      <td>20</td>\n      <td>True</td>\n      <td>False</td>\n      <td>0.881152</td>\n      <td>0.697695</td>\n    </tr>\n  </tbody>\n</table>\n<p>420 rows × 8 columns</p>\n</div>"
     },
     "execution_count": 59,
     "metadata": {},
     "output_type": "execute_result"
    }
   ],
   "source": [
    "import pandas as pd\n",
    "\n",
    "def create_entry(run):\n",
    "    # TODO uncertainty\n",
    "    row = {}\n",
    "    cfg_args = ['cfg', 'data_seed', 'proxy', 'train_size', 'use_all_proxies', 'use_features']\n",
    "    for ca in cfg_args:\n",
    "        row[ca] = run.config[ca]\n",
    "\n",
    "    prox, cfg = row['proxy'], row['cfg']\n",
    "    row['proxy'] = 'NONE' if prox is None or not len(prox) else prox\n",
    "    row['cfg'] = 'NONE' if cfg is None or not len(cfg) else cfg\n",
    "    row['corr'] = run.summary['corr_mean']\n",
    "    row['tau'] = run.summary['tau_mean']\n",
    "    return row\n",
    "\n",
    "df = [create_entry(r) for r in runs]\n",
    "df = pd.DataFrame(df)\n",
    "df"
   ],
   "metadata": {
    "collapsed": false,
    "ExecuteTime": {
     "end_time": "2023-10-20T15:11:43.480324400Z",
     "start_time": "2023-10-20T15:11:34.145494Z"
    }
   },
   "id": "a1bfd753efaff60"
  },
  {
   "cell_type": "code",
   "execution_count": 61,
   "outputs": [
    {
     "data": {
      "text/plain": "                                                   data_seed      corr  \\\ntrain_size use_all_proxies use_features proxy                            \n20         False           True         NONE            44.0  0.791740   \n                                        epe_nas         44.0  0.840718   \n                                        fisher          44.0  0.793019   \n                                        grad_norm       44.0  0.792815   \n                                        grasp           44.0  0.800115   \n                                        jacov           44.0  0.844494   \n                                        l2_norm         44.0  0.799439   \n                                        nwot            44.0  0.804457   \n                                        plain           44.0  0.792867   \n                                        snip            44.0  0.793850   \n                                        synflow         44.0  0.798391   \n                                        zen             44.0  0.790781   \n           True            False        NONE            44.0  0.866033   \n                           True         NONE            44.0  0.861470   \n100        False           True         NONE            44.0  0.892574   \n                                        epe_nas         44.0  0.915581   \n                                        fisher          44.0  0.896590   \n                                        grad_norm       44.0  0.904397   \n                                        grasp           44.0  0.900985   \n                                        jacov           44.0  0.923602   \n                                        l2_norm         44.0  0.886401   \n                                        nwot            44.0  0.902417   \n                                        plain           44.0  0.893116   \n                                        snip            44.0  0.907887   \n                                        synflow         44.0  0.890607   \n                                        zen             44.0  0.896074   \n           True            False        NONE            44.0  0.905981   \n                           True         NONE            44.0  0.918346   \n1000       False           True         NONE            44.0  0.954134   \n                                        epe_nas         44.0  0.957743   \n                                        fisher          44.0  0.956497   \n                                        grad_norm       44.0  0.959654   \n                                        grasp           44.0  0.958201   \n                                        jacov           44.0  0.962535   \n                                        l2_norm         44.0  0.952061   \n                                        nwot            44.0  0.956534   \n                                        plain           44.0  0.952528   \n                                        snip            44.0  0.961882   \n                                        synflow         44.0  0.956127   \n                                        zen             44.0  0.958489   \n           True            False        NONE            44.0  0.944283   \n                           True         NONE            44.0  0.962655   \n\n                                                        tau  \ntrain_size use_all_proxies use_features proxy                \n20         False           True         NONE       0.601163  \n                                        epe_nas    0.650994  \n                                        fisher     0.602359  \n                                        grad_norm  0.602378  \n                                        grasp      0.610184  \n                                        jacov      0.654127  \n                                        l2_norm    0.608268  \n                                        nwot       0.613428  \n                                        plain      0.602274  \n                                        snip       0.603436  \n                                        synflow    0.608121  \n                                        zen        0.600432  \n           True            False        NONE       0.674794  \n                           True         NONE       0.673843  \n100        False           True         NONE       0.724317  \n                                        epe_nas    0.752517  \n                                        fisher     0.730058  \n                                        grad_norm  0.739600  \n                                        grasp      0.734712  \n                                        jacov      0.765071  \n                                        l2_norm    0.716039  \n                                        nwot       0.736546  \n                                        plain      0.724578  \n                                        snip       0.743634  \n                                        synflow    0.722787  \n                                        zen        0.729493  \n           True            False        NONE       0.733658  \n                           True         NONE       0.756626  \n1000       False           True         NONE       0.822882  \n                                        epe_nas    0.827974  \n                                        fisher     0.827810  \n                                        grad_norm  0.833799  \n                                        grasp      0.830692  \n                                        jacov      0.836718  \n                                        l2_norm    0.819079  \n                                        nwot       0.827643  \n                                        plain      0.820138  \n                                        snip       0.837180  \n                                        synflow    0.827264  \n                                        zen        0.832697  \n           True            False        NONE       0.797788  \n                           True         NONE       0.837848  ",
      "text/html": "<div>\n<style scoped>\n    .dataframe tbody tr th:only-of-type {\n        vertical-align: middle;\n    }\n\n    .dataframe tbody tr th {\n        vertical-align: top;\n    }\n\n    .dataframe thead th {\n        text-align: right;\n    }\n</style>\n<table border=\"1\" class=\"dataframe\">\n  <thead>\n    <tr style=\"text-align: right;\">\n      <th></th>\n      <th></th>\n      <th></th>\n      <th></th>\n      <th>data_seed</th>\n      <th>corr</th>\n      <th>tau</th>\n    </tr>\n    <tr>\n      <th>train_size</th>\n      <th>use_all_proxies</th>\n      <th>use_features</th>\n      <th>proxy</th>\n      <th></th>\n      <th></th>\n      <th></th>\n    </tr>\n  </thead>\n  <tbody>\n    <tr>\n      <th rowspan=\"14\" valign=\"top\">20</th>\n      <th rowspan=\"12\" valign=\"top\">False</th>\n      <th rowspan=\"12\" valign=\"top\">True</th>\n      <th>NONE</th>\n      <td>44.0</td>\n      <td>0.791740</td>\n      <td>0.601163</td>\n    </tr>\n    <tr>\n      <th>epe_nas</th>\n      <td>44.0</td>\n      <td>0.840718</td>\n      <td>0.650994</td>\n    </tr>\n    <tr>\n      <th>fisher</th>\n      <td>44.0</td>\n      <td>0.793019</td>\n      <td>0.602359</td>\n    </tr>\n    <tr>\n      <th>grad_norm</th>\n      <td>44.0</td>\n      <td>0.792815</td>\n      <td>0.602378</td>\n    </tr>\n    <tr>\n      <th>grasp</th>\n      <td>44.0</td>\n      <td>0.800115</td>\n      <td>0.610184</td>\n    </tr>\n    <tr>\n      <th>jacov</th>\n      <td>44.0</td>\n      <td>0.844494</td>\n      <td>0.654127</td>\n    </tr>\n    <tr>\n      <th>l2_norm</th>\n      <td>44.0</td>\n      <td>0.799439</td>\n      <td>0.608268</td>\n    </tr>\n    <tr>\n      <th>nwot</th>\n      <td>44.0</td>\n      <td>0.804457</td>\n      <td>0.613428</td>\n    </tr>\n    <tr>\n      <th>plain</th>\n      <td>44.0</td>\n      <td>0.792867</td>\n      <td>0.602274</td>\n    </tr>\n    <tr>\n      <th>snip</th>\n      <td>44.0</td>\n      <td>0.793850</td>\n      <td>0.603436</td>\n    </tr>\n    <tr>\n      <th>synflow</th>\n      <td>44.0</td>\n      <td>0.798391</td>\n      <td>0.608121</td>\n    </tr>\n    <tr>\n      <th>zen</th>\n      <td>44.0</td>\n      <td>0.790781</td>\n      <td>0.600432</td>\n    </tr>\n    <tr>\n      <th rowspan=\"2\" valign=\"top\">True</th>\n      <th>False</th>\n      <th>NONE</th>\n      <td>44.0</td>\n      <td>0.866033</td>\n      <td>0.674794</td>\n    </tr>\n    <tr>\n      <th>True</th>\n      <th>NONE</th>\n      <td>44.0</td>\n      <td>0.861470</td>\n      <td>0.673843</td>\n    </tr>\n    <tr>\n      <th rowspan=\"14\" valign=\"top\">100</th>\n      <th rowspan=\"12\" valign=\"top\">False</th>\n      <th rowspan=\"12\" valign=\"top\">True</th>\n      <th>NONE</th>\n      <td>44.0</td>\n      <td>0.892574</td>\n      <td>0.724317</td>\n    </tr>\n    <tr>\n      <th>epe_nas</th>\n      <td>44.0</td>\n      <td>0.915581</td>\n      <td>0.752517</td>\n    </tr>\n    <tr>\n      <th>fisher</th>\n      <td>44.0</td>\n      <td>0.896590</td>\n      <td>0.730058</td>\n    </tr>\n    <tr>\n      <th>grad_norm</th>\n      <td>44.0</td>\n      <td>0.904397</td>\n      <td>0.739600</td>\n    </tr>\n    <tr>\n      <th>grasp</th>\n      <td>44.0</td>\n      <td>0.900985</td>\n      <td>0.734712</td>\n    </tr>\n    <tr>\n      <th>jacov</th>\n      <td>44.0</td>\n      <td>0.923602</td>\n      <td>0.765071</td>\n    </tr>\n    <tr>\n      <th>l2_norm</th>\n      <td>44.0</td>\n      <td>0.886401</td>\n      <td>0.716039</td>\n    </tr>\n    <tr>\n      <th>nwot</th>\n      <td>44.0</td>\n      <td>0.902417</td>\n      <td>0.736546</td>\n    </tr>\n    <tr>\n      <th>plain</th>\n      <td>44.0</td>\n      <td>0.893116</td>\n      <td>0.724578</td>\n    </tr>\n    <tr>\n      <th>snip</th>\n      <td>44.0</td>\n      <td>0.907887</td>\n      <td>0.743634</td>\n    </tr>\n    <tr>\n      <th>synflow</th>\n      <td>44.0</td>\n      <td>0.890607</td>\n      <td>0.722787</td>\n    </tr>\n    <tr>\n      <th>zen</th>\n      <td>44.0</td>\n      <td>0.896074</td>\n      <td>0.729493</td>\n    </tr>\n    <tr>\n      <th rowspan=\"2\" valign=\"top\">True</th>\n      <th>False</th>\n      <th>NONE</th>\n      <td>44.0</td>\n      <td>0.905981</td>\n      <td>0.733658</td>\n    </tr>\n    <tr>\n      <th>True</th>\n      <th>NONE</th>\n      <td>44.0</td>\n      <td>0.918346</td>\n      <td>0.756626</td>\n    </tr>\n    <tr>\n      <th rowspan=\"14\" valign=\"top\">1000</th>\n      <th rowspan=\"12\" valign=\"top\">False</th>\n      <th rowspan=\"12\" valign=\"top\">True</th>\n      <th>NONE</th>\n      <td>44.0</td>\n      <td>0.954134</td>\n      <td>0.822882</td>\n    </tr>\n    <tr>\n      <th>epe_nas</th>\n      <td>44.0</td>\n      <td>0.957743</td>\n      <td>0.827974</td>\n    </tr>\n    <tr>\n      <th>fisher</th>\n      <td>44.0</td>\n      <td>0.956497</td>\n      <td>0.827810</td>\n    </tr>\n    <tr>\n      <th>grad_norm</th>\n      <td>44.0</td>\n      <td>0.959654</td>\n      <td>0.833799</td>\n    </tr>\n    <tr>\n      <th>grasp</th>\n      <td>44.0</td>\n      <td>0.958201</td>\n      <td>0.830692</td>\n    </tr>\n    <tr>\n      <th>jacov</th>\n      <td>44.0</td>\n      <td>0.962535</td>\n      <td>0.836718</td>\n    </tr>\n    <tr>\n      <th>l2_norm</th>\n      <td>44.0</td>\n      <td>0.952061</td>\n      <td>0.819079</td>\n    </tr>\n    <tr>\n      <th>nwot</th>\n      <td>44.0</td>\n      <td>0.956534</td>\n      <td>0.827643</td>\n    </tr>\n    <tr>\n      <th>plain</th>\n      <td>44.0</td>\n      <td>0.952528</td>\n      <td>0.820138</td>\n    </tr>\n    <tr>\n      <th>snip</th>\n      <td>44.0</td>\n      <td>0.961882</td>\n      <td>0.837180</td>\n    </tr>\n    <tr>\n      <th>synflow</th>\n      <td>44.0</td>\n      <td>0.956127</td>\n      <td>0.827264</td>\n    </tr>\n    <tr>\n      <th>zen</th>\n      <td>44.0</td>\n      <td>0.958489</td>\n      <td>0.832697</td>\n    </tr>\n    <tr>\n      <th rowspan=\"2\" valign=\"top\">True</th>\n      <th>False</th>\n      <th>NONE</th>\n      <td>44.0</td>\n      <td>0.944283</td>\n      <td>0.797788</td>\n    </tr>\n    <tr>\n      <th>True</th>\n      <th>NONE</th>\n      <td>44.0</td>\n      <td>0.962655</td>\n      <td>0.837848</td>\n    </tr>\n  </tbody>\n</table>\n</div>"
     },
     "execution_count": 61,
     "metadata": {},
     "output_type": "execute_result"
    }
   ],
   "source": [
    "what_cfg = 'full'\n",
    "group_cols = ['train_size', 'use_all_proxies', 'use_features', 'proxy']\n",
    "\n",
    "small_df = df[(df['cfg'].str.contains('NONE')) | (df['cfg'].str.contains(what_cfg))].drop(columns='cfg')\n",
    "small_df.groupby(group_cols).mean()"
   ],
   "metadata": {
    "collapsed": false,
    "ExecuteTime": {
     "end_time": "2023-10-20T15:20:03.137398700Z",
     "start_time": "2023-10-20T15:20:02.551807700Z"
    }
   },
   "id": "e9c94b3d614fa9c4"
  },
  {
   "cell_type": "code",
   "execution_count": 53,
   "outputs": [],
   "source": [],
   "metadata": {
    "collapsed": false,
    "ExecuteTime": {
     "end_time": "2023-10-20T15:09:14.431226800Z",
     "start_time": "2023-10-20T15:09:14.406961100Z"
    }
   },
   "id": "e8d1b1efe950ec45"
  },
  {
   "cell_type": "code",
   "execution_count": null,
   "outputs": [],
   "source": [],
   "metadata": {
    "collapsed": false
   },
   "id": "d4231361962a400a"
  }
 ],
 "metadata": {
  "kernelspec": {
   "display_name": ".env_kernel",
   "language": "python",
   "name": ".env_kernel"
  },
  "language_info": {
   "codemirror_mode": {
    "name": "ipython",
    "version": 3
   },
   "file_extension": ".py",
   "mimetype": "text/x-python",
   "name": "python",
   "nbconvert_exporter": "python",
   "pygments_lexer": "ipython3",
   "version": "3.8.10"
  }
 },
 "nbformat": 4,
 "nbformat_minor": 5
}
