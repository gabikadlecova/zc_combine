{
 "cells": [
  {
   "cell_type": "code",
   "execution_count": 1,
   "id": "02034d4a",
   "metadata": {
    "ExecuteTime": {
     "end_time": "2023-12-07T13:17:41.762202300Z",
     "start_time": "2023-12-07T13:17:36.908183800Z"
    }
   },
   "outputs": [
    {
     "name": "stderr",
     "output_type": "stream",
     "text": [
      "\u001B[34m\u001B[1mwandb\u001B[0m: Currently logged in as: \u001B[33mgabi-kadlecova\u001B[0m. Use \u001B[1m`wandb login --relogin`\u001B[0m to force relogin\n"
     ]
    },
    {
     "data": {
      "text/plain": "True"
     },
     "execution_count": 1,
     "metadata": {},
     "output_type": "execute_result"
    }
   ],
   "source": [
    "import numpy as np\n",
    "import wandb\n",
    "wandb.login(key=input())"
   ]
  },
  {
   "cell_type": "code",
   "execution_count": 3,
   "outputs": [],
   "source": [
    "project = 'test_zc'\n",
    "\n",
    "api = wandb.Api(timeout=39)\n",
    "runs = api.runs('gabi-kadlecova' + \"/\" + project)"
   ],
   "metadata": {
    "collapsed": false,
    "ExecuteTime": {
     "end_time": "2023-12-07T14:09:55.902975Z",
     "start_time": "2023-12-07T14:09:55.114109Z"
    }
   },
   "id": "b4999a760e1c623e"
  },
  {
   "cell_type": "code",
   "execution_count": 6,
   "outputs": [
    {
     "data": {
      "text/plain": "   seed  mse_sample    _timestamp  tau_sample  corr_sample  r2_sample  \\\n0    42    0.586763  1.701953e+09    0.775184     0.925500   0.852606   \n1    42    0.543246  1.701953e+09    0.773750     0.929325   0.867949   \n2    42    0.629635  1.701953e+09    0.755334     0.918663   0.846766   \n3    42    0.501327  1.701953e+09    0.787773     0.936818   0.876325   \n4    42    0.568722  1.701953e+09    0.774788     0.930704   0.862893   \n5    42    0.622362  1.701953e+09    0.768162     0.924253   0.847386   \n6    42    0.673138  1.701953e+09    0.748544     0.910913   0.839323   \n7    42    0.661070  1.701953e+09    0.759113     0.919910   0.851128   \n8    42    0.633351  1.701953e+09    0.758259     0.921037   0.847028   \n9    42    0.561687  1.701953e+09    0.765854     0.923917   0.860278   \n\n   test_time  fit_time      corr        r2       mse  _step       tau  \\\n0   0.048132  0.193916  0.931259  0.861578  0.590081     42  0.777724   \n1   0.042285  0.254255  0.936393  0.874366  0.533907     43  0.779721   \n2   0.116400  0.453659  0.915436  0.843653  0.664634     44  0.748573   \n3   0.108709  0.587809  0.938937  0.876208  0.526073     45  0.787374   \n4   0.107412  0.378829  0.934347  0.863793  0.580308     46  0.776569   \n5   0.035939  0.285094  0.927250  0.848420  0.650178     47  0.767352   \n6   0.029194  0.119146  0.920662  0.850726  0.631571     48  0.756404   \n7   0.029921  0.114560  0.922077  0.848870  0.645823     49  0.761183   \n8   0.028614  0.118671  0.918272  0.845703  0.656178     50  0.750365   \n9   0.031798  0.112141  0.927800  0.865977  0.569537     51  0.769620   \n\n   _runtime  test_time_sample  \n0  1.388481          0.022514  \n1  1.987223          0.022911  \n2  3.021459          0.031381  \n3  4.161633          0.033979  \n4  5.108873          0.025004  \n5  5.605902          0.009609  \n6  5.865161          0.008359  \n7  6.126495          0.008488  \n8  6.390745          0.008656  \n9  6.642076          0.008009  ",
      "text/html": "<div>\n<style scoped>\n    .dataframe tbody tr th:only-of-type {\n        vertical-align: middle;\n    }\n\n    .dataframe tbody tr th {\n        vertical-align: top;\n    }\n\n    .dataframe thead th {\n        text-align: right;\n    }\n</style>\n<table border=\"1\" class=\"dataframe\">\n  <thead>\n    <tr style=\"text-align: right;\">\n      <th></th>\n      <th>seed</th>\n      <th>mse_sample</th>\n      <th>_timestamp</th>\n      <th>tau_sample</th>\n      <th>corr_sample</th>\n      <th>r2_sample</th>\n      <th>test_time</th>\n      <th>fit_time</th>\n      <th>corr</th>\n      <th>r2</th>\n      <th>mse</th>\n      <th>_step</th>\n      <th>tau</th>\n      <th>_runtime</th>\n      <th>test_time_sample</th>\n    </tr>\n  </thead>\n  <tbody>\n    <tr>\n      <th>0</th>\n      <td>42</td>\n      <td>0.586763</td>\n      <td>1.701953e+09</td>\n      <td>0.775184</td>\n      <td>0.925500</td>\n      <td>0.852606</td>\n      <td>0.048132</td>\n      <td>0.193916</td>\n      <td>0.931259</td>\n      <td>0.861578</td>\n      <td>0.590081</td>\n      <td>42</td>\n      <td>0.777724</td>\n      <td>1.388481</td>\n      <td>0.022514</td>\n    </tr>\n    <tr>\n      <th>1</th>\n      <td>42</td>\n      <td>0.543246</td>\n      <td>1.701953e+09</td>\n      <td>0.773750</td>\n      <td>0.929325</td>\n      <td>0.867949</td>\n      <td>0.042285</td>\n      <td>0.254255</td>\n      <td>0.936393</td>\n      <td>0.874366</td>\n      <td>0.533907</td>\n      <td>43</td>\n      <td>0.779721</td>\n      <td>1.987223</td>\n      <td>0.022911</td>\n    </tr>\n    <tr>\n      <th>2</th>\n      <td>42</td>\n      <td>0.629635</td>\n      <td>1.701953e+09</td>\n      <td>0.755334</td>\n      <td>0.918663</td>\n      <td>0.846766</td>\n      <td>0.116400</td>\n      <td>0.453659</td>\n      <td>0.915436</td>\n      <td>0.843653</td>\n      <td>0.664634</td>\n      <td>44</td>\n      <td>0.748573</td>\n      <td>3.021459</td>\n      <td>0.031381</td>\n    </tr>\n    <tr>\n      <th>3</th>\n      <td>42</td>\n      <td>0.501327</td>\n      <td>1.701953e+09</td>\n      <td>0.787773</td>\n      <td>0.936818</td>\n      <td>0.876325</td>\n      <td>0.108709</td>\n      <td>0.587809</td>\n      <td>0.938937</td>\n      <td>0.876208</td>\n      <td>0.526073</td>\n      <td>45</td>\n      <td>0.787374</td>\n      <td>4.161633</td>\n      <td>0.033979</td>\n    </tr>\n    <tr>\n      <th>4</th>\n      <td>42</td>\n      <td>0.568722</td>\n      <td>1.701953e+09</td>\n      <td>0.774788</td>\n      <td>0.930704</td>\n      <td>0.862893</td>\n      <td>0.107412</td>\n      <td>0.378829</td>\n      <td>0.934347</td>\n      <td>0.863793</td>\n      <td>0.580308</td>\n      <td>46</td>\n      <td>0.776569</td>\n      <td>5.108873</td>\n      <td>0.025004</td>\n    </tr>\n    <tr>\n      <th>5</th>\n      <td>42</td>\n      <td>0.622362</td>\n      <td>1.701953e+09</td>\n      <td>0.768162</td>\n      <td>0.924253</td>\n      <td>0.847386</td>\n      <td>0.035939</td>\n      <td>0.285094</td>\n      <td>0.927250</td>\n      <td>0.848420</td>\n      <td>0.650178</td>\n      <td>47</td>\n      <td>0.767352</td>\n      <td>5.605902</td>\n      <td>0.009609</td>\n    </tr>\n    <tr>\n      <th>6</th>\n      <td>42</td>\n      <td>0.673138</td>\n      <td>1.701953e+09</td>\n      <td>0.748544</td>\n      <td>0.910913</td>\n      <td>0.839323</td>\n      <td>0.029194</td>\n      <td>0.119146</td>\n      <td>0.920662</td>\n      <td>0.850726</td>\n      <td>0.631571</td>\n      <td>48</td>\n      <td>0.756404</td>\n      <td>5.865161</td>\n      <td>0.008359</td>\n    </tr>\n    <tr>\n      <th>7</th>\n      <td>42</td>\n      <td>0.661070</td>\n      <td>1.701953e+09</td>\n      <td>0.759113</td>\n      <td>0.919910</td>\n      <td>0.851128</td>\n      <td>0.029921</td>\n      <td>0.114560</td>\n      <td>0.922077</td>\n      <td>0.848870</td>\n      <td>0.645823</td>\n      <td>49</td>\n      <td>0.761183</td>\n      <td>6.126495</td>\n      <td>0.008488</td>\n    </tr>\n    <tr>\n      <th>8</th>\n      <td>42</td>\n      <td>0.633351</td>\n      <td>1.701953e+09</td>\n      <td>0.758259</td>\n      <td>0.921037</td>\n      <td>0.847028</td>\n      <td>0.028614</td>\n      <td>0.118671</td>\n      <td>0.918272</td>\n      <td>0.845703</td>\n      <td>0.656178</td>\n      <td>50</td>\n      <td>0.750365</td>\n      <td>6.390745</td>\n      <td>0.008656</td>\n    </tr>\n    <tr>\n      <th>9</th>\n      <td>42</td>\n      <td>0.561687</td>\n      <td>1.701953e+09</td>\n      <td>0.765854</td>\n      <td>0.923917</td>\n      <td>0.860278</td>\n      <td>0.031798</td>\n      <td>0.112141</td>\n      <td>0.927800</td>\n      <td>0.865977</td>\n      <td>0.569537</td>\n      <td>51</td>\n      <td>0.769620</td>\n      <td>6.642076</td>\n      <td>0.008009</td>\n    </tr>\n  </tbody>\n</table>\n</div>"
     },
     "execution_count": 6,
     "metadata": {},
     "output_type": "execute_result"
    }
   ],
   "source": [
    "run = next(iter(runs))\n",
    "run.history()"
   ],
   "metadata": {
    "collapsed": false,
    "ExecuteTime": {
     "end_time": "2023-12-07T14:12:22.649649100Z",
     "start_time": "2023-12-07T14:12:18.237213300Z"
    }
   },
   "id": "3314348d48edd11f"
  },
  {
   "cell_type": "code",
   "execution_count": 19,
   "outputs": [],
   "source": [
    "res = []\n",
    "for run in runs:\n",
    "    # skip xgb for now\n",
    "    if run.config['model'] != 'rf':\n",
    "        continue\n",
    "        \n",
    "    if 'threshold' not in run.config['out_prefix']:\n",
    "        continue\n",
    "    \n",
    "    #print(run.summary['corr_mean'])\n",
    "    #print(run.config)\n",
    "    res.append((run.config['train_size'], run.config['data_seed'], run.summary['corr_mean'], len({k: v for k, v in run.summary.items() if 'featimp' in k and 'mean' in k})))\n",
    "    #print({k: v for k, v in run.summary.items() if 'featimp' in k})\n",
    "    \n",
    "    #if i > 10:\n",
    "    #    break\n",
    "    #i += 1\n",
    "    #break"
   ],
   "metadata": {
    "collapsed": false,
    "ExecuteTime": {
     "end_time": "2023-11-30T13:36:56.042907100Z",
     "start_time": "2023-11-30T13:36:47.825887500Z"
    }
   },
   "id": "d432b0e26db49b23"
  },
  {
   "cell_type": "code",
   "execution_count": 20,
   "outputs": [
    {
     "data": {
      "text/plain": "                                               cfg      dataset  data_seed  \\\n0    ../zc_combine/configs/tnb101_macro_first.json  autoencoder         46   \n1    ../zc_combine/configs/tnb101_macro_first.json  class_scene         46   \n2    ../zc_combine/configs/tnb101_macro_first.json  autoencoder         45   \n3    ../zc_combine/configs/tnb101_macro_first.json  autoencoder         45   \n4    ../zc_combine/configs/tnb101_macro_first.json  autoencoder         46   \n..                                             ...          ...        ...   \n355  ../zc_combine/configs/tnb101_macro_first.json  class_scene         42   \n356  ../zc_combine/configs/tnb101_macro_first.json  class_scene         42   \n357  ../zc_combine/configs/tnb101_macro_first.json  class_scene         42   \n358  ../zc_combine/configs/tnb101_macro_first.json  autoencoder         42   \n359  ../zc_combine/configs/tnb101_macro_first.json  class_scene         42   \n\n    proxy  train_size  use_all_proxies  use_features  use_onehot  ch_s_pos  \\\n0    NONE          20             True          True        True      True   \n1    NONE        1000            False         False        True      True   \n2    NONE        1000            False         False        True      True   \n3    NONE        1000            False          True        True      True   \n4    NONE          20            False          True        True      True   \n..    ...         ...              ...           ...         ...       ...   \n355  NONE         100            False          True        True     False   \n356  NONE         100             True          True        True     False   \n357  NONE          20            False          True        True     False   \n358  NONE          20            False          True        True     False   \n359  NONE          20             True          True        True     False   \n\n         corr       tau  \n0    0.872916  0.683184  \n1    0.915130  0.748888  \n2    0.886473  0.696160  \n3    0.935222  0.771854  \n4    0.884960  0.697150  \n..        ...       ...  \n355  0.900543  0.726682  \n356  0.915801  0.748784  \n357  0.853443  0.660204  \n358  0.760445  0.560845  \n359  0.885333  0.700517  \n\n[360 rows x 11 columns]",
      "text/html": "<div>\n<style scoped>\n    .dataframe tbody tr th:only-of-type {\n        vertical-align: middle;\n    }\n\n    .dataframe tbody tr th {\n        vertical-align: top;\n    }\n\n    .dataframe thead th {\n        text-align: right;\n    }\n</style>\n<table border=\"1\" class=\"dataframe\">\n  <thead>\n    <tr style=\"text-align: right;\">\n      <th></th>\n      <th>cfg</th>\n      <th>dataset</th>\n      <th>data_seed</th>\n      <th>proxy</th>\n      <th>train_size</th>\n      <th>use_all_proxies</th>\n      <th>use_features</th>\n      <th>use_onehot</th>\n      <th>ch_s_pos</th>\n      <th>corr</th>\n      <th>tau</th>\n    </tr>\n  </thead>\n  <tbody>\n    <tr>\n      <th>0</th>\n      <td>../zc_combine/configs/tnb101_macro_first.json</td>\n      <td>autoencoder</td>\n      <td>46</td>\n      <td>NONE</td>\n      <td>20</td>\n      <td>True</td>\n      <td>True</td>\n      <td>True</td>\n      <td>True</td>\n      <td>0.872916</td>\n      <td>0.683184</td>\n    </tr>\n    <tr>\n      <th>1</th>\n      <td>../zc_combine/configs/tnb101_macro_first.json</td>\n      <td>class_scene</td>\n      <td>46</td>\n      <td>NONE</td>\n      <td>1000</td>\n      <td>False</td>\n      <td>False</td>\n      <td>True</td>\n      <td>True</td>\n      <td>0.915130</td>\n      <td>0.748888</td>\n    </tr>\n    <tr>\n      <th>2</th>\n      <td>../zc_combine/configs/tnb101_macro_first.json</td>\n      <td>autoencoder</td>\n      <td>45</td>\n      <td>NONE</td>\n      <td>1000</td>\n      <td>False</td>\n      <td>False</td>\n      <td>True</td>\n      <td>True</td>\n      <td>0.886473</td>\n      <td>0.696160</td>\n    </tr>\n    <tr>\n      <th>3</th>\n      <td>../zc_combine/configs/tnb101_macro_first.json</td>\n      <td>autoencoder</td>\n      <td>45</td>\n      <td>NONE</td>\n      <td>1000</td>\n      <td>False</td>\n      <td>True</td>\n      <td>True</td>\n      <td>True</td>\n      <td>0.935222</td>\n      <td>0.771854</td>\n    </tr>\n    <tr>\n      <th>4</th>\n      <td>../zc_combine/configs/tnb101_macro_first.json</td>\n      <td>autoencoder</td>\n      <td>46</td>\n      <td>NONE</td>\n      <td>20</td>\n      <td>False</td>\n      <td>True</td>\n      <td>True</td>\n      <td>True</td>\n      <td>0.884960</td>\n      <td>0.697150</td>\n    </tr>\n    <tr>\n      <th>...</th>\n      <td>...</td>\n      <td>...</td>\n      <td>...</td>\n      <td>...</td>\n      <td>...</td>\n      <td>...</td>\n      <td>...</td>\n      <td>...</td>\n      <td>...</td>\n      <td>...</td>\n      <td>...</td>\n    </tr>\n    <tr>\n      <th>355</th>\n      <td>../zc_combine/configs/tnb101_macro_first.json</td>\n      <td>class_scene</td>\n      <td>42</td>\n      <td>NONE</td>\n      <td>100</td>\n      <td>False</td>\n      <td>True</td>\n      <td>True</td>\n      <td>False</td>\n      <td>0.900543</td>\n      <td>0.726682</td>\n    </tr>\n    <tr>\n      <th>356</th>\n      <td>../zc_combine/configs/tnb101_macro_first.json</td>\n      <td>class_scene</td>\n      <td>42</td>\n      <td>NONE</td>\n      <td>100</td>\n      <td>True</td>\n      <td>True</td>\n      <td>True</td>\n      <td>False</td>\n      <td>0.915801</td>\n      <td>0.748784</td>\n    </tr>\n    <tr>\n      <th>357</th>\n      <td>../zc_combine/configs/tnb101_macro_first.json</td>\n      <td>class_scene</td>\n      <td>42</td>\n      <td>NONE</td>\n      <td>20</td>\n      <td>False</td>\n      <td>True</td>\n      <td>True</td>\n      <td>False</td>\n      <td>0.853443</td>\n      <td>0.660204</td>\n    </tr>\n    <tr>\n      <th>358</th>\n      <td>../zc_combine/configs/tnb101_macro_first.json</td>\n      <td>autoencoder</td>\n      <td>42</td>\n      <td>NONE</td>\n      <td>20</td>\n      <td>False</td>\n      <td>True</td>\n      <td>True</td>\n      <td>False</td>\n      <td>0.760445</td>\n      <td>0.560845</td>\n    </tr>\n    <tr>\n      <th>359</th>\n      <td>../zc_combine/configs/tnb101_macro_first.json</td>\n      <td>class_scene</td>\n      <td>42</td>\n      <td>NONE</td>\n      <td>20</td>\n      <td>True</td>\n      <td>True</td>\n      <td>True</td>\n      <td>False</td>\n      <td>0.885333</td>\n      <td>0.700517</td>\n    </tr>\n  </tbody>\n</table>\n<p>360 rows × 11 columns</p>\n</div>"
     },
     "execution_count": 20,
     "metadata": {},
     "output_type": "execute_result"
    }
   ],
   "source": [
    "import pandas as pd\n",
    "\n",
    "def create_entry(run, is_pca=False):\n",
    "    # TODO uncertainty\n",
    "    row = {}\n",
    "    cfg_args = ['cfg', 'dataset', 'data_seed', 'proxy', 'train_size', 'use_all_proxies', 'use_features', 'use_onehot']\n",
    "    for ca in cfg_args:\n",
    "        if ca not in run.config:\n",
    "            row[ca] = False\n",
    "            continue\n",
    "        \n",
    "        row[ca] = run.config[ca]\n",
    "    \n",
    "    row['ch_s_pos'] = 'new' in run.config['out_prefix']\n",
    "        \n",
    "    if is_pca:\n",
    "        prefix = run.config['out_prefix']\n",
    "        prefix = prefix.replace('n_features-', 'nfeatures_')\n",
    "        prefix = prefix.replace('theshold-', 'theshold_')\n",
    "\n",
    "        prefix = prefix.split('-')\n",
    "        for p in prefix:\n",
    "            if not len(p):\n",
    "                continue  \n",
    "            p = p.split('_')\n",
    "            if len(p) == 1:\n",
    "                continue\n",
    "            \n",
    "            row[p[0]] = p[1]\n",
    "\n",
    "    prox, cfg = row['proxy'], row['cfg']\n",
    "    row['proxy'] = 'NONE' if prox is None or not len(prox) else prox\n",
    "    row['cfg'] = 'NONE' if cfg is None or not len(cfg) else cfg\n",
    "    row['corr'] = run.summary['corr_mean']\n",
    "    row['tau'] = run.summary['tau_mean']\n",
    "    return row\n",
    "\n",
    "df = [create_entry(r, is_pca='pca' in project) for r in runs]\n",
    "df = pd.DataFrame(df)\n",
    "df"
   ],
   "metadata": {
    "collapsed": false,
    "ExecuteTime": {
     "end_time": "2023-11-30T13:36:56.205925100Z",
     "start_time": "2023-11-30T13:36:56.077097500Z"
    }
   },
   "id": "a1bfd753efaff60"
  },
  {
   "cell_type": "code",
   "execution_count": 28,
   "outputs": [],
   "source": [
    "def agg_func(row):\n",
    "    version = \"ch_s_pos - \" if 'ch_s_pos' in row and row['ch_s_pos'] else \"\"\n",
    "    \n",
    "    if row['use_onehot']:\n",
    "        if row['use_features']:\n",
    "            return f\"{version}Onehot + proxies + features\" if row['use_all_proxies'] else f\"{version}Onehot + features\"\n",
    "        else:\n",
    "            return f\"{version}Onehot + proxies\" if row['use_all_proxies'] else f\"{version}Onehot only\"\n",
    "    \n",
    "    if row['use_all_proxies']:\n",
    "        return f\"{version}All proxies only\" if not row['use_features'] else f\"{version}Features + all proxies\"\n",
    "    if row['proxy'] is None or row['proxy'] == 'NONE':\n",
    "        return f\"{version}Features only\"\n",
    "    return f\"Features + {row['proxy']}\"\n",
    "\n",
    "def agg_func_pca(row):\n",
    "    val = f\"threshold: {row['threshold']}\" if not pd.isna(row['threshold']) else f\"n_features: {row['nfeatures']}\"\n",
    "    prox = \"+ all proxies\" if row['use_all_proxies'] else 'only'\n",
    "    \n",
    "    return f\"Features {prox}, {val}\""
   ],
   "metadata": {
    "collapsed": false,
    "ExecuteTime": {
     "end_time": "2023-11-30T13:38:23.714258800Z",
     "start_time": "2023-11-30T13:38:23.667418Z"
    }
   },
   "id": "dcdd63c3cd19914b"
  },
  {
   "cell_type": "code",
   "execution_count": 29,
   "outputs": [
    {
     "data": {
      "text/plain": "0      ch_s_pos - Onehot + proxies + features\n1                      ch_s_pos - Onehot only\n2                      ch_s_pos - Onehot only\n3                ch_s_pos - Onehot + features\n4                ch_s_pos - Onehot + features\n                        ...                  \n355                         Onehot + features\n356               Onehot + proxies + features\n357                         Onehot + features\n358                         Onehot + features\n359               Onehot + proxies + features\nName: Dataset, Length: 360, dtype: object"
     },
     "execution_count": 29,
     "metadata": {},
     "output_type": "execute_result"
    }
   ],
   "source": [
    "import numpy as np\n",
    "\n",
    "plot_df = df.copy()\n",
    "if 'pca' in project:\n",
    "    plot_df['Dataset'] = plot_df[['use_all_proxies', 'threshold', 'nfeatures']].agg(agg_func_pca, axis=1)\n",
    "else:\n",
    "    plot_df['Dataset'] = plot_df[['ch_s_pos', 'proxy', 'use_all_proxies', 'use_features', 'use_onehot']].agg(agg_func, axis=1)\n",
    "\n",
    "plot_df['Dataset']"
   ],
   "metadata": {
    "collapsed": false,
    "ExecuteTime": {
     "end_time": "2023-11-30T13:38:23.973529200Z",
     "start_time": "2023-11-30T13:38:23.874649200Z"
    }
   },
   "id": "a98314adf22ec29"
  },
  {
   "cell_type": "code",
   "execution_count": 30,
   "outputs": [
    {
     "data": {
      "text/plain": "                                               cfg      dataset  data_seed  \\\n269  ../zc_combine/configs/tnb101_macro_first.json  class_scene         42   \n211  ../zc_combine/configs/tnb101_macro_first.json  class_scene         45   \n214  ../zc_combine/configs/tnb101_macro_first.json  class_scene         44   \n215  ../zc_combine/configs/tnb101_macro_first.json  autoencoder         45   \n216  ../zc_combine/configs/tnb101_macro_first.json  class_scene         45   \n..                                             ...          ...        ...   \n50   ../zc_combine/configs/tnb101_macro_first.json  autoencoder         43   \n21   ../zc_combine/configs/tnb101_macro_first.json  class_scene         46   \n20   ../zc_combine/configs/tnb101_macro_first.json  class_scene         45   \n78   ../zc_combine/configs/tnb101_macro_first.json  autoencoder         42   \n32   ../zc_combine/configs/tnb101_macro_first.json  autoencoder         44   \n\n    proxy  train_size  use_all_proxies  use_features  use_onehot  ch_s_pos  \\\n269  NONE          20             True         False       False     False   \n211  NONE         100             True         False       False     False   \n214  NONE        1000             True         False       False     False   \n215  NONE          20             True         False       False     False   \n216  NONE          20             True         False       False     False   \n..    ...         ...              ...           ...         ...       ...   \n50   NONE         100            False         False        True      True   \n21   NONE         100            False         False        True      True   \n20   NONE        1000            False         False        True      True   \n78   NONE          20            False         False        True      True   \n32   NONE         100            False         False        True      True   \n\n         corr       tau                 Dataset  \n269  0.879435  0.691230        All proxies only  \n211  0.905208  0.729474        All proxies only  \n214  0.935666  0.779064        All proxies only  \n215  0.791743  0.584693        All proxies only  \n216  0.801033  0.607778        All proxies only  \n..        ...       ...                     ...  \n50   0.656626  0.465543  ch_s_pos - Onehot only  \n21   0.872348  0.687822  ch_s_pos - Onehot only  \n20   0.919676  0.756011  ch_s_pos - Onehot only  \n78   0.518580  0.358149  ch_s_pos - Onehot only  \n32   0.689058  0.494740  ch_s_pos - Onehot only  \n\n[360 rows x 12 columns]",
      "text/html": "<div>\n<style scoped>\n    .dataframe tbody tr th:only-of-type {\n        vertical-align: middle;\n    }\n\n    .dataframe tbody tr th {\n        vertical-align: top;\n    }\n\n    .dataframe thead th {\n        text-align: right;\n    }\n</style>\n<table border=\"1\" class=\"dataframe\">\n  <thead>\n    <tr style=\"text-align: right;\">\n      <th></th>\n      <th>cfg</th>\n      <th>dataset</th>\n      <th>data_seed</th>\n      <th>proxy</th>\n      <th>train_size</th>\n      <th>use_all_proxies</th>\n      <th>use_features</th>\n      <th>use_onehot</th>\n      <th>ch_s_pos</th>\n      <th>corr</th>\n      <th>tau</th>\n      <th>Dataset</th>\n    </tr>\n  </thead>\n  <tbody>\n    <tr>\n      <th>269</th>\n      <td>../zc_combine/configs/tnb101_macro_first.json</td>\n      <td>class_scene</td>\n      <td>42</td>\n      <td>NONE</td>\n      <td>20</td>\n      <td>True</td>\n      <td>False</td>\n      <td>False</td>\n      <td>False</td>\n      <td>0.879435</td>\n      <td>0.691230</td>\n      <td>All proxies only</td>\n    </tr>\n    <tr>\n      <th>211</th>\n      <td>../zc_combine/configs/tnb101_macro_first.json</td>\n      <td>class_scene</td>\n      <td>45</td>\n      <td>NONE</td>\n      <td>100</td>\n      <td>True</td>\n      <td>False</td>\n      <td>False</td>\n      <td>False</td>\n      <td>0.905208</td>\n      <td>0.729474</td>\n      <td>All proxies only</td>\n    </tr>\n    <tr>\n      <th>214</th>\n      <td>../zc_combine/configs/tnb101_macro_first.json</td>\n      <td>class_scene</td>\n      <td>44</td>\n      <td>NONE</td>\n      <td>1000</td>\n      <td>True</td>\n      <td>False</td>\n      <td>False</td>\n      <td>False</td>\n      <td>0.935666</td>\n      <td>0.779064</td>\n      <td>All proxies only</td>\n    </tr>\n    <tr>\n      <th>215</th>\n      <td>../zc_combine/configs/tnb101_macro_first.json</td>\n      <td>autoencoder</td>\n      <td>45</td>\n      <td>NONE</td>\n      <td>20</td>\n      <td>True</td>\n      <td>False</td>\n      <td>False</td>\n      <td>False</td>\n      <td>0.791743</td>\n      <td>0.584693</td>\n      <td>All proxies only</td>\n    </tr>\n    <tr>\n      <th>216</th>\n      <td>../zc_combine/configs/tnb101_macro_first.json</td>\n      <td>class_scene</td>\n      <td>45</td>\n      <td>NONE</td>\n      <td>20</td>\n      <td>True</td>\n      <td>False</td>\n      <td>False</td>\n      <td>False</td>\n      <td>0.801033</td>\n      <td>0.607778</td>\n      <td>All proxies only</td>\n    </tr>\n    <tr>\n      <th>...</th>\n      <td>...</td>\n      <td>...</td>\n      <td>...</td>\n      <td>...</td>\n      <td>...</td>\n      <td>...</td>\n      <td>...</td>\n      <td>...</td>\n      <td>...</td>\n      <td>...</td>\n      <td>...</td>\n      <td>...</td>\n    </tr>\n    <tr>\n      <th>50</th>\n      <td>../zc_combine/configs/tnb101_macro_first.json</td>\n      <td>autoencoder</td>\n      <td>43</td>\n      <td>NONE</td>\n      <td>100</td>\n      <td>False</td>\n      <td>False</td>\n      <td>True</td>\n      <td>True</td>\n      <td>0.656626</td>\n      <td>0.465543</td>\n      <td>ch_s_pos - Onehot only</td>\n    </tr>\n    <tr>\n      <th>21</th>\n      <td>../zc_combine/configs/tnb101_macro_first.json</td>\n      <td>class_scene</td>\n      <td>46</td>\n      <td>NONE</td>\n      <td>100</td>\n      <td>False</td>\n      <td>False</td>\n      <td>True</td>\n      <td>True</td>\n      <td>0.872348</td>\n      <td>0.687822</td>\n      <td>ch_s_pos - Onehot only</td>\n    </tr>\n    <tr>\n      <th>20</th>\n      <td>../zc_combine/configs/tnb101_macro_first.json</td>\n      <td>class_scene</td>\n      <td>45</td>\n      <td>NONE</td>\n      <td>1000</td>\n      <td>False</td>\n      <td>False</td>\n      <td>True</td>\n      <td>True</td>\n      <td>0.919676</td>\n      <td>0.756011</td>\n      <td>ch_s_pos - Onehot only</td>\n    </tr>\n    <tr>\n      <th>78</th>\n      <td>../zc_combine/configs/tnb101_macro_first.json</td>\n      <td>autoencoder</td>\n      <td>42</td>\n      <td>NONE</td>\n      <td>20</td>\n      <td>False</td>\n      <td>False</td>\n      <td>True</td>\n      <td>True</td>\n      <td>0.518580</td>\n      <td>0.358149</td>\n      <td>ch_s_pos - Onehot only</td>\n    </tr>\n    <tr>\n      <th>32</th>\n      <td>../zc_combine/configs/tnb101_macro_first.json</td>\n      <td>autoencoder</td>\n      <td>44</td>\n      <td>NONE</td>\n      <td>100</td>\n      <td>False</td>\n      <td>False</td>\n      <td>True</td>\n      <td>True</td>\n      <td>0.689058</td>\n      <td>0.494740</td>\n      <td>ch_s_pos - Onehot only</td>\n    </tr>\n  </tbody>\n</table>\n<p>360 rows × 12 columns</p>\n</div>"
     },
     "execution_count": 30,
     "metadata": {},
     "output_type": "execute_result"
    }
   ],
   "source": [
    "plot_df.sort_values(by='Dataset', inplace=True)\n",
    "plot_df"
   ],
   "metadata": {
    "collapsed": false,
    "ExecuteTime": {
     "end_time": "2023-11-30T13:38:24.048002600Z",
     "start_time": "2023-11-30T13:38:24.012617300Z"
    }
   },
   "id": "258efde18a7b64b5"
  },
  {
   "cell_type": "code",
   "execution_count": 31,
   "outputs": [
    {
     "data": {
      "text/plain": "{}"
     },
     "execution_count": 31,
     "metadata": {},
     "output_type": "execute_result"
    }
   ],
   "source": [
    "xlims = {}\n",
    "xlims"
   ],
   "metadata": {
    "collapsed": false,
    "ExecuteTime": {
     "end_time": "2023-11-30T13:38:24.533386900Z",
     "start_time": "2023-11-30T13:38:24.532381600Z"
    }
   },
   "id": "4eb909da8e53d25b"
  },
  {
   "cell_type": "code",
   "execution_count": 50,
   "outputs": [
    {
     "data": {
      "text/plain": "<Figure size 936x864 with 1 Axes>",
      "image/png": "[encoded data removed]"
     },
     "metadata": {},
     "output_type": "display_data"
    }
   ],
   "source": [
    "import seaborn as sns\n",
    "import matplotlib.pyplot as plt\n",
    "sns.set()\n",
    "\n",
    "plot_dataset = 'class_scene' if 'macro' in project else run.config['dataset']\n",
    "tsize = 1000\n",
    "plot_condition = (plot_df['train_size'] == tsize) & ~(plot_df['cfg'].str.contains('full' if 'nb101' in project else 'first'))\n",
    "if 'dataset' in plot_df:\n",
    "    plot_condition &= plot_df['dataset'] == plot_dataset\n",
    "\n",
    "plt.figure(figsize=(13, 12))\n",
    "sns.boxplot(data=plot_df[plot_condition], y='Dataset', x='tau')\n",
    "plt.title(f\"{project} sample size {tsize}, accuracy {plot_dataset}\")\n",
    "\n",
    "if 'pca' not in project:\n",
    "    xlims[(f\"{project}_pca\", tsize)] = plt.xlim()\n",
    "else:\n",
    "    down, up = xlims[(project, tsize)]\n",
    "    plt.xlim(down, up)\n",
    "\n",
    "plt.tight_layout()\n",
    "#plt.savefig(f'../figs/{project}_boxes_{tsize}.png')\n",
    "plt.show()"
   ],
   "metadata": {
    "collapsed": false,
    "ExecuteTime": {
     "end_time": "2023-11-30T13:50:08.707489600Z",
     "start_time": "2023-11-30T13:50:03.794840200Z"
    }
   },
   "id": "fb6f14b0794b76c9"
  },
  {
   "cell_type": "code",
   "execution_count": 40,
   "outputs": [
    {
     "data": {
      "text/plain": "                                                   data_seed  use_onehot  \\\ntrain_size use_all_proxies use_features proxy                              \n20         False           False        NONE       44.200000    1.000000   \n                           True         NONE       44.100000    0.500000   \n                                        epe_nas    44.000000    0.000000   \n                                        fisher     44.000000    0.000000   \n                                        grad_norm  44.000000    0.000000   \n                                        grasp      44.000000    0.000000   \n                                        jacov      44.000000    0.000000   \n                                        l2_norm    44.000000    0.000000   \n                                        nwot       44.000000    0.000000   \n                                        plain      44.000000    0.000000   \n                                        snip       44.000000    0.000000   \n                                        synflow    44.000000    0.000000   \n                                        zen        44.000000    0.000000   \n           True            False        NONE       44.000000    0.000000   \n                           True         NONE       43.818182    0.545455   \n25         False           True         NONE       44.000000    0.000000   \n                                        jacov      44.000000    0.000000   \n           True            True         NONE       44.000000    0.000000   \n100        False           False        NONE       43.500000    1.000000   \n                           True         NONE       44.100000    0.500000   \n                                        epe_nas    44.000000    0.000000   \n                                        fisher     44.000000    0.000000   \n                                        grad_norm  44.000000    0.000000   \n                                        grasp      44.000000    0.000000   \n                                        jacov      44.000000    0.000000   \n                                        l2_norm    44.000000    0.000000   \n                                        nwot       44.000000    0.000000   \n                                        plain      44.000000    0.000000   \n                                        snip       44.000000    0.000000   \n                                        synflow    44.000000    0.000000   \n                                        zen        44.000000    0.000000   \n           True            False        NONE       44.000000    0.000000   \n                           True         NONE       44.100000    0.500000   \n276        False           True         NONE       44.000000    0.000000   \n                                        jacov      44.000000    0.000000   \n           True            True         NONE       44.000000    0.000000   \n614        False           True         NONE       44.000000    0.000000   \n                                        jacov      44.000000    0.000000   \n           True            True         NONE       44.000000    0.000000   \n1000       False           False        NONE       44.000000    1.000000   \n                           True         NONE       44.000000    0.500000   \n                                        epe_nas    44.000000    0.000000   \n                                        fisher     44.000000    0.000000   \n                                        grad_norm  44.000000    0.000000   \n                                        grasp      44.000000    0.000000   \n                                        jacov      44.000000    0.000000   \n                                        l2_norm    44.000000    0.000000   \n                                        nwot       44.000000    0.000000   \n                                        plain      44.000000    0.000000   \n                                        snip       44.000000    0.000000   \n                                        synflow    44.000000    0.000000   \n                                        zen        44.000000    0.000000   \n           True            False        NONE       44.000000    0.000000   \n                           True         NONE       44.000000    0.500000   \n\n                                                       corr       tau  \ntrain_size use_all_proxies use_features proxy                          \n20         False           False        NONE       0.460112  0.320251  \n                           True         NONE       0.795575  0.604535  \n                                        epe_nas    0.840718  0.650994  \n                                        fisher     0.793019  0.602359  \n                                        grad_norm  0.792815  0.602378  \n                                        grasp      0.800115  0.610184  \n                                        jacov      0.844494  0.654127  \n                                        l2_norm    0.799439  0.608268  \n                                        nwot       0.804457  0.613428  \n                                        plain      0.792867  0.602274  \n                                        snip       0.793850  0.603436  \n                                        synflow    0.798391  0.608121  \n                                        zen        0.790781  0.600432  \n           True            False        NONE       0.866033  0.674794  \n                           True         NONE       0.858479  0.670185  \n25         False           True         NONE       0.819493  0.630080  \n                                        jacov      0.864806  0.679459  \n           True            True         NONE       0.877970  0.696272  \n100        False           False        NONE       0.736900  0.548922  \n                           True         NONE       0.892366  0.724837  \n                                        epe_nas    0.915581  0.752517  \n                                        fisher     0.896590  0.730058  \n                                        grad_norm  0.904397  0.739600  \n                                        grasp      0.900985  0.734712  \n                                        jacov      0.923602  0.765071  \n                                        l2_norm    0.886401  0.716039  \n                                        nwot       0.902417  0.736546  \n                                        plain      0.893116  0.724578  \n                                        snip       0.907887  0.743634  \n                                        synflow    0.890607  0.722787  \n                                        zen        0.896074  0.729493  \n           True            False        NONE       0.905981  0.733658  \n                           True         NONE       0.918457  0.756570  \n276        False           True         NONE       0.923848  0.769218  \n                                        jacov      0.943586  0.798879  \n           True            True         NONE       0.938684  0.791412  \n614        False           True         NONE       0.943318  0.803664  \n                                        jacov      0.956000  0.823208  \n           True            True         NONE       0.955306  0.822867  \n1000       False           False        NONE       0.909310  0.746685  \n                           True         NONE       0.954404  0.823885  \n                                        epe_nas    0.957743  0.827974  \n                                        fisher     0.956497  0.827810  \n                                        grad_norm  0.959654  0.833799  \n                                        grasp      0.958201  0.830692  \n                                        jacov      0.962535  0.836718  \n                                        l2_norm    0.952061  0.819079  \n                                        nwot       0.956534  0.827643  \n                                        plain      0.952528  0.820138  \n                                        snip       0.961882  0.837180  \n                                        synflow    0.956127  0.827264  \n                                        zen        0.958489  0.832697  \n           True            False        NONE       0.944283  0.797788  \n                           True         NONE       0.962719  0.838004  ",
      "text/html": "<div>\n<style scoped>\n    .dataframe tbody tr th:only-of-type {\n        vertical-align: middle;\n    }\n\n    .dataframe tbody tr th {\n        vertical-align: top;\n    }\n\n    .dataframe thead th {\n        text-align: right;\n    }\n</style>\n<table border=\"1\" class=\"dataframe\">\n  <thead>\n    <tr style=\"text-align: right;\">\n      <th></th>\n      <th></th>\n      <th></th>\n      <th></th>\n      <th>data_seed</th>\n      <th>use_onehot</th>\n      <th>corr</th>\n      <th>tau</th>\n    </tr>\n    <tr>\n      <th>train_size</th>\n      <th>use_all_proxies</th>\n      <th>use_features</th>\n      <th>proxy</th>\n      <th></th>\n      <th></th>\n      <th></th>\n      <th></th>\n    </tr>\n  </thead>\n  <tbody>\n    <tr>\n      <th rowspan=\"15\" valign=\"top\">20</th>\n      <th rowspan=\"13\" valign=\"top\">False</th>\n      <th>False</th>\n      <th>NONE</th>\n      <td>44.200000</td>\n      <td>1.000000</td>\n      <td>0.460112</td>\n      <td>0.320251</td>\n    </tr>\n    <tr>\n      <th rowspan=\"12\" valign=\"top\">True</th>\n      <th>NONE</th>\n      <td>44.100000</td>\n      <td>0.500000</td>\n      <td>0.795575</td>\n      <td>0.604535</td>\n    </tr>\n    <tr>\n      <th>epe_nas</th>\n      <td>44.000000</td>\n      <td>0.000000</td>\n      <td>0.840718</td>\n      <td>0.650994</td>\n    </tr>\n    <tr>\n      <th>fisher</th>\n      <td>44.000000</td>\n      <td>0.000000</td>\n      <td>0.793019</td>\n      <td>0.602359</td>\n    </tr>\n    <tr>\n      <th>grad_norm</th>\n      <td>44.000000</td>\n      <td>0.000000</td>\n      <td>0.792815</td>\n      <td>0.602378</td>\n    </tr>\n    <tr>\n      <th>grasp</th>\n      <td>44.000000</td>\n      <td>0.000000</td>\n      <td>0.800115</td>\n      <td>0.610184</td>\n    </tr>\n    <tr>\n      <th>jacov</th>\n      <td>44.000000</td>\n      <td>0.000000</td>\n      <td>0.844494</td>\n      <td>0.654127</td>\n    </tr>\n    <tr>\n      <th>l2_norm</th>\n      <td>44.000000</td>\n      <td>0.000000</td>\n      <td>0.799439</td>\n      <td>0.608268</td>\n    </tr>\n    <tr>\n      <th>nwot</th>\n      <td>44.000000</td>\n      <td>0.000000</td>\n      <td>0.804457</td>\n      <td>0.613428</td>\n    </tr>\n    <tr>\n      <th>plain</th>\n      <td>44.000000</td>\n      <td>0.000000</td>\n      <td>0.792867</td>\n      <td>0.602274</td>\n    </tr>\n    <tr>\n      <th>snip</th>\n      <td>44.000000</td>\n      <td>0.000000</td>\n      <td>0.793850</td>\n      <td>0.603436</td>\n    </tr>\n    <tr>\n      <th>synflow</th>\n      <td>44.000000</td>\n      <td>0.000000</td>\n      <td>0.798391</td>\n      <td>0.608121</td>\n    </tr>\n    <tr>\n      <th>zen</th>\n      <td>44.000000</td>\n      <td>0.000000</td>\n      <td>0.790781</td>\n      <td>0.600432</td>\n    </tr>\n    <tr>\n      <th rowspan=\"2\" valign=\"top\">True</th>\n      <th>False</th>\n      <th>NONE</th>\n      <td>44.000000</td>\n      <td>0.000000</td>\n      <td>0.866033</td>\n      <td>0.674794</td>\n    </tr>\n    <tr>\n      <th>True</th>\n      <th>NONE</th>\n      <td>43.818182</td>\n      <td>0.545455</td>\n      <td>0.858479</td>\n      <td>0.670185</td>\n    </tr>\n    <tr>\n      <th rowspan=\"3\" valign=\"top\">25</th>\n      <th rowspan=\"2\" valign=\"top\">False</th>\n      <th rowspan=\"2\" valign=\"top\">True</th>\n      <th>NONE</th>\n      <td>44.000000</td>\n      <td>0.000000</td>\n      <td>0.819493</td>\n      <td>0.630080</td>\n    </tr>\n    <tr>\n      <th>jacov</th>\n      <td>44.000000</td>\n      <td>0.000000</td>\n      <td>0.864806</td>\n      <td>0.679459</td>\n    </tr>\n    <tr>\n      <th>True</th>\n      <th>True</th>\n      <th>NONE</th>\n      <td>44.000000</td>\n      <td>0.000000</td>\n      <td>0.877970</td>\n      <td>0.696272</td>\n    </tr>\n    <tr>\n      <th rowspan=\"15\" valign=\"top\">100</th>\n      <th rowspan=\"13\" valign=\"top\">False</th>\n      <th>False</th>\n      <th>NONE</th>\n      <td>43.500000</td>\n      <td>1.000000</td>\n      <td>0.736900</td>\n      <td>0.548922</td>\n    </tr>\n    <tr>\n      <th rowspan=\"12\" valign=\"top\">True</th>\n      <th>NONE</th>\n      <td>44.100000</td>\n      <td>0.500000</td>\n      <td>0.892366</td>\n      <td>0.724837</td>\n    </tr>\n    <tr>\n      <th>epe_nas</th>\n      <td>44.000000</td>\n      <td>0.000000</td>\n      <td>0.915581</td>\n      <td>0.752517</td>\n    </tr>\n    <tr>\n      <th>fisher</th>\n      <td>44.000000</td>\n      <td>0.000000</td>\n      <td>0.896590</td>\n      <td>0.730058</td>\n    </tr>\n    <tr>\n      <th>grad_norm</th>\n      <td>44.000000</td>\n      <td>0.000000</td>\n      <td>0.904397</td>\n      <td>0.739600</td>\n    </tr>\n    <tr>\n      <th>grasp</th>\n      <td>44.000000</td>\n      <td>0.000000</td>\n      <td>0.900985</td>\n      <td>0.734712</td>\n    </tr>\n    <tr>\n      <th>jacov</th>\n      <td>44.000000</td>\n      <td>0.000000</td>\n      <td>0.923602</td>\n      <td>0.765071</td>\n    </tr>\n    <tr>\n      <th>l2_norm</th>\n      <td>44.000000</td>\n      <td>0.000000</td>\n      <td>0.886401</td>\n      <td>0.716039</td>\n    </tr>\n    <tr>\n      <th>nwot</th>\n      <td>44.000000</td>\n      <td>0.000000</td>\n      <td>0.902417</td>\n      <td>0.736546</td>\n    </tr>\n    <tr>\n      <th>plain</th>\n      <td>44.000000</td>\n      <td>0.000000</td>\n      <td>0.893116</td>\n      <td>0.724578</td>\n    </tr>\n    <tr>\n      <th>snip</th>\n      <td>44.000000</td>\n      <td>0.000000</td>\n      <td>0.907887</td>\n      <td>0.743634</td>\n    </tr>\n    <tr>\n      <th>synflow</th>\n      <td>44.000000</td>\n      <td>0.000000</td>\n      <td>0.890607</td>\n      <td>0.722787</td>\n    </tr>\n    <tr>\n      <th>zen</th>\n      <td>44.000000</td>\n      <td>0.000000</td>\n      <td>0.896074</td>\n      <td>0.729493</td>\n    </tr>\n    <tr>\n      <th rowspan=\"2\" valign=\"top\">True</th>\n      <th>False</th>\n      <th>NONE</th>\n      <td>44.000000</td>\n      <td>0.000000</td>\n      <td>0.905981</td>\n      <td>0.733658</td>\n    </tr>\n    <tr>\n      <th>True</th>\n      <th>NONE</th>\n      <td>44.100000</td>\n      <td>0.500000</td>\n      <td>0.918457</td>\n      <td>0.756570</td>\n    </tr>\n    <tr>\n      <th rowspan=\"3\" valign=\"top\">276</th>\n      <th rowspan=\"2\" valign=\"top\">False</th>\n      <th rowspan=\"2\" valign=\"top\">True</th>\n      <th>NONE</th>\n      <td>44.000000</td>\n      <td>0.000000</td>\n      <td>0.923848</td>\n      <td>0.769218</td>\n    </tr>\n    <tr>\n      <th>jacov</th>\n      <td>44.000000</td>\n      <td>0.000000</td>\n      <td>0.943586</td>\n      <td>0.798879</td>\n    </tr>\n    <tr>\n      <th>True</th>\n      <th>True</th>\n      <th>NONE</th>\n      <td>44.000000</td>\n      <td>0.000000</td>\n      <td>0.938684</td>\n      <td>0.791412</td>\n    </tr>\n    <tr>\n      <th rowspan=\"3\" valign=\"top\">614</th>\n      <th rowspan=\"2\" valign=\"top\">False</th>\n      <th rowspan=\"2\" valign=\"top\">True</th>\n      <th>NONE</th>\n      <td>44.000000</td>\n      <td>0.000000</td>\n      <td>0.943318</td>\n      <td>0.803664</td>\n    </tr>\n    <tr>\n      <th>jacov</th>\n      <td>44.000000</td>\n      <td>0.000000</td>\n      <td>0.956000</td>\n      <td>0.823208</td>\n    </tr>\n    <tr>\n      <th>True</th>\n      <th>True</th>\n      <th>NONE</th>\n      <td>44.000000</td>\n      <td>0.000000</td>\n      <td>0.955306</td>\n      <td>0.822867</td>\n    </tr>\n    <tr>\n      <th rowspan=\"15\" valign=\"top\">1000</th>\n      <th rowspan=\"13\" valign=\"top\">False</th>\n      <th>False</th>\n      <th>NONE</th>\n      <td>44.000000</td>\n      <td>1.000000</td>\n      <td>0.909310</td>\n      <td>0.746685</td>\n    </tr>\n    <tr>\n      <th rowspan=\"12\" valign=\"top\">True</th>\n      <th>NONE</th>\n      <td>44.000000</td>\n      <td>0.500000</td>\n      <td>0.954404</td>\n      <td>0.823885</td>\n    </tr>\n    <tr>\n      <th>epe_nas</th>\n      <td>44.000000</td>\n      <td>0.000000</td>\n      <td>0.957743</td>\n      <td>0.827974</td>\n    </tr>\n    <tr>\n      <th>fisher</th>\n      <td>44.000000</td>\n      <td>0.000000</td>\n      <td>0.956497</td>\n      <td>0.827810</td>\n    </tr>\n    <tr>\n      <th>grad_norm</th>\n      <td>44.000000</td>\n      <td>0.000000</td>\n      <td>0.959654</td>\n      <td>0.833799</td>\n    </tr>\n    <tr>\n      <th>grasp</th>\n      <td>44.000000</td>\n      <td>0.000000</td>\n      <td>0.958201</td>\n      <td>0.830692</td>\n    </tr>\n    <tr>\n      <th>jacov</th>\n      <td>44.000000</td>\n      <td>0.000000</td>\n      <td>0.962535</td>\n      <td>0.836718</td>\n    </tr>\n    <tr>\n      <th>l2_norm</th>\n      <td>44.000000</td>\n      <td>0.000000</td>\n      <td>0.952061</td>\n      <td>0.819079</td>\n    </tr>\n    <tr>\n      <th>nwot</th>\n      <td>44.000000</td>\n      <td>0.000000</td>\n      <td>0.956534</td>\n      <td>0.827643</td>\n    </tr>\n    <tr>\n      <th>plain</th>\n      <td>44.000000</td>\n      <td>0.000000</td>\n      <td>0.952528</td>\n      <td>0.820138</td>\n    </tr>\n    <tr>\n      <th>snip</th>\n      <td>44.000000</td>\n      <td>0.000000</td>\n      <td>0.961882</td>\n      <td>0.837180</td>\n    </tr>\n    <tr>\n      <th>synflow</th>\n      <td>44.000000</td>\n      <td>0.000000</td>\n      <td>0.956127</td>\n      <td>0.827264</td>\n    </tr>\n    <tr>\n      <th>zen</th>\n      <td>44.000000</td>\n      <td>0.000000</td>\n      <td>0.958489</td>\n      <td>0.832697</td>\n    </tr>\n    <tr>\n      <th rowspan=\"2\" valign=\"top\">True</th>\n      <th>False</th>\n      <th>NONE</th>\n      <td>44.000000</td>\n      <td>0.000000</td>\n      <td>0.944283</td>\n      <td>0.797788</td>\n    </tr>\n    <tr>\n      <th>True</th>\n      <th>NONE</th>\n      <td>44.000000</td>\n      <td>0.500000</td>\n      <td>0.962719</td>\n      <td>0.838004</td>\n    </tr>\n  </tbody>\n</table>\n</div>"
     },
     "execution_count": 40,
     "metadata": {},
     "output_type": "execute_result"
    }
   ],
   "source": [
    "what_cfg = 'full'\n",
    "group_cols = ['train_size', 'use_all_proxies', 'use_features', 'proxy']\n",
    "\n",
    "small_df = df[(df['cfg'].str.contains('NONE')) | (df['cfg'].str.contains(what_cfg))].drop(columns='cfg')\n",
    "small_df.groupby(group_cols).mean()"
   ],
   "metadata": {
    "collapsed": false,
    "ExecuteTime": {
     "end_time": "2023-11-15T15:46:34.512282700Z",
     "start_time": "2023-11-15T15:46:34.489496900Z"
    }
   },
   "id": "e9c94b3d614fa9c4"
  },
  {
   "cell_type": "code",
   "execution_count": 210,
   "outputs": [],
   "source": [
    "#####################################################\n",
    "from copy import deepcopy\n",
    "\n",
    "\n",
    "def topology_str2structure(xstr):\n",
    "    return TopologyStructure.str2structure(xstr)\n",
    "\n",
    "\n",
    "class TopologyStructure:\n",
    "    \"\"\"A class to describe the topology, especially that used in NATS-Bench.\"\"\"\n",
    "\n",
    "    def __init__(self, genotype):\n",
    "        assert isinstance(genotype, list) or isinstance(\n",
    "            genotype, tuple\n",
    "        ), \"invalid class of genotype : {:}\".format(type(genotype))\n",
    "        self.node_num = len(genotype) + 1\n",
    "        self.nodes = []\n",
    "        self.node_N = []\n",
    "        for idx, node_info in enumerate(genotype):\n",
    "            assert isinstance(node_info, list) or isinstance(\n",
    "                node_info, tuple\n",
    "            ), \"invalid class of node_info : {:}\".format(type(node_info))\n",
    "            assert len(node_info) >= 1, \"invalid length : {:}\".format(len(node_info))\n",
    "            for node_in in node_info:\n",
    "                assert isinstance(node_in, list) or isinstance(\n",
    "                    node_in, tuple\n",
    "                ), \"invalid class of in-node : {:}\".format(type(node_in))\n",
    "                assert (\n",
    "                    len(node_in) == 2 and node_in[1] <= idx\n",
    "                ), \"invalid in-node : {:}\".format(node_in)\n",
    "            self.node_N.append(len(node_info))\n",
    "            self.nodes.append(tuple(deepcopy(node_info)))\n",
    "\n",
    "    def tolist(self, remove_str):\n",
    "        # convert this class to the list, if remove_str is 'none', then remove the 'none' operation.\n",
    "        # note that we re-order the input node in this function\n",
    "        # return the-genotype-list and success [if unsuccess, it is not a connectivity]\n",
    "        genotypes = []\n",
    "        for node_info in self.nodes:\n",
    "            node_info = list(node_info)\n",
    "            node_info = sorted(node_info, key=lambda x: (x[1], x[0]))\n",
    "            node_info = tuple(filter(lambda x: x[0] != remove_str, node_info))\n",
    "            if len(node_info) == 0:\n",
    "                return None, False\n",
    "            genotypes.append(node_info)\n",
    "        return genotypes, True\n",
    "\n",
    "    def node(self, index):\n",
    "        assert index > 0 and index <= len(self), \"invalid index={:} < {:}\".format(\n",
    "            index, len(self)\n",
    "        )\n",
    "        return self.nodes[index]\n",
    "\n",
    "    def tostr(self):\n",
    "        strings = []\n",
    "        for node_info in self.nodes:\n",
    "            string = \"|\".join([x[0] + \"~{:}\".format(x[1]) for x in node_info])\n",
    "            string = \"|{:}|\".format(string)\n",
    "            strings.append(string)\n",
    "        return \"+\".join(strings)\n",
    "\n",
    "    def check_valid(self):\n",
    "        nodes = {0: True}\n",
    "        for i, node_info in enumerate(self.nodes):\n",
    "            sums = []\n",
    "            for op, xin in node_info:\n",
    "                if op == \"none\" or nodes[xin] is False:\n",
    "                    x = False\n",
    "                else:\n",
    "                    x = True\n",
    "                sums.append(x)\n",
    "            nodes[i + 1] = sum(sums) > 0\n",
    "        return nodes[len(self.nodes)]\n",
    "\n",
    "    def to_unique_str(self, consider_zero=False):\n",
    "        # this is used to identify the isomorphic cell, which rerquires the prior knowledge of operation\n",
    "        # two operations are special, i.e., none and skip_connect\n",
    "        nodes = {0: \"0\"}\n",
    "        for i_node, node_info in enumerate(self.nodes):\n",
    "            cur_node = []\n",
    "            for op, xin in node_info:\n",
    "                if consider_zero is None:\n",
    "                    x = \"(\" + nodes[xin] + \")\" + \"@{:}\".format(op)\n",
    "                elif consider_zero:\n",
    "                    if op == \"none\" or nodes[xin] == \"#\":\n",
    "                        x = \"#\"  # zero\n",
    "                    elif op == \"skip_connect\":\n",
    "                        x = nodes[xin]\n",
    "                    else:\n",
    "                        x = \"(\" + nodes[xin] + \")\" + \"@{:}\".format(op)\n",
    "                else:\n",
    "                    if op == \"skip_connect\":\n",
    "                        x = nodes[xin]\n",
    "                    else:\n",
    "                        x = \"(\" + nodes[xin] + \")\" + \"@{:}\".format(op)\n",
    "                cur_node.append(x)\n",
    "            nodes[i_node + 1] = \"+\".join(sorted(cur_node))\n",
    "        return nodes[len(self.nodes)]\n",
    "\n",
    "    def check_valid_op(self, op_names):\n",
    "        for node_info in self.nodes:\n",
    "            for inode_edge in node_info:\n",
    "                # assert inode_edge[0] in op_names, 'invalid op-name : {:}'.format(inode_edge[0])\n",
    "                if inode_edge[0] not in op_names:\n",
    "                    return False\n",
    "        return True\n",
    "\n",
    "    def __repr__(self):\n",
    "        return \"{name}({node_num} nodes with {node_info})\".format(\n",
    "            name=self.__class__.__name__, node_info=self.tostr(), **self.__dict__\n",
    "        )\n",
    "\n",
    "    def __len__(self):\n",
    "        return len(self.nodes) + 1\n",
    "\n",
    "    def __getitem__(self, index):\n",
    "        return self.nodes[index]\n",
    "\n",
    "    @staticmethod\n",
    "    def str2structure(xstr):\n",
    "        if isinstance(xstr, TopologyStructure):\n",
    "            return xstr\n",
    "        assert isinstance(xstr, str), \"must take string (not {:}) as input\".format(\n",
    "            type(xstr)\n",
    "        )\n",
    "        nodestrs = xstr.split(\"+\")\n",
    "        genotypes = []\n",
    "        for i, node_str in enumerate(nodestrs):\n",
    "            inputs = list(filter(lambda x: x != \"\", node_str.split(\"|\")))\n",
    "            for xinput in inputs:\n",
    "                assert len(xinput.split(\"~\")) == 2, \"invalid input length : {:}\".format(\n",
    "                    xinput\n",
    "                )\n",
    "            inputs = (xi.split(\"~\") for xi in inputs)\n",
    "            input_infos = tuple((op, int(IDX)) for (op, IDX) in inputs)\n",
    "            genotypes.append(input_infos)\n",
    "        return TopologyStructure(genotypes)\n",
    "\n",
    "    @staticmethod\n",
    "    def str2fullstructure(xstr, default_name=\"none\"):\n",
    "        assert isinstance(xstr, str), \"must take string (not {:}) as input\".format(\n",
    "            type(xstr)\n",
    "        )\n",
    "        nodestrs = xstr.split(\"+\")\n",
    "        genotypes = []\n",
    "        for i, node_str in enumerate(nodestrs):\n",
    "            inputs = list(filter(lambda x: x != \"\", node_str.split(\"|\")))\n",
    "            for xinput in inputs:\n",
    "                assert len(xinput.split(\"~\")) == 2, \"invalid input length : {:}\".format(\n",
    "                    xinput\n",
    "                )\n",
    "            inputs = (xi.split(\"~\") for xi in inputs)\n",
    "            input_infos = list((op, int(IDX)) for (op, IDX) in inputs)\n",
    "            all_in_nodes = list(x[1] for x in input_infos)\n",
    "            for j in range(i):\n",
    "                if j not in all_in_nodes:\n",
    "                    input_infos.append((default_name, j))\n",
    "            node_info = sorted(input_infos, key=lambda x: (x[1], x[0]))\n",
    "            genotypes.append(tuple(node_info))\n",
    "        return TopologyStructure(genotypes)\n",
    "\n",
    "    @staticmethod\n",
    "    def gen_all(search_space, num, return_ori):\n",
    "        assert isinstance(search_space, list) or isinstance(\n",
    "            search_space, tuple\n",
    "        ), \"invalid class of search-space : {:}\".format(type(search_space))\n",
    "        assert (\n",
    "            num >= 2\n",
    "        ), \"There should be at least two nodes in a neural cell instead of {:}\".format(\n",
    "            num\n",
    "        )\n",
    "        all_archs = get_combination(search_space, 1)\n",
    "        for i, arch in enumerate(all_archs):\n",
    "            all_archs[i] = [tuple(arch)]\n",
    "\n",
    "        for inode in range(2, num):\n",
    "            cur_nodes = get_combination(search_space, inode)\n",
    "            new_all_archs = []\n",
    "            for previous_arch in all_archs:\n",
    "                for cur_node in cur_nodes:\n",
    "                    new_all_archs.append(previous_arch + [tuple(cur_node)])\n",
    "            all_archs = new_all_archs\n",
    "        if return_ori:\n",
    "            return all_archs\n",
    "        else:\n",
    "            return [TopologyStructure(x) for x in all_archs]"
   ],
   "metadata": {
    "collapsed": false,
    "ExecuteTime": {
     "end_time": "2023-10-25T14:19:39.998317Z",
     "start_time": "2023-10-25T14:19:39.292800700Z"
    }
   },
   "id": "e8d1b1efe950ec45"
  },
  {
   "cell_type": "code",
   "execution_count": 62,
   "outputs": [],
   "source": [
    "struct = topology_str2structure('|nor_conv_3x3~0|+|none~0|none~1|+|skip_connect~0|nor_conv_3x3~1|none~2|')"
   ],
   "metadata": {
    "collapsed": false,
    "ExecuteTime": {
     "end_time": "2023-10-25T09:48:51.410252700Z",
     "start_time": "2023-10-25T09:48:51.390575700Z"
    }
   },
   "id": "d4231361962a400a"
  },
  {
   "cell_type": "code",
   "execution_count": 64,
   "outputs": [
    {
     "data": {
      "text/plain": "'#+((0)@nor_conv_3x3)@nor_conv_3x3+0'"
     },
     "execution_count": 64,
     "metadata": {},
     "output_type": "execute_result"
    }
   ],
   "source": [
    "struct.to_unique_str(consider_zero=True)"
   ],
   "metadata": {
    "collapsed": false,
    "ExecuteTime": {
     "end_time": "2023-10-25T09:48:52.742970600Z",
     "start_time": "2023-10-25T09:48:52.727998800Z"
    }
   },
   "id": "ce79853c1d12e2a8"
  },
  {
   "cell_type": "code",
   "execution_count": 67,
   "outputs": [],
   "source": [
    "struct = topology_str2structure('|nor_conv_3x3~0|+|none~0|none~1|+|skip_connect~0|nor_conv_3x3~1|nor_conv_3x3~2|')"
   ],
   "metadata": {
    "collapsed": false,
    "ExecuteTime": {
     "end_time": "2023-10-25T09:49:26.282894900Z",
     "start_time": "2023-10-25T09:49:26.273882Z"
    }
   },
   "id": "f2d9935acedcf4d2"
  },
  {
   "cell_type": "code",
   "execution_count": 68,
   "outputs": [
    {
     "data": {
      "text/plain": "'(#+#)@nor_conv_3x3+((0)@nor_conv_3x3)@nor_conv_3x3+0'"
     },
     "execution_count": 68,
     "metadata": {},
     "output_type": "execute_result"
    }
   ],
   "source": [
    "struct.to_unique_str(consider_zero=True)"
   ],
   "metadata": {
    "collapsed": false,
    "ExecuteTime": {
     "end_time": "2023-10-25T09:49:26.711047200Z",
     "start_time": "2023-10-25T09:49:26.701671300Z"
    }
   },
   "id": "f050614c24101963"
  },
  {
   "cell_type": "code",
   "execution_count": 66,
   "outputs": [],
   "source": [
    "# (3, 1, 0, 1, 3, 1)"
   ],
   "metadata": {
    "collapsed": false,
    "ExecuteTime": {
     "end_time": "2023-10-25T09:49:17.130773700Z",
     "start_time": "2023-10-25T09:49:17.111843800Z"
    }
   },
   "id": "f512322fc1c2a18c"
  },
  {
   "cell_type": "code",
   "execution_count": 69,
   "outputs": [
    {
     "data": {
      "text/plain": "[(('nor_conv_3x3', 0),),\n (('none', 0), ('none', 1)),\n (('skip_connect', 0), ('nor_conv_3x3', 1), ('nor_conv_3x3', 2))]"
     },
     "execution_count": 69,
     "metadata": {},
     "output_type": "execute_result"
    }
   ],
   "source": [
    "struct.nodes"
   ],
   "metadata": {
    "collapsed": false,
    "ExecuteTime": {
     "end_time": "2023-10-25T09:49:37.621621200Z",
     "start_time": "2023-10-25T09:49:37.596514Z"
    }
   },
   "id": "6b9ab0cc979065b0"
  },
  {
   "cell_type": "code",
   "execution_count": null,
   "outputs": [],
   "source": [],
   "metadata": {
    "collapsed": false
   },
   "id": "d42783be01a21a11"
  }
 ],
 "metadata": {
  "kernelspec": {
   "display_name": ".env_kernel",
   "language": "python",
   "name": ".env_kernel"
  },
  "language_info": {
   "codemirror_mode": {
    "name": "ipython",
    "version": 3
   },
   "file_extension": ".py",
   "mimetype": "text/x-python",
   "name": "python",
   "nbconvert_exporter": "python",
   "pygments_lexer": "ipython3",
   "version": "3.8.10"
  }
 },
 "nbformat": 4,
 "nbformat_minor": 5
}
