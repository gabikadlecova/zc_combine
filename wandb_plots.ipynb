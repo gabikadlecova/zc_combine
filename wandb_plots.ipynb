{
 "cells": [
  {
   "cell_type": "code",
   "execution_count": 1,
   "id": "02034d4a",
   "metadata": {
    "ExecuteTime": {
     "end_time": "2023-10-23T10:09:24.729243800Z",
     "start_time": "2023-10-23T10:09:05.251831500Z"
    }
   },
   "outputs": [
    {
     "name": "stderr",
     "output_type": "stream",
     "text": [
      "\u001B[34m\u001B[1mwandb\u001B[0m: Currently logged in as: \u001B[33mgabi-kadlecova\u001B[0m. Use \u001B[1m`wandb login --relogin`\u001B[0m to force relogin\n"
     ]
    },
    {
     "data": {
      "text/plain": "True"
     },
     "execution_count": 1,
     "metadata": {},
     "output_type": "execute_result"
    }
   ],
   "source": [
    "import numpy as np\n",
    "import wandb\n",
    "wandb.login(key=input())"
   ]
  },
  {
   "cell_type": "code",
   "execution_count": 175,
   "outputs": [],
   "source": [
    "project = 'zc_nb201'\n",
    "\n",
    "api = wandb.Api(timeout=29)\n",
    "runs = api.runs('gabi-kadlecova' + \"/\" + project)"
   ],
   "metadata": {
    "collapsed": false,
    "ExecuteTime": {
     "end_time": "2023-10-23T13:49:39.326563100Z",
     "start_time": "2023-10-23T13:49:39.047809600Z"
    }
   },
   "id": "b4999a760e1c623e"
  },
  {
   "cell_type": "code",
   "execution_count": 176,
   "outputs": [],
   "source": [
    "res = []\n",
    "for run in runs:\n",
    "    # skip xgb for now\n",
    "    if run.config['model'] != 'rf':\n",
    "        continue\n",
    "        \n",
    "    if 'threshold' not in run.config['out_prefix']:\n",
    "        continue\n",
    "    \n",
    "    #print(run.summary['corr_mean'])\n",
    "    #print(run.config)\n",
    "    res.append((run.config['train_size'], run.config['data_seed'], run.summary['corr_mean'], len({k: v for k, v in run.summary.items() if 'featimp' in k and 'mean' in k})))\n",
    "    #print({k: v for k, v in run.summary.items() if 'featimp' in k})\n",
    "    \n",
    "    #if i > 10:\n",
    "    #    break\n",
    "    #i += 1\n",
    "    #break"
   ],
   "metadata": {
    "collapsed": false,
    "ExecuteTime": {
     "end_time": "2023-10-23T13:49:56.471733700Z",
     "start_time": "2023-10-23T13:49:39.345980500Z"
    }
   },
   "id": "d432b0e26db49b23"
  },
  {
   "cell_type": "code",
   "execution_count": 177,
   "outputs": [
    {
     "data": {
      "text/plain": "                                        cfg  data_seed  proxy  train_size  \\\n0     ../zc_combine/configs/nb201_full.json         46  jacov         614   \n1     ../zc_combine/configs/nb201_full.json         46   NONE         614   \n2     ../zc_combine/configs/nb201_full.json         46   NONE         614   \n3    ../zc_combine/configs/nb201_first.json         46  jacov         614   \n4    ../zc_combine/configs/nb201_first.json         46   NONE         614   \n..                                      ...        ...    ...         ...   \n505                                    NONE         42   NONE        1000   \n506                                    NONE         42   NONE         100   \n507                                    NONE         42   NONE         100   \n508                                    NONE         42   NONE          20   \n509                                    NONE         42   NONE          20   \n\n     use_all_proxies  use_features      corr       tau  \n0              False          True  0.961458  0.833836  \n1              False          True  0.938660  0.798849  \n2               True          True  0.958938  0.830036  \n3              False          True  0.951678  0.814647  \n4               True          True  0.955394  0.822723  \n..               ...           ...       ...       ...  \n505             True         False  0.940985  0.792016  \n506             True         False  0.901894  0.729372  \n507             True         False  0.914283  0.746074  \n508             True         False  0.873683  0.685865  \n509             True         False  0.881152  0.697695  \n\n[510 rows x 8 columns]",
      "text/html": "<div>\n<style scoped>\n    .dataframe tbody tr th:only-of-type {\n        vertical-align: middle;\n    }\n\n    .dataframe tbody tr th {\n        vertical-align: top;\n    }\n\n    .dataframe thead th {\n        text-align: right;\n    }\n</style>\n<table border=\"1\" class=\"dataframe\">\n  <thead>\n    <tr style=\"text-align: right;\">\n      <th></th>\n      <th>cfg</th>\n      <th>data_seed</th>\n      <th>proxy</th>\n      <th>train_size</th>\n      <th>use_all_proxies</th>\n      <th>use_features</th>\n      <th>corr</th>\n      <th>tau</th>\n    </tr>\n  </thead>\n  <tbody>\n    <tr>\n      <th>0</th>\n      <td>../zc_combine/configs/nb201_full.json</td>\n      <td>46</td>\n      <td>jacov</td>\n      <td>614</td>\n      <td>False</td>\n      <td>True</td>\n      <td>0.961458</td>\n      <td>0.833836</td>\n    </tr>\n    <tr>\n      <th>1</th>\n      <td>../zc_combine/configs/nb201_full.json</td>\n      <td>46</td>\n      <td>NONE</td>\n      <td>614</td>\n      <td>False</td>\n      <td>True</td>\n      <td>0.938660</td>\n      <td>0.798849</td>\n    </tr>\n    <tr>\n      <th>2</th>\n      <td>../zc_combine/configs/nb201_full.json</td>\n      <td>46</td>\n      <td>NONE</td>\n      <td>614</td>\n      <td>True</td>\n      <td>True</td>\n      <td>0.958938</td>\n      <td>0.830036</td>\n    </tr>\n    <tr>\n      <th>3</th>\n      <td>../zc_combine/configs/nb201_first.json</td>\n      <td>46</td>\n      <td>jacov</td>\n      <td>614</td>\n      <td>False</td>\n      <td>True</td>\n      <td>0.951678</td>\n      <td>0.814647</td>\n    </tr>\n    <tr>\n      <th>4</th>\n      <td>../zc_combine/configs/nb201_first.json</td>\n      <td>46</td>\n      <td>NONE</td>\n      <td>614</td>\n      <td>True</td>\n      <td>True</td>\n      <td>0.955394</td>\n      <td>0.822723</td>\n    </tr>\n    <tr>\n      <th>...</th>\n      <td>...</td>\n      <td>...</td>\n      <td>...</td>\n      <td>...</td>\n      <td>...</td>\n      <td>...</td>\n      <td>...</td>\n      <td>...</td>\n    </tr>\n    <tr>\n      <th>505</th>\n      <td>NONE</td>\n      <td>42</td>\n      <td>NONE</td>\n      <td>1000</td>\n      <td>True</td>\n      <td>False</td>\n      <td>0.940985</td>\n      <td>0.792016</td>\n    </tr>\n    <tr>\n      <th>506</th>\n      <td>NONE</td>\n      <td>42</td>\n      <td>NONE</td>\n      <td>100</td>\n      <td>True</td>\n      <td>False</td>\n      <td>0.901894</td>\n      <td>0.729372</td>\n    </tr>\n    <tr>\n      <th>507</th>\n      <td>NONE</td>\n      <td>42</td>\n      <td>NONE</td>\n      <td>100</td>\n      <td>True</td>\n      <td>False</td>\n      <td>0.914283</td>\n      <td>0.746074</td>\n    </tr>\n    <tr>\n      <th>508</th>\n      <td>NONE</td>\n      <td>42</td>\n      <td>NONE</td>\n      <td>20</td>\n      <td>True</td>\n      <td>False</td>\n      <td>0.873683</td>\n      <td>0.685865</td>\n    </tr>\n    <tr>\n      <th>509</th>\n      <td>NONE</td>\n      <td>42</td>\n      <td>NONE</td>\n      <td>20</td>\n      <td>True</td>\n      <td>False</td>\n      <td>0.881152</td>\n      <td>0.697695</td>\n    </tr>\n  </tbody>\n</table>\n<p>510 rows × 8 columns</p>\n</div>"
     },
     "execution_count": 177,
     "metadata": {},
     "output_type": "execute_result"
    }
   ],
   "source": [
    "import pandas as pd\n",
    "\n",
    "def create_entry(run, is_pca=False):\n",
    "    # TODO uncertainty\n",
    "    row = {}\n",
    "    cfg_args = ['cfg', 'data_seed', 'proxy', 'train_size', 'use_all_proxies', 'use_features']\n",
    "    for ca in cfg_args:\n",
    "        row[ca] = run.config[ca]\n",
    "        \n",
    "    if is_pca:\n",
    "        prefix = run.config['out_prefix']\n",
    "        prefix = prefix.replace('n_features-', 'nfeatures_')\n",
    "        prefix = prefix.replace('theshold-', 'theshold_')\n",
    "\n",
    "        prefix = prefix.split('-')\n",
    "        for p in prefix:\n",
    "            if not len(p):\n",
    "                continue  \n",
    "            p = p.split('_')\n",
    "            if len(p) == 1:\n",
    "                continue\n",
    "            \n",
    "            row[p[0]] = p[1]\n",
    "\n",
    "    prox, cfg = row['proxy'], row['cfg']\n",
    "    row['proxy'] = 'NONE' if prox is None or not len(prox) else prox\n",
    "    row['cfg'] = 'NONE' if cfg is None or not len(cfg) else cfg\n",
    "    row['corr'] = run.summary['corr_mean']\n",
    "    row['tau'] = run.summary['tau_mean']\n",
    "    return row\n",
    "\n",
    "df = [create_entry(r, is_pca='pca' in project) for r in runs]\n",
    "df = pd.DataFrame(df)\n",
    "df"
   ],
   "metadata": {
    "collapsed": false,
    "ExecuteTime": {
     "end_time": "2023-10-23T13:49:56.546052300Z",
     "start_time": "2023-10-23T13:49:56.509741200Z"
    }
   },
   "id": "a1bfd753efaff60"
  },
  {
   "cell_type": "code",
   "execution_count": 178,
   "outputs": [
    {
     "data": {
      "text/plain": "0      jacov, N, F\n1       NONE, N, F\n2       NONE, A, F\n3      jacov, N, F\n4       NONE, A, F\n          ...     \n505     NONE, A, P\n506     NONE, A, P\n507     NONE, A, P\n508     NONE, A, P\n509     NONE, A, P\nName: plot_col, Length: 510, dtype: object"
     },
     "execution_count": 178,
     "metadata": {},
     "output_type": "execute_result"
    }
   ],
   "source": [
    "import numpy as np\n",
    "\n",
    "plot_df = df.copy()\n",
    "plot_df['use_all_proxies'] = df['use_all_proxies'].map(lambda x: 'A' if x else 'N')\n",
    "if 'pca' in project:\n",
    "    plot_df['threshold'] = df['threshold'].map(lambda x: 'N' if pd.isna(x) else str(x))\n",
    "    plot_df['nfeatures'] = df['nfeatures'].map(lambda x: 'N' if pd.isna(x) else str(x))\n",
    "    plot_df['plot_col'] = plot_df[['proxy', 'use_all_proxies', 'threshold', 'nfeatures']].agg(', '.join, axis=1)\n",
    "else:\n",
    "    plot_df['use_features'] = df['use_features'].map(lambda x: 'F' if x else 'P')\n",
    "    plot_df['plot_col'] = plot_df[['proxy', 'use_all_proxies', 'use_features']].agg(', '.join, axis=1)\n",
    "\n",
    "plot_df['plot_col']"
   ],
   "metadata": {
    "collapsed": false,
    "ExecuteTime": {
     "end_time": "2023-10-23T13:49:56.650611600Z",
     "start_time": "2023-10-23T13:49:56.549046600Z"
    }
   },
   "id": "a98314adf22ec29"
  },
  {
   "cell_type": "code",
   "execution_count": 182,
   "outputs": [
    {
     "data": {
      "text/plain": "<Figure size 720x864 with 1 Axes>",
      "image/png": "[encoded data removed]"
     },
     "metadata": {},
     "output_type": "display_data"
    }
   ],
   "source": [
    "import seaborn as sns\n",
    "import matplotlib.pyplot as plt\n",
    "sns.set()\n",
    "\n",
    "tsize = 1000\n",
    "plt.figure(figsize=(10, 12))\n",
    "sns.boxplot(data=plot_df[(plot_df['train_size'] == tsize) & ~(plot_df['cfg'].str.contains('first'))], y='plot_col', x='tau')\n",
    "plt.title(f\"{project} sample size {tsize}, accuracy cifar10\")\n",
    "if 'pca' not in project:\n",
    "    plt.savefig(f'figs/{project}_boxes_{tsize}.png')\n",
    "#plt.ylim(0.70, 0.78)\n",
    "plt.show()"
   ],
   "metadata": {
    "collapsed": false,
    "ExecuteTime": {
     "end_time": "2023-10-23T13:52:26.705254Z",
     "start_time": "2023-10-23T13:52:26.424588500Z"
    }
   },
   "id": "fb6f14b0794b76c9"
  },
  {
   "cell_type": "code",
   "execution_count": 180,
   "outputs": [
    {
     "ename": "ValueError",
     "evalue": "Could not interpret input ''",
     "output_type": "error",
     "traceback": [
      "\u001B[0;31m---------------------------------------------------------------------------\u001B[0m",
      "\u001B[0;31mValueError\u001B[0m                                Traceback (most recent call last)",
      "\u001B[0;32m/tmp/ipykernel_1106/2523077330.py\u001B[0m in \u001B[0;36m<module>\u001B[0;34m\u001B[0m\n\u001B[0;32m----> 1\u001B[0;31m \u001B[0msns\u001B[0m\u001B[0;34m.\u001B[0m\u001B[0mboxplot\u001B[0m\u001B[0;34m(\u001B[0m\u001B[0mdata\u001B[0m\u001B[0;34m=\u001B[0m\u001B[0mdf\u001B[0m\u001B[0;34m,\u001B[0m \u001B[0mx\u001B[0m\u001B[0;34m=\u001B[0m\u001B[0;34m'corr'\u001B[0m\u001B[0;34m,\u001B[0m \u001B[0my\u001B[0m\u001B[0;34m=\u001B[0m\u001B[0;34m''\u001B[0m\u001B[0;34m)\u001B[0m\u001B[0;34m\u001B[0m\u001B[0;34m\u001B[0m\u001B[0m\n\u001B[0m",
      "\u001B[0;32m~/.env/lib/python3.8/site-packages/seaborn/_decorators.py\u001B[0m in \u001B[0;36minner_f\u001B[0;34m(*args, **kwargs)\u001B[0m\n\u001B[1;32m     44\u001B[0m             )\n\u001B[1;32m     45\u001B[0m         \u001B[0mkwargs\u001B[0m\u001B[0;34m.\u001B[0m\u001B[0mupdate\u001B[0m\u001B[0;34m(\u001B[0m\u001B[0;34m{\u001B[0m\u001B[0mk\u001B[0m\u001B[0;34m:\u001B[0m \u001B[0marg\u001B[0m \u001B[0;32mfor\u001B[0m \u001B[0mk\u001B[0m\u001B[0;34m,\u001B[0m \u001B[0marg\u001B[0m \u001B[0;32min\u001B[0m \u001B[0mzip\u001B[0m\u001B[0;34m(\u001B[0m\u001B[0msig\u001B[0m\u001B[0;34m.\u001B[0m\u001B[0mparameters\u001B[0m\u001B[0;34m,\u001B[0m \u001B[0margs\u001B[0m\u001B[0;34m)\u001B[0m\u001B[0;34m}\u001B[0m\u001B[0;34m)\u001B[0m\u001B[0;34m\u001B[0m\u001B[0;34m\u001B[0m\u001B[0m\n\u001B[0;32m---> 46\u001B[0;31m         \u001B[0;32mreturn\u001B[0m \u001B[0mf\u001B[0m\u001B[0;34m(\u001B[0m\u001B[0;34m**\u001B[0m\u001B[0mkwargs\u001B[0m\u001B[0;34m)\u001B[0m\u001B[0;34m\u001B[0m\u001B[0;34m\u001B[0m\u001B[0m\n\u001B[0m\u001B[1;32m     47\u001B[0m     \u001B[0;32mreturn\u001B[0m \u001B[0minner_f\u001B[0m\u001B[0;34m\u001B[0m\u001B[0;34m\u001B[0m\u001B[0m\n\u001B[1;32m     48\u001B[0m \u001B[0;34m\u001B[0m\u001B[0m\n",
      "\u001B[0;32m~/.env/lib/python3.8/site-packages/seaborn/categorical.py\u001B[0m in \u001B[0;36mboxplot\u001B[0;34m(x, y, hue, data, order, hue_order, orient, color, palette, saturation, width, dodge, fliersize, linewidth, whis, ax, **kwargs)\u001B[0m\n\u001B[1;32m   2241\u001B[0m ):\n\u001B[1;32m   2242\u001B[0m \u001B[0;34m\u001B[0m\u001B[0m\n\u001B[0;32m-> 2243\u001B[0;31m     plotter = _BoxPlotter(x, y, hue, data, order, hue_order,\n\u001B[0m\u001B[1;32m   2244\u001B[0m                           \u001B[0morient\u001B[0m\u001B[0;34m,\u001B[0m \u001B[0mcolor\u001B[0m\u001B[0;34m,\u001B[0m \u001B[0mpalette\u001B[0m\u001B[0;34m,\u001B[0m \u001B[0msaturation\u001B[0m\u001B[0;34m,\u001B[0m\u001B[0;34m\u001B[0m\u001B[0;34m\u001B[0m\u001B[0m\n\u001B[1;32m   2245\u001B[0m                           width, dodge, fliersize, linewidth)\n",
      "\u001B[0;32m~/.env/lib/python3.8/site-packages/seaborn/categorical.py\u001B[0m in \u001B[0;36m__init__\u001B[0;34m(self, x, y, hue, data, order, hue_order, orient, color, palette, saturation, width, dodge, fliersize, linewidth)\u001B[0m\n\u001B[1;32m    404\u001B[0m                  width, dodge, fliersize, linewidth):\n\u001B[1;32m    405\u001B[0m \u001B[0;34m\u001B[0m\u001B[0m\n\u001B[0;32m--> 406\u001B[0;31m         \u001B[0mself\u001B[0m\u001B[0;34m.\u001B[0m\u001B[0mestablish_variables\u001B[0m\u001B[0;34m(\u001B[0m\u001B[0mx\u001B[0m\u001B[0;34m,\u001B[0m \u001B[0my\u001B[0m\u001B[0;34m,\u001B[0m \u001B[0mhue\u001B[0m\u001B[0;34m,\u001B[0m \u001B[0mdata\u001B[0m\u001B[0;34m,\u001B[0m \u001B[0morient\u001B[0m\u001B[0;34m,\u001B[0m \u001B[0morder\u001B[0m\u001B[0;34m,\u001B[0m \u001B[0mhue_order\u001B[0m\u001B[0;34m)\u001B[0m\u001B[0;34m\u001B[0m\u001B[0;34m\u001B[0m\u001B[0m\n\u001B[0m\u001B[1;32m    407\u001B[0m         \u001B[0mself\u001B[0m\u001B[0;34m.\u001B[0m\u001B[0mestablish_colors\u001B[0m\u001B[0;34m(\u001B[0m\u001B[0mcolor\u001B[0m\u001B[0;34m,\u001B[0m \u001B[0mpalette\u001B[0m\u001B[0;34m,\u001B[0m \u001B[0msaturation\u001B[0m\u001B[0;34m)\u001B[0m\u001B[0;34m\u001B[0m\u001B[0;34m\u001B[0m\u001B[0m\n\u001B[1;32m    408\u001B[0m \u001B[0;34m\u001B[0m\u001B[0m\n",
      "\u001B[0;32m~/.env/lib/python3.8/site-packages/seaborn/categorical.py\u001B[0m in \u001B[0;36mestablish_variables\u001B[0;34m(self, x, y, hue, data, orient, order, hue_order, units)\u001B[0m\n\u001B[1;32m    151\u001B[0m                 \u001B[0;32mif\u001B[0m \u001B[0misinstance\u001B[0m\u001B[0;34m(\u001B[0m\u001B[0mvar\u001B[0m\u001B[0;34m,\u001B[0m \u001B[0mstr\u001B[0m\u001B[0;34m)\u001B[0m\u001B[0;34m:\u001B[0m\u001B[0;34m\u001B[0m\u001B[0;34m\u001B[0m\u001B[0m\n\u001B[1;32m    152\u001B[0m                     \u001B[0merr\u001B[0m \u001B[0;34m=\u001B[0m \u001B[0;34m\"Could not interpret input '{}'\"\u001B[0m\u001B[0;34m.\u001B[0m\u001B[0mformat\u001B[0m\u001B[0;34m(\u001B[0m\u001B[0mvar\u001B[0m\u001B[0;34m)\u001B[0m\u001B[0;34m\u001B[0m\u001B[0;34m\u001B[0m\u001B[0m\n\u001B[0;32m--> 153\u001B[0;31m                     \u001B[0;32mraise\u001B[0m \u001B[0mValueError\u001B[0m\u001B[0;34m(\u001B[0m\u001B[0merr\u001B[0m\u001B[0;34m)\u001B[0m\u001B[0;34m\u001B[0m\u001B[0;34m\u001B[0m\u001B[0m\n\u001B[0m\u001B[1;32m    154\u001B[0m \u001B[0;34m\u001B[0m\u001B[0m\n\u001B[1;32m    155\u001B[0m             \u001B[0;31m# Figure out the plotting orientation\u001B[0m\u001B[0;34m\u001B[0m\u001B[0;34m\u001B[0m\u001B[0;34m\u001B[0m\u001B[0m\n",
      "\u001B[0;31mValueError\u001B[0m: Could not interpret input ''"
     ]
    }
   ],
   "source": [
    "sns.boxplot(data=df, x='corr', y='')"
   ],
   "metadata": {
    "collapsed": false,
    "ExecuteTime": {
     "end_time": "2023-10-23T13:49:57.517130800Z",
     "start_time": "2023-10-23T13:49:57.288812400Z"
    }
   },
   "id": "da9c4601a75b08fd"
  },
  {
   "cell_type": "code",
   "execution_count": null,
   "outputs": [],
   "source": [
    "what_cfg = 'full'\n",
    "group_cols = ['train_size', 'use_all_proxies', 'use_features', 'proxy']\n",
    "\n",
    "small_df = df[(df['cfg'].str.contains('NONE')) | (df['cfg'].str.contains(what_cfg))].drop(columns='cfg')\n",
    "small_df.groupby(group_cols).mean()"
   ],
   "metadata": {
    "collapsed": false,
    "ExecuteTime": {
     "start_time": "2023-10-23T13:49:57.326324800Z"
    }
   },
   "id": "e9c94b3d614fa9c4"
  },
  {
   "cell_type": "code",
   "execution_count": 6,
   "outputs": [],
   "source": [
    "#####################################################\n",
    "from copy import deepcopy\n",
    "\n",
    "\n",
    "def topology_str2structure(xstr):\n",
    "    return TopologyStructure.str2structure(xstr)\n",
    "\n",
    "\n",
    "class TopologyStructure:\n",
    "    \"\"\"A class to describe the topology, especially that used in NATS-Bench.\"\"\"\n",
    "\n",
    "    def __init__(self, genotype):\n",
    "        assert isinstance(genotype, list) or isinstance(\n",
    "            genotype, tuple\n",
    "        ), \"invalid class of genotype : {:}\".format(type(genotype))\n",
    "        self.node_num = len(genotype) + 1\n",
    "        self.nodes = []\n",
    "        self.node_N = []\n",
    "        for idx, node_info in enumerate(genotype):\n",
    "            assert isinstance(node_info, list) or isinstance(\n",
    "                node_info, tuple\n",
    "            ), \"invalid class of node_info : {:}\".format(type(node_info))\n",
    "            assert len(node_info) >= 1, \"invalid length : {:}\".format(len(node_info))\n",
    "            for node_in in node_info:\n",
    "                assert isinstance(node_in, list) or isinstance(\n",
    "                    node_in, tuple\n",
    "                ), \"invalid class of in-node : {:}\".format(type(node_in))\n",
    "                assert (\n",
    "                    len(node_in) == 2 and node_in[1] <= idx\n",
    "                ), \"invalid in-node : {:}\".format(node_in)\n",
    "            self.node_N.append(len(node_info))\n",
    "            self.nodes.append(tuple(deepcopy(node_info)))\n",
    "\n",
    "    def tolist(self, remove_str):\n",
    "        # convert this class to the list, if remove_str is 'none', then remove the 'none' operation.\n",
    "        # note that we re-order the input node in this function\n",
    "        # return the-genotype-list and success [if unsuccess, it is not a connectivity]\n",
    "        genotypes = []\n",
    "        for node_info in self.nodes:\n",
    "            node_info = list(node_info)\n",
    "            node_info = sorted(node_info, key=lambda x: (x[1], x[0]))\n",
    "            node_info = tuple(filter(lambda x: x[0] != remove_str, node_info))\n",
    "            if len(node_info) == 0:\n",
    "                return None, False\n",
    "            genotypes.append(node_info)\n",
    "        return genotypes, True\n",
    "\n",
    "    def node(self, index):\n",
    "        assert index > 0 and index <= len(self), \"invalid index={:} < {:}\".format(\n",
    "            index, len(self)\n",
    "        )\n",
    "        return self.nodes[index]\n",
    "\n",
    "    def tostr(self):\n",
    "        strings = []\n",
    "        for node_info in self.nodes:\n",
    "            string = \"|\".join([x[0] + \"~{:}\".format(x[1]) for x in node_info])\n",
    "            string = \"|{:}|\".format(string)\n",
    "            strings.append(string)\n",
    "        return \"+\".join(strings)\n",
    "\n",
    "    def check_valid(self):\n",
    "        nodes = {0: True}\n",
    "        for i, node_info in enumerate(self.nodes):\n",
    "            sums = []\n",
    "            for op, xin in node_info:\n",
    "                if op == \"none\" or nodes[xin] is False:\n",
    "                    x = False\n",
    "                else:\n",
    "                    x = True\n",
    "                sums.append(x)\n",
    "            nodes[i + 1] = sum(sums) > 0\n",
    "        return nodes[len(self.nodes)]\n",
    "\n",
    "    def to_unique_str(self, consider_zero=False):\n",
    "        # this is used to identify the isomorphic cell, which rerquires the prior knowledge of operation\n",
    "        # two operations are special, i.e., none and skip_connect\n",
    "        nodes = {0: \"0\"}\n",
    "        for i_node, node_info in enumerate(self.nodes):\n",
    "            cur_node = []\n",
    "            for op, xin in node_info:\n",
    "                if consider_zero is None:\n",
    "                    x = \"(\" + nodes[xin] + \")\" + \"@{:}\".format(op)\n",
    "                elif consider_zero:\n",
    "                    if op == \"none\" or nodes[xin] == \"#\":\n",
    "                        x = \"#\"  # zero\n",
    "                    elif op == \"skip_connect\":\n",
    "                        x = nodes[xin]\n",
    "                    else:\n",
    "                        x = \"(\" + nodes[xin] + \")\" + \"@{:}\".format(op)\n",
    "                else:\n",
    "                    if op == \"skip_connect\":\n",
    "                        x = nodes[xin]\n",
    "                    else:\n",
    "                        x = \"(\" + nodes[xin] + \")\" + \"@{:}\".format(op)\n",
    "                cur_node.append(x)\n",
    "            nodes[i_node + 1] = \"+\".join(sorted(cur_node))\n",
    "        return nodes[len(self.nodes)]\n",
    "\n",
    "    def check_valid_op(self, op_names):\n",
    "        for node_info in self.nodes:\n",
    "            for inode_edge in node_info:\n",
    "                # assert inode_edge[0] in op_names, 'invalid op-name : {:}'.format(inode_edge[0])\n",
    "                if inode_edge[0] not in op_names:\n",
    "                    return False\n",
    "        return True\n",
    "\n",
    "    def __repr__(self):\n",
    "        return \"{name}({node_num} nodes with {node_info})\".format(\n",
    "            name=self.__class__.__name__, node_info=self.tostr(), **self.__dict__\n",
    "        )\n",
    "\n",
    "    def __len__(self):\n",
    "        return len(self.nodes) + 1\n",
    "\n",
    "    def __getitem__(self, index):\n",
    "        return self.nodes[index]\n",
    "\n",
    "    @staticmethod\n",
    "    def str2structure(xstr):\n",
    "        if isinstance(xstr, TopologyStructure):\n",
    "            return xstr\n",
    "        assert isinstance(xstr, str), \"must take string (not {:}) as input\".format(\n",
    "            type(xstr)\n",
    "        )\n",
    "        nodestrs = xstr.split(\"+\")\n",
    "        genotypes = []\n",
    "        for i, node_str in enumerate(nodestrs):\n",
    "            inputs = list(filter(lambda x: x != \"\", node_str.split(\"|\")))\n",
    "            for xinput in inputs:\n",
    "                assert len(xinput.split(\"~\")) == 2, \"invalid input length : {:}\".format(\n",
    "                    xinput\n",
    "                )\n",
    "            inputs = (xi.split(\"~\") for xi in inputs)\n",
    "            input_infos = tuple((op, int(IDX)) for (op, IDX) in inputs)\n",
    "            genotypes.append(input_infos)\n",
    "        return TopologyStructure(genotypes)\n",
    "\n",
    "    @staticmethod\n",
    "    def str2fullstructure(xstr, default_name=\"none\"):\n",
    "        assert isinstance(xstr, str), \"must take string (not {:}) as input\".format(\n",
    "            type(xstr)\n",
    "        )\n",
    "        nodestrs = xstr.split(\"+\")\n",
    "        genotypes = []\n",
    "        for i, node_str in enumerate(nodestrs):\n",
    "            inputs = list(filter(lambda x: x != \"\", node_str.split(\"|\")))\n",
    "            for xinput in inputs:\n",
    "                assert len(xinput.split(\"~\")) == 2, \"invalid input length : {:}\".format(\n",
    "                    xinput\n",
    "                )\n",
    "            inputs = (xi.split(\"~\") for xi in inputs)\n",
    "            input_infos = list((op, int(IDX)) for (op, IDX) in inputs)\n",
    "            all_in_nodes = list(x[1] for x in input_infos)\n",
    "            for j in range(i):\n",
    "                if j not in all_in_nodes:\n",
    "                    input_infos.append((default_name, j))\n",
    "            node_info = sorted(input_infos, key=lambda x: (x[1], x[0]))\n",
    "            genotypes.append(tuple(node_info))\n",
    "        return TopologyStructure(genotypes)\n",
    "\n",
    "    @staticmethod\n",
    "    def gen_all(search_space, num, return_ori):\n",
    "        assert isinstance(search_space, list) or isinstance(\n",
    "            search_space, tuple\n",
    "        ), \"invalid class of search-space : {:}\".format(type(search_space))\n",
    "        assert (\n",
    "            num >= 2\n",
    "        ), \"There should be at least two nodes in a neural cell instead of {:}\".format(\n",
    "            num\n",
    "        )\n",
    "        all_archs = get_combination(search_space, 1)\n",
    "        for i, arch in enumerate(all_archs):\n",
    "            all_archs[i] = [tuple(arch)]\n",
    "\n",
    "        for inode in range(2, num):\n",
    "            cur_nodes = get_combination(search_space, inode)\n",
    "            new_all_archs = []\n",
    "            for previous_arch in all_archs:\n",
    "                for cur_node in cur_nodes:\n",
    "                    new_all_archs.append(previous_arch + [tuple(cur_node)])\n",
    "            all_archs = new_all_archs\n",
    "        if return_ori:\n",
    "            return all_archs\n",
    "        else:\n",
    "            return [TopologyStructure(x) for x in all_archs]"
   ],
   "metadata": {
    "collapsed": false,
    "ExecuteTime": {
     "end_time": "2023-10-23T10:45:29.881455400Z",
     "start_time": "2023-10-23T10:45:29.665122500Z"
    }
   },
   "id": "e8d1b1efe950ec45"
  },
  {
   "cell_type": "code",
   "execution_count": 9,
   "outputs": [],
   "source": [
    "struct = topology_str2structure('|nor_conv_3x3~0|+|nor_conv_3x3~0|avg_pool_3x3~1|+|skip_connect~0|nor_conv_3x3~1|skip_connect~2|')"
   ],
   "metadata": {
    "collapsed": false,
    "ExecuteTime": {
     "end_time": "2023-10-23T10:47:08.413667700Z",
     "start_time": "2023-10-23T10:47:08.395704200Z"
    }
   },
   "id": "d4231361962a400a"
  },
  {
   "cell_type": "code",
   "execution_count": 10,
   "outputs": [
    {
     "data": {
      "text/plain": "[(('nor_conv_3x3', 0),),\n (('nor_conv_3x3', 0), ('avg_pool_3x3', 1)),\n (('skip_connect', 0), ('nor_conv_3x3', 1), ('skip_connect', 2))]"
     },
     "execution_count": 10,
     "metadata": {},
     "output_type": "execute_result"
    }
   ],
   "source": [
    "struct.nodes"
   ],
   "metadata": {
    "collapsed": false,
    "ExecuteTime": {
     "end_time": "2023-10-23T10:47:20.866997200Z",
     "start_time": "2023-10-23T10:47:20.851991500Z"
    }
   },
   "id": "c2ccc90827f51096"
  },
  {
   "cell_type": "code",
   "execution_count": null,
   "outputs": [],
   "source": [],
   "metadata": {
    "collapsed": false
   },
   "id": "ce79853c1d12e2a8"
  }
 ],
 "metadata": {
  "kernelspec": {
   "display_name": ".env_kernel",
   "language": "python",
   "name": ".env_kernel"
  },
  "language_info": {
   "codemirror_mode": {
    "name": "ipython",
    "version": 3
   },
   "file_extension": ".py",
   "mimetype": "text/x-python",
   "name": "python",
   "nbconvert_exporter": "python",
   "pygments_lexer": "ipython3",
   "version": "3.8.10"
  }
 },
 "nbformat": 4,
 "nbformat_minor": 5
}
