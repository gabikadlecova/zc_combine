{
 "cells": [
  {
   "cell_type": "markdown",
   "source": [
    "## TODOs\n",
    "- make script out of this (but first make it pretty)\n",
    "- plot design\n",
    "    - better ordering of rows\n",
    "    - better simple features name\n",
    "    - title"
   ],
   "metadata": {
    "collapsed": false
   },
   "id": "3bf3084121d560a9"
  },
  {
   "cell_type": "code",
   "execution_count": 23,
   "outputs": [
    {
     "data": {
      "text/plain": "                                     cfg   dataset  data_seed  proxy  \\\n0  ../zc_combine/configs/nb201_full.json  cifar100       42.0    NaN   \n1  ../zc_combine/configs/nb201_full.json  cifar100       43.0    NaN   \n2  ../zc_combine/configs/nb201_full.json  cifar100       44.0    NaN   \n3  ../zc_combine/configs/nb201_full.json  cifar100       45.0    NaN   \n4  ../zc_combine/configs/nb201_full.json  cifar100       46.0    NaN   \n\n   train_size  use_all_proxies  use_features use_flops_params  use_onehot  \\\n0        1024             True         False              NaN       False   \n1        1024             True         False              NaN       False   \n2        1024             True         False              NaN       False   \n3        1024             True         False              NaN       False   \n4        1024             True         False              NaN       False   \n\n  use_path_encoding       tau      corr  fit_time  test_time  \n0              True  0.816692  0.953265  1.536391   0.125250  \n1              True  0.815188  0.952262  1.464424   0.125006  \n2              True  0.818214  0.953807  1.364597   0.182353  \n3              True  0.812614  0.950318  1.388543   0.145688  \n4              True  0.819397  0.954137  1.375816   0.111208  ",
      "text/html": "<div>\n<style scoped>\n    .dataframe tbody tr th:only-of-type {\n        vertical-align: middle;\n    }\n\n    .dataframe tbody tr th {\n        vertical-align: top;\n    }\n\n    .dataframe thead th {\n        text-align: right;\n    }\n</style>\n<table border=\"1\" class=\"dataframe\">\n  <thead>\n    <tr style=\"text-align: right;\">\n      <th></th>\n      <th>cfg</th>\n      <th>dataset</th>\n      <th>data_seed</th>\n      <th>proxy</th>\n      <th>train_size</th>\n      <th>use_all_proxies</th>\n      <th>use_features</th>\n      <th>use_flops_params</th>\n      <th>use_onehot</th>\n      <th>use_path_encoding</th>\n      <th>tau</th>\n      <th>corr</th>\n      <th>fit_time</th>\n      <th>test_time</th>\n    </tr>\n  </thead>\n  <tbody>\n    <tr>\n      <th>0</th>\n      <td>../zc_combine/configs/nb201_full.json</td>\n      <td>cifar100</td>\n      <td>42.0</td>\n      <td>NaN</td>\n      <td>1024</td>\n      <td>True</td>\n      <td>False</td>\n      <td>NaN</td>\n      <td>False</td>\n      <td>True</td>\n      <td>0.816692</td>\n      <td>0.953265</td>\n      <td>1.536391</td>\n      <td>0.125250</td>\n    </tr>\n    <tr>\n      <th>1</th>\n      <td>../zc_combine/configs/nb201_full.json</td>\n      <td>cifar100</td>\n      <td>43.0</td>\n      <td>NaN</td>\n      <td>1024</td>\n      <td>True</td>\n      <td>False</td>\n      <td>NaN</td>\n      <td>False</td>\n      <td>True</td>\n      <td>0.815188</td>\n      <td>0.952262</td>\n      <td>1.464424</td>\n      <td>0.125006</td>\n    </tr>\n    <tr>\n      <th>2</th>\n      <td>../zc_combine/configs/nb201_full.json</td>\n      <td>cifar100</td>\n      <td>44.0</td>\n      <td>NaN</td>\n      <td>1024</td>\n      <td>True</td>\n      <td>False</td>\n      <td>NaN</td>\n      <td>False</td>\n      <td>True</td>\n      <td>0.818214</td>\n      <td>0.953807</td>\n      <td>1.364597</td>\n      <td>0.182353</td>\n    </tr>\n    <tr>\n      <th>3</th>\n      <td>../zc_combine/configs/nb201_full.json</td>\n      <td>cifar100</td>\n      <td>45.0</td>\n      <td>NaN</td>\n      <td>1024</td>\n      <td>True</td>\n      <td>False</td>\n      <td>NaN</td>\n      <td>False</td>\n      <td>True</td>\n      <td>0.812614</td>\n      <td>0.950318</td>\n      <td>1.388543</td>\n      <td>0.145688</td>\n    </tr>\n    <tr>\n      <th>4</th>\n      <td>../zc_combine/configs/nb201_full.json</td>\n      <td>cifar100</td>\n      <td>46.0</td>\n      <td>NaN</td>\n      <td>1024</td>\n      <td>True</td>\n      <td>False</td>\n      <td>NaN</td>\n      <td>False</td>\n      <td>True</td>\n      <td>0.819397</td>\n      <td>0.954137</td>\n      <td>1.375816</td>\n      <td>0.111208</td>\n    </tr>\n  </tbody>\n</table>\n</div>"
     },
     "execution_count": 23,
     "metadata": {},
     "output_type": "execute_result"
    }
   ],
   "source": [
    "import pandas as pd\n",
    "\n",
    "bench = 'nb201'\n",
    "df = pd.read_csv(f'./results/data/{bench}_all.csv', index_col=0)\n",
    "df.head()"
   ],
   "metadata": {
    "collapsed": true,
    "ExecuteTime": {
     "end_time": "2024-01-05T15:15:15.486267400Z",
     "start_time": "2024-01-05T15:15:14.751553200Z"
    }
   },
   "id": "initial_id"
  },
  {
   "cell_type": "code",
   "execution_count": 25,
   "outputs": [],
   "source": [
    "df['use_flops_params'].fillna(False, inplace=True)\n",
    "df['use_path_encoding'].fillna(False, inplace=True)"
   ],
   "metadata": {
    "collapsed": false,
    "ExecuteTime": {
     "end_time": "2024-01-05T15:15:46.143971900Z",
     "start_time": "2024-01-05T15:15:46.123841400Z"
    }
   },
   "id": "2d4b3d457aa37555"
  },
  {
   "cell_type": "code",
   "execution_count": 26,
   "outputs": [],
   "source": [
    "def get_name(row):\n",
    "    strset = [\n",
    "        \"ZCP\" if row['use_all_proxies'] else None,\n",
    "        \"features\" if row['use_features'] else None,\n",
    "        \"FP\" if row['use_flops_params'] and not row['use_all_proxies'] else None,\n",
    "        \"onehot\" if row['use_onehot'] else None,\n",
    "        \"path\" if row['use_path_encoding'] else None\n",
    "    ]\n",
    "    \n",
    "    if 'features' in row and row['features'] is not None:\n",
    "        strset.pop(1)\n",
    "        strset.append(row['features'].replace(',', ', '))\n",
    "    \n",
    "    return ' + '.join([s for s in strset if s is not None])"
   ],
   "metadata": {
    "collapsed": false,
    "ExecuteTime": {
     "end_time": "2024-01-05T15:15:46.379472Z",
     "start_time": "2024-01-05T15:15:46.361271300Z"
    }
   },
   "id": "b9f86156928fb5a9"
  },
  {
   "cell_type": "code",
   "execution_count": 27,
   "outputs": [
    {
     "data": {
      "text/plain": "cfg                  False\ndataset              False\ndata_seed            False\nproxy                 True\ntrain_size           False\nuse_all_proxies      False\nuse_features         False\nuse_flops_params     False\nuse_onehot           False\nuse_path_encoding    False\ntau                  False\ncorr                 False\nfit_time             False\ntest_time            False\ndtype: bool"
     },
     "execution_count": 27,
     "metadata": {},
     "output_type": "execute_result"
    }
   ],
   "source": [
    "df.isna().any(axis=0)"
   ],
   "metadata": {
    "collapsed": false,
    "ExecuteTime": {
     "end_time": "2024-01-05T15:15:46.639539Z",
     "start_time": "2024-01-05T15:15:46.589991500Z"
    }
   },
   "id": "9056a33cd18ad3ed"
  },
  {
   "cell_type": "code",
   "execution_count": 28,
   "outputs": [
    {
     "data": {
      "text/plain": "array(['FP + onehot', 'FP + onehot + path', 'ZCP', 'ZCP + features',\n       'ZCP + features + onehot', 'ZCP + features + onehot + path',\n       'ZCP + features + path', 'ZCP + onehot', 'ZCP + onehot + path',\n       'ZCP + path', 'features', 'features + FP',\n       'features + FP + onehot', 'features + FP + onehot + path',\n       'features + FP + path', 'features + onehot',\n       'features + onehot + path', 'features + path', 'onehot',\n       'onehot + path'], dtype=object)"
     },
     "execution_count": 28,
     "metadata": {},
     "output_type": "execute_result"
    }
   ],
   "source": [
    "df['name'] = [get_name(df.iloc[i]) for i in range(len(df))]\n",
    "df.sort_values('name', inplace=True)\n",
    "df['name'].unique()"
   ],
   "metadata": {
    "collapsed": false,
    "ExecuteTime": {
     "end_time": "2024-01-05T15:15:47.968768300Z",
     "start_time": "2024-01-05T15:15:46.848986600Z"
    }
   },
   "id": "12f69787930d0a74"
  },
  {
   "cell_type": "code",
   "execution_count": 29,
   "outputs": [],
   "source": [
    "import seaborn as sns\n",
    "import matplotlib.pyplot as plt\n",
    "sns.set()"
   ],
   "metadata": {
    "collapsed": false,
    "ExecuteTime": {
     "end_time": "2024-01-05T15:15:48.015789500Z",
     "start_time": "2024-01-05T15:15:47.971056900Z"
    }
   },
   "id": "90e8d54aad355cb8"
  },
  {
   "cell_type": "code",
   "execution_count": 41,
   "outputs": [
    {
     "data": {
      "text/plain": "<Figure size 720x576 with 1 Axes>",
      "image/png": "[encoded data removed]"
     },
     "metadata": {},
     "output_type": "display_data"
    }
   ],
   "source": [
    "dataset = 'cifar10'\n",
    "train_size = 128\n",
    "metric = 'tau'\n",
    "\n",
    "cond = ~(df['name'].str.contains('FP')) & ~(df['name'].str.contains('path'))\n",
    "# cond = True\n",
    "plotdf = df[(df['dataset'] == dataset) & (df['train_size'] == train_size) & cond]\n",
    "\n",
    "plt.figure(figsize=(10, 8))\n",
    "sns.boxplot(data=plotdf, x=metric, y='name')\n",
    "plt.title(f'{bench} {dataset} accuracy - {train_size} train nets')\n",
    "plt.tight_layout()\n",
    "plt.savefig(f'./figs/{bench}-{dataset}-{train_size}.png')\n",
    "plt.show()"
   ],
   "metadata": {
    "collapsed": false,
    "ExecuteTime": {
     "end_time": "2024-01-05T15:59:06.106747500Z",
     "start_time": "2024-01-05T15:59:05.339382800Z"
    }
   },
   "id": "e701be609d02199"
  },
  {
   "cell_type": "code",
   "execution_count": 37,
   "outputs": [
    {
     "data": {
      "text/plain": "                                        cfg  dataset  data_seed  proxy  \\\n7502  ../zc_combine/configs/nb201_full.json  cifar10       44.0    NaN   \n7501  ../zc_combine/configs/nb201_full.json  cifar10       43.0    NaN   \n7500  ../zc_combine/configs/nb201_full.json  cifar10       42.0    NaN   \n7503  ../zc_combine/configs/nb201_full.json  cifar10       45.0    NaN   \n7504  ../zc_combine/configs/nb201_full.json  cifar10       46.0    NaN   \n...                                     ...      ...        ...    ...   \n8328  ../zc_combine/configs/nb201_full.json  cifar10       70.0    NaN   \n8327  ../zc_combine/configs/nb201_full.json  cifar10       69.0    NaN   \n8337  ../zc_combine/configs/nb201_full.json  cifar10       79.0    NaN   \n8301  ../zc_combine/configs/nb201_full.json  cifar10       43.0    NaN   \n8300  ../zc_combine/configs/nb201_full.json  cifar10       42.0    NaN   \n\n      train_size  use_all_proxies  use_features  use_flops_params  use_onehot  \\\n7502          32             True         False             False       False   \n7501          32             True         False             False       False   \n7500          32             True         False             False       False   \n7503          32             True         False             False       False   \n7504          32             True         False             False       False   \n...          ...              ...           ...               ...         ...   \n8328          32            False         False             False        True   \n8327          32            False         False             False        True   \n8337          32            False         False             False        True   \n8301          32            False         False             False        True   \n8300          32            False         False             False        True   \n\n      use_path_encoding       tau      corr  fit_time  test_time    name  \n7502              False  0.709292  0.892363  0.205671   0.069294     ZCP  \n7501              False  0.727112  0.901495  0.180444   0.048878     ZCP  \n7500              False  0.672828  0.859845  0.252868   0.070769     ZCP  \n7503              False  0.668732  0.857107  0.112733   0.069957     ZCP  \n7504              False  0.618804  0.811811  0.114198   0.055054     ZCP  \n...                 ...       ...       ...       ...        ...     ...  \n8328              False  0.335515  0.489528  0.195677   0.050756  onehot  \n8327              False  0.413308  0.591522  0.208982   0.062434  onehot  \n8337              False  0.394605  0.561738  0.129289   0.047769  onehot  \n8301              False  0.420145  0.592770  0.203366   0.050458  onehot  \n8300              False  0.328962  0.477576  0.183203   0.047922  onehot  \n\n[350 rows x 15 columns]",
      "text/html": "<div>\n<style scoped>\n    .dataframe tbody tr th:only-of-type {\n        vertical-align: middle;\n    }\n\n    .dataframe tbody tr th {\n        vertical-align: top;\n    }\n\n    .dataframe thead th {\n        text-align: right;\n    }\n</style>\n<table border=\"1\" class=\"dataframe\">\n  <thead>\n    <tr style=\"text-align: right;\">\n      <th></th>\n      <th>cfg</th>\n      <th>dataset</th>\n      <th>data_seed</th>\n      <th>proxy</th>\n      <th>train_size</th>\n      <th>use_all_proxies</th>\n      <th>use_features</th>\n      <th>use_flops_params</th>\n      <th>use_onehot</th>\n      <th>use_path_encoding</th>\n      <th>tau</th>\n      <th>corr</th>\n      <th>fit_time</th>\n      <th>test_time</th>\n      <th>name</th>\n    </tr>\n  </thead>\n  <tbody>\n    <tr>\n      <th>7502</th>\n      <td>../zc_combine/configs/nb201_full.json</td>\n      <td>cifar10</td>\n      <td>44.0</td>\n      <td>NaN</td>\n      <td>32</td>\n      <td>True</td>\n      <td>False</td>\n      <td>False</td>\n      <td>False</td>\n      <td>False</td>\n      <td>0.709292</td>\n      <td>0.892363</td>\n      <td>0.205671</td>\n      <td>0.069294</td>\n      <td>ZCP</td>\n    </tr>\n    <tr>\n      <th>7501</th>\n      <td>../zc_combine/configs/nb201_full.json</td>\n      <td>cifar10</td>\n      <td>43.0</td>\n      <td>NaN</td>\n      <td>32</td>\n      <td>True</td>\n      <td>False</td>\n      <td>False</td>\n      <td>False</td>\n      <td>False</td>\n      <td>0.727112</td>\n      <td>0.901495</td>\n      <td>0.180444</td>\n      <td>0.048878</td>\n      <td>ZCP</td>\n    </tr>\n    <tr>\n      <th>7500</th>\n      <td>../zc_combine/configs/nb201_full.json</td>\n      <td>cifar10</td>\n      <td>42.0</td>\n      <td>NaN</td>\n      <td>32</td>\n      <td>True</td>\n      <td>False</td>\n      <td>False</td>\n      <td>False</td>\n      <td>False</td>\n      <td>0.672828</td>\n      <td>0.859845</td>\n      <td>0.252868</td>\n      <td>0.070769</td>\n      <td>ZCP</td>\n    </tr>\n    <tr>\n      <th>7503</th>\n      <td>../zc_combine/configs/nb201_full.json</td>\n      <td>cifar10</td>\n      <td>45.0</td>\n      <td>NaN</td>\n      <td>32</td>\n      <td>True</td>\n      <td>False</td>\n      <td>False</td>\n      <td>False</td>\n      <td>False</td>\n      <td>0.668732</td>\n      <td>0.857107</td>\n      <td>0.112733</td>\n      <td>0.069957</td>\n      <td>ZCP</td>\n    </tr>\n    <tr>\n      <th>7504</th>\n      <td>../zc_combine/configs/nb201_full.json</td>\n      <td>cifar10</td>\n      <td>46.0</td>\n      <td>NaN</td>\n      <td>32</td>\n      <td>True</td>\n      <td>False</td>\n      <td>False</td>\n      <td>False</td>\n      <td>False</td>\n      <td>0.618804</td>\n      <td>0.811811</td>\n      <td>0.114198</td>\n      <td>0.055054</td>\n      <td>ZCP</td>\n    </tr>\n    <tr>\n      <th>...</th>\n      <td>...</td>\n      <td>...</td>\n      <td>...</td>\n      <td>...</td>\n      <td>...</td>\n      <td>...</td>\n      <td>...</td>\n      <td>...</td>\n      <td>...</td>\n      <td>...</td>\n      <td>...</td>\n      <td>...</td>\n      <td>...</td>\n      <td>...</td>\n      <td>...</td>\n    </tr>\n    <tr>\n      <th>8328</th>\n      <td>../zc_combine/configs/nb201_full.json</td>\n      <td>cifar10</td>\n      <td>70.0</td>\n      <td>NaN</td>\n      <td>32</td>\n      <td>False</td>\n      <td>False</td>\n      <td>False</td>\n      <td>True</td>\n      <td>False</td>\n      <td>0.335515</td>\n      <td>0.489528</td>\n      <td>0.195677</td>\n      <td>0.050756</td>\n      <td>onehot</td>\n    </tr>\n    <tr>\n      <th>8327</th>\n      <td>../zc_combine/configs/nb201_full.json</td>\n      <td>cifar10</td>\n      <td>69.0</td>\n      <td>NaN</td>\n      <td>32</td>\n      <td>False</td>\n      <td>False</td>\n      <td>False</td>\n      <td>True</td>\n      <td>False</td>\n      <td>0.413308</td>\n      <td>0.591522</td>\n      <td>0.208982</td>\n      <td>0.062434</td>\n      <td>onehot</td>\n    </tr>\n    <tr>\n      <th>8337</th>\n      <td>../zc_combine/configs/nb201_full.json</td>\n      <td>cifar10</td>\n      <td>79.0</td>\n      <td>NaN</td>\n      <td>32</td>\n      <td>False</td>\n      <td>False</td>\n      <td>False</td>\n      <td>True</td>\n      <td>False</td>\n      <td>0.394605</td>\n      <td>0.561738</td>\n      <td>0.129289</td>\n      <td>0.047769</td>\n      <td>onehot</td>\n    </tr>\n    <tr>\n      <th>8301</th>\n      <td>../zc_combine/configs/nb201_full.json</td>\n      <td>cifar10</td>\n      <td>43.0</td>\n      <td>NaN</td>\n      <td>32</td>\n      <td>False</td>\n      <td>False</td>\n      <td>False</td>\n      <td>True</td>\n      <td>False</td>\n      <td>0.420145</td>\n      <td>0.592770</td>\n      <td>0.203366</td>\n      <td>0.050458</td>\n      <td>onehot</td>\n    </tr>\n    <tr>\n      <th>8300</th>\n      <td>../zc_combine/configs/nb201_full.json</td>\n      <td>cifar10</td>\n      <td>42.0</td>\n      <td>NaN</td>\n      <td>32</td>\n      <td>False</td>\n      <td>False</td>\n      <td>False</td>\n      <td>True</td>\n      <td>False</td>\n      <td>0.328962</td>\n      <td>0.477576</td>\n      <td>0.183203</td>\n      <td>0.047922</td>\n      <td>onehot</td>\n    </tr>\n  </tbody>\n</table>\n<p>350 rows × 15 columns</p>\n</div>"
     },
     "execution_count": 37,
     "metadata": {},
     "output_type": "execute_result"
    }
   ],
   "source": [
    "plotdf"
   ],
   "metadata": {
    "collapsed": false,
    "ExecuteTime": {
     "end_time": "2024-01-05T15:58:04.788200100Z",
     "start_time": "2024-01-05T15:58:04.316159900Z"
    }
   },
   "id": "54c104a8fe63b1b9"
  },
  {
   "cell_type": "code",
   "outputs": [],
   "source": [],
   "metadata": {
    "collapsed": false
   },
   "id": "7b6a70edf530a6a1"
  }
 ],
 "metadata": {
  "kernelspec": {
   "display_name": "Python 3",
   "language": "python",
   "name": "python3"
  },
  "language_info": {
   "codemirror_mode": {
    "name": "ipython",
    "version": 2
   },
   "file_extension": ".py",
   "mimetype": "text/x-python",
   "name": "python",
   "nbconvert_exporter": "python",
   "pygments_lexer": "ipython2",
   "version": "2.7.6"
  }
 },
 "nbformat": 4,
 "nbformat_minor": 5
}
