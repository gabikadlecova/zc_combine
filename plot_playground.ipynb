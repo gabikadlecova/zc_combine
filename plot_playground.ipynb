{
 "cells": [
  {
   "cell_type": "markdown",
   "source": [
    "## TODOs\n",
    "- make script out of this (but first make it pretty)\n",
    "- plot design\n",
    "    - better ordering of rows\n",
    "    - better simple features name\n",
    "    - title"
   ],
   "metadata": {
    "collapsed": false
   },
   "id": "3bf3084121d560a9"
  },
  {
   "cell_type": "code",
   "execution_count": 2,
   "outputs": [
    {
     "data": {
      "text/plain": "                                     cfg   dataset  data_seed  proxy  \\\n0  ../zc_combine/configs/nb201_full.json  cifar100       42.0    NaN   \n1  ../zc_combine/configs/nb201_full.json  cifar100       43.0    NaN   \n2  ../zc_combine/configs/nb201_full.json  cifar100       44.0    NaN   \n3  ../zc_combine/configs/nb201_full.json  cifar100       45.0    NaN   \n4  ../zc_combine/configs/nb201_full.json  cifar100       46.0    NaN   \n\n   train_size  use_all_proxies  use_features use_flops_params  use_onehot  \\\n0        1024             True         False              NaN       False   \n1        1024             True         False              NaN       False   \n2        1024             True         False              NaN       False   \n3        1024             True         False              NaN       False   \n4        1024             True         False              NaN       False   \n\n        tau      corr  fit_time  test_time  \n0  0.808887  0.949089  1.141518   0.135411  \n1  0.807989  0.948160  0.951741   0.141485  \n2  0.807041  0.947862  0.744174   0.116246  \n3  0.807063  0.947255  0.770656   0.094718  \n4  0.811425  0.949809  0.856378   0.099119  ",
      "text/html": "<div>\n<style scoped>\n    .dataframe tbody tr th:only-of-type {\n        vertical-align: middle;\n    }\n\n    .dataframe tbody tr th {\n        vertical-align: top;\n    }\n\n    .dataframe thead th {\n        text-align: right;\n    }\n</style>\n<table border=\"1\" class=\"dataframe\">\n  <thead>\n    <tr style=\"text-align: right;\">\n      <th></th>\n      <th>cfg</th>\n      <th>dataset</th>\n      <th>data_seed</th>\n      <th>proxy</th>\n      <th>train_size</th>\n      <th>use_all_proxies</th>\n      <th>use_features</th>\n      <th>use_flops_params</th>\n      <th>use_onehot</th>\n      <th>tau</th>\n      <th>corr</th>\n      <th>fit_time</th>\n      <th>test_time</th>\n    </tr>\n  </thead>\n  <tbody>\n    <tr>\n      <th>0</th>\n      <td>../zc_combine/configs/nb201_full.json</td>\n      <td>cifar100</td>\n      <td>42.0</td>\n      <td>NaN</td>\n      <td>1024</td>\n      <td>True</td>\n      <td>False</td>\n      <td>NaN</td>\n      <td>False</td>\n      <td>0.808887</td>\n      <td>0.949089</td>\n      <td>1.141518</td>\n      <td>0.135411</td>\n    </tr>\n    <tr>\n      <th>1</th>\n      <td>../zc_combine/configs/nb201_full.json</td>\n      <td>cifar100</td>\n      <td>43.0</td>\n      <td>NaN</td>\n      <td>1024</td>\n      <td>True</td>\n      <td>False</td>\n      <td>NaN</td>\n      <td>False</td>\n      <td>0.807989</td>\n      <td>0.948160</td>\n      <td>0.951741</td>\n      <td>0.141485</td>\n    </tr>\n    <tr>\n      <th>2</th>\n      <td>../zc_combine/configs/nb201_full.json</td>\n      <td>cifar100</td>\n      <td>44.0</td>\n      <td>NaN</td>\n      <td>1024</td>\n      <td>True</td>\n      <td>False</td>\n      <td>NaN</td>\n      <td>False</td>\n      <td>0.807041</td>\n      <td>0.947862</td>\n      <td>0.744174</td>\n      <td>0.116246</td>\n    </tr>\n    <tr>\n      <th>3</th>\n      <td>../zc_combine/configs/nb201_full.json</td>\n      <td>cifar100</td>\n      <td>45.0</td>\n      <td>NaN</td>\n      <td>1024</td>\n      <td>True</td>\n      <td>False</td>\n      <td>NaN</td>\n      <td>False</td>\n      <td>0.807063</td>\n      <td>0.947255</td>\n      <td>0.770656</td>\n      <td>0.094718</td>\n    </tr>\n    <tr>\n      <th>4</th>\n      <td>../zc_combine/configs/nb201_full.json</td>\n      <td>cifar100</td>\n      <td>46.0</td>\n      <td>NaN</td>\n      <td>1024</td>\n      <td>True</td>\n      <td>False</td>\n      <td>NaN</td>\n      <td>False</td>\n      <td>0.811425</td>\n      <td>0.949809</td>\n      <td>0.856378</td>\n      <td>0.099119</td>\n    </tr>\n  </tbody>\n</table>\n</div>"
     },
     "execution_count": 2,
     "metadata": {},
     "output_type": "execute_result"
    }
   ],
   "source": [
    "import pandas as pd\n",
    "\n",
    "df = pd.read_csv('./results/data/nb201_all.csv', index_col=0)\n",
    "df.head()"
   ],
   "metadata": {
    "collapsed": true,
    "ExecuteTime": {
     "end_time": "2023-12-12T16:07:19.729918900Z",
     "start_time": "2023-12-12T16:07:18.210818300Z"
    }
   },
   "id": "initial_id"
  },
  {
   "cell_type": "code",
   "execution_count": 8,
   "outputs": [],
   "source": [
    "df['use_flops_params'].fillna(False, inplace=True)"
   ],
   "metadata": {
    "collapsed": false,
    "ExecuteTime": {
     "end_time": "2023-12-12T16:09:44.812803200Z",
     "start_time": "2023-12-12T16:09:44.772413700Z"
    }
   },
   "id": "2d4b3d457aa37555"
  },
  {
   "cell_type": "code",
   "execution_count": 20,
   "outputs": [],
   "source": [
    "def get_name(row):\n",
    "    strset = [\n",
    "        \"ZCP\" if row['use_all_proxies'] else None,\n",
    "        \"features\" if row['use_features'] else None,\n",
    "        \"FP\" if row['use_flops_params'] and not row['use_all_proxies'] else None,\n",
    "        \"onehot\" if row['use_onehot'] else None\n",
    "    ]\n",
    "    \n",
    "    return ' + '.join([s for s in strset if s is not None])"
   ],
   "metadata": {
    "collapsed": false,
    "ExecuteTime": {
     "end_time": "2023-12-12T16:14:30.420067800Z",
     "start_time": "2023-12-12T16:14:30.404670100Z"
    }
   },
   "id": "b9f86156928fb5a9"
  },
  {
   "cell_type": "code",
   "execution_count": 21,
   "outputs": [],
   "source": [
    "df['name'] = [get_name(df.iloc[i]) for i in range(len(df))]"
   ],
   "metadata": {
    "collapsed": false,
    "ExecuteTime": {
     "end_time": "2023-12-12T16:14:31.518305Z",
     "start_time": "2023-12-12T16:14:30.659444600Z"
    }
   },
   "id": "12f69787930d0a74"
  },
  {
   "cell_type": "code",
   "execution_count": 17,
   "outputs": [],
   "source": [
    "import seaborn as sns\n",
    "import matplotlib.pyplot as plt\n",
    "sns.set()"
   ],
   "metadata": {
    "collapsed": false,
    "ExecuteTime": {
     "end_time": "2023-12-12T16:13:52.054879600Z",
     "start_time": "2023-12-12T16:13:52.029471700Z"
    }
   },
   "id": "90e8d54aad355cb8"
  },
  {
   "cell_type": "code",
   "execution_count": 30,
   "outputs": [
    {
     "data": {
      "text/plain": "<Figure size 720x576 with 1 Axes>",
      "image/png": "[encoded data removed]"
     },
     "metadata": {},
     "output_type": "display_data"
    }
   ],
   "source": [
    "dataset = 'cifar10'\n",
    "train_size = 1024\n",
    "metric = 'tau'\n",
    "\n",
    "plotdf = df[(df['dataset'] == dataset) & (df['train_size'] == train_size)]\n",
    "\n",
    "plt.figure(figsize=(10, 8))\n",
    "sns.boxplot(data=plotdf, x=metric, y='name')\n",
    "plt.show()"
   ],
   "metadata": {
    "collapsed": false,
    "ExecuteTime": {
     "end_time": "2023-12-12T16:27:40.400486400Z",
     "start_time": "2023-12-12T16:27:39.165062700Z"
    }
   },
   "id": "e701be609d02199"
  },
  {
   "cell_type": "code",
   "execution_count": null,
   "outputs": [],
   "source": [],
   "metadata": {
    "collapsed": false
   },
   "id": "7dbb493f63aeaf1c"
  }
 ],
 "metadata": {
  "kernelspec": {
   "display_name": "Python 3",
   "language": "python",
   "name": "python3"
  },
  "language_info": {
   "codemirror_mode": {
    "name": "ipython",
    "version": 2
   },
   "file_extension": ".py",
   "mimetype": "text/x-python",
   "name": "python",
   "nbconvert_exporter": "python",
   "pygments_lexer": "ipython2",
   "version": "2.7.6"
  }
 },
 "nbformat": 4,
 "nbformat_minor": 5
}
