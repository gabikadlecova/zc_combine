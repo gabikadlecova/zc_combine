{
 "cells": [
  {
   "cell_type": "code",
   "execution_count": 16,
   "metadata": {
    "collapsed": true,
    "ExecuteTime": {
     "start_time": "2023-03-21T15:34:39.780852Z",
     "end_time": "2023-03-21T15:34:39.840663Z"
    }
   },
   "outputs": [
    {
     "data": {
      "text/plain": "['zc_transbench101_macro',\n 'zc_transbench101_micro',\n 'zc_nasbench301',\n 'zc_nasbench201',\n 'zc_nasbench101']"
     },
     "execution_count": 16,
     "metadata": {},
     "output_type": "execute_result"
    }
   ],
   "source": [
    "import os\n",
    "import pandas as pd\n",
    "\n",
    "\n",
    "from zc_combine.utils.naslib_utils import parse_scores, load_search_space, load_search_spaces_multiple\n",
    "from zc_combine.ensemble.filter import common_n_largest, filter_by_zc\n",
    "from zc_combine.utils.plot_utils import plot_common_networks, plot_accuracy_histogram, plot_networks_by_zc, plot_top_accuracy_zc, plot_filtered_by_zc, plot_filtered_ranks\n",
    "from zc_combine.ensemble.eval import get_stats_zc, get_stats_ranks\n",
    "\n",
    "naslib_path = '../zero_cost/NASLib'\n",
    "\n",
    "all_spaces = [os.path.splitext(f)[0] for f in os.listdir(os.path.join(naslib_path, 'naslib/data/')) if '.json' in f]\n",
    "all_spaces"
   ]
  },
  {
   "cell_type": "code",
   "execution_count": 17,
   "outputs": [],
   "source": [
    "what = 'zc_nasbench201'\n",
    "\n",
    "zc_bench = load_search_space(naslib_path, what)\n",
    "dfs = parse_scores(zc_bench)"
   ],
   "metadata": {
    "collapsed": false,
    "ExecuteTime": {
     "start_time": "2023-03-21T15:34:39.847666Z",
     "end_time": "2023-03-21T15:35:05.947429Z"
    }
   }
  },
  {
   "cell_type": "code",
   "execution_count": 18,
   "outputs": [
    {
     "data": {
      "text/plain": "Index(['net', 'val_accs', 'epe_nas', 'fisher', 'flops', 'grad_norm', 'grasp',\n       'jacov', 'l2_norm', 'nwot', 'params', 'plain', 'snip', 'synflow', 'zen',\n       'random'],\n      dtype='object')"
     },
     "execution_count": 18,
     "metadata": {},
     "output_type": "execute_result"
    }
   ],
   "source": [
    "dfs['cifar10'].columns"
   ],
   "metadata": {
    "collapsed": false,
    "ExecuteTime": {
     "start_time": "2023-03-21T15:35:05.939906Z",
     "end_time": "2023-03-21T15:35:06.088524Z"
    }
   }
  },
  {
   "cell_type": "code",
   "execution_count": 19,
   "outputs": [],
   "source": [
    "dataset = 'cifar10'\n",
    "trio = ['synflow', 'snip', 'jacov']\n",
    "n_vals = 200\n",
    "\n",
    "data = dfs[dataset][[c for c in trio]].iloc[:n_vals]"
   ],
   "metadata": {
    "collapsed": false,
    "ExecuteTime": {
     "start_time": "2023-03-21T15:35:06.033780Z",
     "end_time": "2023-03-21T15:35:06.399675Z"
    }
   }
  },
  {
   "cell_type": "code",
   "execution_count": 20,
   "outputs": [
    {
     "data": {
      "text/plain": "       synflow       snip         jacov\n0    44.484811  22.923178 -8.828987e+01\n1    85.295247  26.610859 -6.519331e+01\n2    51.838876  44.178249 -6.615395e+01\n3    60.212156  51.889561 -6.528531e+01\n4     0.000000   0.000000 -1.000000e+08\n..         ...        ...           ...\n195  64.252077  15.870172 -6.516611e+01\n196  71.502344  81.845146 -6.579324e+01\n197  61.461608  38.061649 -6.848107e+01\n198  58.040179  77.397430 -6.569703e+01\n199  35.990530  19.632498 -7.849683e+01\n\n[200 rows x 3 columns]",
      "text/html": "<div>\n<style scoped>\n    .dataframe tbody tr th:only-of-type {\n        vertical-align: middle;\n    }\n\n    .dataframe tbody tr th {\n        vertical-align: top;\n    }\n\n    .dataframe thead th {\n        text-align: right;\n    }\n</style>\n<table border=\"1\" class=\"dataframe\">\n  <thead>\n    <tr style=\"text-align: right;\">\n      <th></th>\n      <th>synflow</th>\n      <th>snip</th>\n      <th>jacov</th>\n    </tr>\n  </thead>\n  <tbody>\n    <tr>\n      <th>0</th>\n      <td>44.484811</td>\n      <td>22.923178</td>\n      <td>-8.828987e+01</td>\n    </tr>\n    <tr>\n      <th>1</th>\n      <td>85.295247</td>\n      <td>26.610859</td>\n      <td>-6.519331e+01</td>\n    </tr>\n    <tr>\n      <th>2</th>\n      <td>51.838876</td>\n      <td>44.178249</td>\n      <td>-6.615395e+01</td>\n    </tr>\n    <tr>\n      <th>3</th>\n      <td>60.212156</td>\n      <td>51.889561</td>\n      <td>-6.528531e+01</td>\n    </tr>\n    <tr>\n      <th>4</th>\n      <td>0.000000</td>\n      <td>0.000000</td>\n      <td>-1.000000e+08</td>\n    </tr>\n    <tr>\n      <th>...</th>\n      <td>...</td>\n      <td>...</td>\n      <td>...</td>\n    </tr>\n    <tr>\n      <th>195</th>\n      <td>64.252077</td>\n      <td>15.870172</td>\n      <td>-6.516611e+01</td>\n    </tr>\n    <tr>\n      <th>196</th>\n      <td>71.502344</td>\n      <td>81.845146</td>\n      <td>-6.579324e+01</td>\n    </tr>\n    <tr>\n      <th>197</th>\n      <td>61.461608</td>\n      <td>38.061649</td>\n      <td>-6.848107e+01</td>\n    </tr>\n    <tr>\n      <th>198</th>\n      <td>58.040179</td>\n      <td>77.397430</td>\n      <td>-6.569703e+01</td>\n    </tr>\n    <tr>\n      <th>199</th>\n      <td>35.990530</td>\n      <td>19.632498</td>\n      <td>-7.849683e+01</td>\n    </tr>\n  </tbody>\n</table>\n<p>200 rows × 3 columns</p>\n</div>"
     },
     "execution_count": 20,
     "metadata": {},
     "output_type": "execute_result"
    }
   ],
   "source": [
    "data"
   ],
   "metadata": {
    "collapsed": false,
    "ExecuteTime": {
     "start_time": "2023-03-21T15:35:06.234867Z",
     "end_time": "2023-03-21T15:35:06.441673Z"
    }
   }
  },
  {
   "cell_type": "code",
   "execution_count": 21,
   "outputs": [
    {
     "data": {
      "text/plain": "        synflow snip jacov\n0   0       NaN  NaN   NaN\n    1       NaN  NaN   NaN\n    2       NaN  NaN   NaN\n    3       NaN  NaN   NaN\n    4       NaN  NaN   NaN\n...         ...  ...   ...\n199 195     NaN  NaN   NaN\n    196     NaN  NaN   NaN\n    197     NaN  NaN   NaN\n    198     NaN  NaN   NaN\n    199     NaN  NaN   NaN\n\n[40000 rows x 3 columns]",
      "text/html": "<div>\n<style scoped>\n    .dataframe tbody tr th:only-of-type {\n        vertical-align: middle;\n    }\n\n    .dataframe tbody tr th {\n        vertical-align: top;\n    }\n\n    .dataframe thead th {\n        text-align: right;\n    }\n</style>\n<table border=\"1\" class=\"dataframe\">\n  <thead>\n    <tr style=\"text-align: right;\">\n      <th></th>\n      <th></th>\n      <th>synflow</th>\n      <th>snip</th>\n      <th>jacov</th>\n    </tr>\n  </thead>\n  <tbody>\n    <tr>\n      <th rowspan=\"5\" valign=\"top\">0</th>\n      <th>0</th>\n      <td>NaN</td>\n      <td>NaN</td>\n      <td>NaN</td>\n    </tr>\n    <tr>\n      <th>1</th>\n      <td>NaN</td>\n      <td>NaN</td>\n      <td>NaN</td>\n    </tr>\n    <tr>\n      <th>2</th>\n      <td>NaN</td>\n      <td>NaN</td>\n      <td>NaN</td>\n    </tr>\n    <tr>\n      <th>3</th>\n      <td>NaN</td>\n      <td>NaN</td>\n      <td>NaN</td>\n    </tr>\n    <tr>\n      <th>4</th>\n      <td>NaN</td>\n      <td>NaN</td>\n      <td>NaN</td>\n    </tr>\n    <tr>\n      <th>...</th>\n      <th>...</th>\n      <td>...</td>\n      <td>...</td>\n      <td>...</td>\n    </tr>\n    <tr>\n      <th rowspan=\"5\" valign=\"top\">199</th>\n      <th>195</th>\n      <td>NaN</td>\n      <td>NaN</td>\n      <td>NaN</td>\n    </tr>\n    <tr>\n      <th>196</th>\n      <td>NaN</td>\n      <td>NaN</td>\n      <td>NaN</td>\n    </tr>\n    <tr>\n      <th>197</th>\n      <td>NaN</td>\n      <td>NaN</td>\n      <td>NaN</td>\n    </tr>\n    <tr>\n      <th>198</th>\n      <td>NaN</td>\n      <td>NaN</td>\n      <td>NaN</td>\n    </tr>\n    <tr>\n      <th>199</th>\n      <td>NaN</td>\n      <td>NaN</td>\n      <td>NaN</td>\n    </tr>\n  </tbody>\n</table>\n<p>40000 rows × 3 columns</p>\n</div>"
     },
     "execution_count": 21,
     "metadata": {},
     "output_type": "execute_result"
    }
   ],
   "source": [
    "result = pd.DataFrame(columns=data.columns,\n",
    "                      index=pd.MultiIndex.from_product([data.index, data.index]))\n",
    "result"
   ],
   "metadata": {
    "collapsed": false,
    "ExecuteTime": {
     "start_time": "2023-03-21T15:35:06.344812Z",
     "end_time": "2023-03-21T15:35:06.450432Z"
    }
   }
  },
  {
   "cell_type": "code",
   "execution_count": 22,
   "outputs": [
    {
     "data": {
      "text/plain": "         synflow   snip  jacov\n0   0       True   True   True\n    1       True   True   True\n    2       True   True   True\n    3       True   True   True\n    4      False  False  False\n...          ...    ...    ...\n199 195     True  False   True\n    196     True   True   True\n    197     True   True   True\n    198     True   True   True\n    199     True   True   True\n\n[40000 rows x 3 columns]",
      "text/html": "<div>\n<style scoped>\n    .dataframe tbody tr th:only-of-type {\n        vertical-align: middle;\n    }\n\n    .dataframe tbody tr th {\n        vertical-align: top;\n    }\n\n    .dataframe thead th {\n        text-align: right;\n    }\n</style>\n<table border=\"1\" class=\"dataframe\">\n  <thead>\n    <tr style=\"text-align: right;\">\n      <th></th>\n      <th></th>\n      <th>synflow</th>\n      <th>snip</th>\n      <th>jacov</th>\n    </tr>\n  </thead>\n  <tbody>\n    <tr>\n      <th rowspan=\"5\" valign=\"top\">0</th>\n      <th>0</th>\n      <td>True</td>\n      <td>True</td>\n      <td>True</td>\n    </tr>\n    <tr>\n      <th>1</th>\n      <td>True</td>\n      <td>True</td>\n      <td>True</td>\n    </tr>\n    <tr>\n      <th>2</th>\n      <td>True</td>\n      <td>True</td>\n      <td>True</td>\n    </tr>\n    <tr>\n      <th>3</th>\n      <td>True</td>\n      <td>True</td>\n      <td>True</td>\n    </tr>\n    <tr>\n      <th>4</th>\n      <td>False</td>\n      <td>False</td>\n      <td>False</td>\n    </tr>\n    <tr>\n      <th>...</th>\n      <th>...</th>\n      <td>...</td>\n      <td>...</td>\n      <td>...</td>\n    </tr>\n    <tr>\n      <th rowspan=\"5\" valign=\"top\">199</th>\n      <th>195</th>\n      <td>True</td>\n      <td>False</td>\n      <td>True</td>\n    </tr>\n    <tr>\n      <th>196</th>\n      <td>True</td>\n      <td>True</td>\n      <td>True</td>\n    </tr>\n    <tr>\n      <th>197</th>\n      <td>True</td>\n      <td>True</td>\n      <td>True</td>\n    </tr>\n    <tr>\n      <th>198</th>\n      <td>True</td>\n      <td>True</td>\n      <td>True</td>\n    </tr>\n    <tr>\n      <th>199</th>\n      <td>True</td>\n      <td>True</td>\n      <td>True</td>\n    </tr>\n  </tbody>\n</table>\n<p>40000 rows × 3 columns</p>\n</div>"
     },
     "execution_count": 22,
     "metadata": {},
     "output_type": "execute_result"
    }
   ],
   "source": [
    "import numpy as np\n",
    "\n",
    "\n",
    "for c in result.columns:\n",
    "    result[c] = np.less_equal.outer(data[c].to_numpy(), data[c].to_numpy()).ravel()\n",
    "\n",
    "result"
   ],
   "metadata": {
    "collapsed": false,
    "ExecuteTime": {
     "start_time": "2023-03-21T15:35:06.451445Z",
     "end_time": "2023-03-21T15:35:06.540792Z"
    }
   }
  },
  {
   "cell_type": "code",
   "execution_count": 23,
   "outputs": [
    {
     "data": {
      "text/plain": "         synflow  snip  jacov\n0   0          1     1      1\n    1          1     1      1\n    2          1     1      1\n    3          1     1      1\n    4          0     0      0\n...          ...   ...    ...\n199 195        1     0      1\n    196        1     1      1\n    197        1     1      1\n    198        1     1      1\n    199        1     1      1\n\n[40000 rows x 3 columns]",
      "text/html": "<div>\n<style scoped>\n    .dataframe tbody tr th:only-of-type {\n        vertical-align: middle;\n    }\n\n    .dataframe tbody tr th {\n        vertical-align: top;\n    }\n\n    .dataframe thead th {\n        text-align: right;\n    }\n</style>\n<table border=\"1\" class=\"dataframe\">\n  <thead>\n    <tr style=\"text-align: right;\">\n      <th></th>\n      <th></th>\n      <th>synflow</th>\n      <th>snip</th>\n      <th>jacov</th>\n    </tr>\n  </thead>\n  <tbody>\n    <tr>\n      <th rowspan=\"5\" valign=\"top\">0</th>\n      <th>0</th>\n      <td>1</td>\n      <td>1</td>\n      <td>1</td>\n    </tr>\n    <tr>\n      <th>1</th>\n      <td>1</td>\n      <td>1</td>\n      <td>1</td>\n    </tr>\n    <tr>\n      <th>2</th>\n      <td>1</td>\n      <td>1</td>\n      <td>1</td>\n    </tr>\n    <tr>\n      <th>3</th>\n      <td>1</td>\n      <td>1</td>\n      <td>1</td>\n    </tr>\n    <tr>\n      <th>4</th>\n      <td>0</td>\n      <td>0</td>\n      <td>0</td>\n    </tr>\n    <tr>\n      <th>...</th>\n      <th>...</th>\n      <td>...</td>\n      <td>...</td>\n      <td>...</td>\n    </tr>\n    <tr>\n      <th rowspan=\"5\" valign=\"top\">199</th>\n      <th>195</th>\n      <td>1</td>\n      <td>0</td>\n      <td>1</td>\n    </tr>\n    <tr>\n      <th>196</th>\n      <td>1</td>\n      <td>1</td>\n      <td>1</td>\n    </tr>\n    <tr>\n      <th>197</th>\n      <td>1</td>\n      <td>1</td>\n      <td>1</td>\n    </tr>\n    <tr>\n      <th>198</th>\n      <td>1</td>\n      <td>1</td>\n      <td>1</td>\n    </tr>\n    <tr>\n      <th>199</th>\n      <td>1</td>\n      <td>1</td>\n      <td>1</td>\n    </tr>\n  </tbody>\n</table>\n<p>40000 rows × 3 columns</p>\n</div>"
     },
     "execution_count": 23,
     "metadata": {},
     "output_type": "execute_result"
    }
   ],
   "source": [
    "result.astype(int)"
   ],
   "metadata": {
    "collapsed": false,
    "ExecuteTime": {
     "start_time": "2023-03-21T15:35:06.536780Z",
     "end_time": "2023-03-21T15:35:07.164270Z"
    }
   }
  },
  {
   "cell_type": "code",
   "execution_count": 24,
   "outputs": [
    {
     "data": {
      "text/plain": "0    0       True\n     1       True\n     2       True\n     3       True\n     4      False\n            ...  \n199  195     True\n     196     True\n     197     True\n     198     True\n     199     True\nName: comp, Length: 40000, dtype: bool"
     },
     "execution_count": 24,
     "metadata": {},
     "output_type": "execute_result"
    }
   ],
   "source": [
    "result['comp'] = result.sum(axis=1)\n",
    "result['comp'] = result['comp'] > 1\n",
    "result['comp']"
   ],
   "metadata": {
    "collapsed": false,
    "ExecuteTime": {
     "start_time": "2023-03-21T15:35:06.546113Z",
     "end_time": "2023-03-21T15:35:07.221587Z"
    }
   }
  },
  {
   "cell_type": "code",
   "execution_count": 25,
   "outputs": [
    {
     "data": {
      "text/plain": "MultiIndex([(  0,   0),\n            (  0,   1),\n            (  0,   2),\n            (  0,   3),\n            (  0,   5),\n            (  0,   7),\n            (  0,   8),\n            (  0,   9),\n            (  0,  15),\n            (  0,  16),\n            ...\n            (199, 188),\n            (199, 189),\n            (199, 190),\n            (199, 193),\n            (199, 194),\n            (199, 195),\n            (199, 196),\n            (199, 197),\n            (199, 198),\n            (199, 199)],\n           length=20125)"
     },
     "execution_count": 25,
     "metadata": {},
     "output_type": "execute_result"
    }
   ],
   "source": [
    "edges = result[result['comp']]\n",
    "edges.index"
   ],
   "metadata": {
    "collapsed": false,
    "ExecuteTime": {
     "start_time": "2023-03-21T15:35:06.595418Z",
     "end_time": "2023-03-21T15:35:07.221587Z"
    }
   }
  },
  {
   "cell_type": "code",
   "execution_count": 26,
   "outputs": [
    {
     "data": {
      "text/plain": "20125"
     },
     "execution_count": 26,
     "metadata": {},
     "output_type": "execute_result"
    }
   ],
   "source": [
    "len(edges)"
   ],
   "metadata": {
    "collapsed": false,
    "ExecuteTime": {
     "start_time": "2023-03-21T15:35:06.636570Z",
     "end_time": "2023-03-21T15:35:07.222595Z"
    }
   }
  },
  {
   "cell_type": "code",
   "execution_count": 27,
   "outputs": [],
   "source": [
    "edge_set = set(edges.index.to_list())"
   ],
   "metadata": {
    "collapsed": false,
    "ExecuteTime": {
     "start_time": "2023-03-21T15:35:06.665953Z",
     "end_time": "2023-03-21T15:35:11.049537Z"
    }
   }
  },
  {
   "cell_type": "code",
   "execution_count": 28,
   "outputs": [],
   "source": [
    "edge_dict = {}\n",
    "\n",
    "for e0, e1 in edge_set:\n",
    "    vals = edge_dict.setdefault(e0, [])\n",
    "    vals.append(e1)"
   ],
   "metadata": {
    "collapsed": false,
    "ExecuteTime": {
     "start_time": "2023-03-21T15:35:09.718860Z",
     "end_time": "2023-03-21T15:35:11.933097Z"
    }
   }
  },
  {
   "cell_type": "code",
   "execution_count": 29,
   "outputs": [],
   "source": [
    "cycles = 0\n",
    "visited = set()\n",
    "\n",
    "for v1, vals in edge_dict.items():\n",
    "    for v2 in vals:\n",
    "        for v3 in edge_dict[v2]:\n",
    "            key = tuple(sorted((v1, v2, v3)))\n",
    "            if key in visited:\n",
    "                continue\n",
    "\n",
    "            visited.add(key)\n",
    "            if (v3, v1) in edge_set:\n",
    "                cycles += 1"
   ],
   "metadata": {
    "collapsed": false,
    "ExecuteTime": {
     "start_time": "2023-03-21T15:35:11.421567Z",
     "end_time": "2023-03-21T15:35:19.261000Z"
    }
   }
  },
  {
   "cell_type": "code",
   "execution_count": 30,
   "outputs": [
    {
     "data": {
      "text/plain": "13936"
     },
     "execution_count": 30,
     "metadata": {},
     "output_type": "execute_result"
    }
   ],
   "source": [
    "cycles"
   ],
   "metadata": {
    "collapsed": false,
    "ExecuteTime": {
     "start_time": "2023-03-21T15:35:19.177849Z",
     "end_time": "2023-03-21T15:35:19.265325Z"
    }
   }
  },
  {
   "cell_type": "code",
   "execution_count": 31,
   "outputs": [
    {
     "data": {
      "text/plain": "0.01061062890208619"
     },
     "execution_count": 31,
     "metadata": {},
     "output_type": "execute_result"
    }
   ],
   "source": [
    "from math import comb\n",
    "\n",
    "cycles / comb(n_vals, 3)"
   ],
   "metadata": {
    "collapsed": false,
    "ExecuteTime": {
     "start_time": "2023-03-21T15:39:21.513962Z",
     "end_time": "2023-03-21T15:39:21.547062Z"
    }
   }
  },
  {
   "cell_type": "code",
   "execution_count": null,
   "outputs": [],
   "source": [],
   "metadata": {
    "collapsed": false
   }
  }
 ],
 "metadata": {
  "kernelspec": {
   "display_name": "Python 3",
   "language": "python",
   "name": "python3"
  },
  "language_info": {
   "codemirror_mode": {
    "name": "ipython",
    "version": 2
   },
   "file_extension": ".py",
   "mimetype": "text/x-python",
   "name": "python",
   "nbconvert_exporter": "python",
   "pygments_lexer": "ipython2",
   "version": "2.7.6"
  }
 },
 "nbformat": 4,
 "nbformat_minor": 0
}
